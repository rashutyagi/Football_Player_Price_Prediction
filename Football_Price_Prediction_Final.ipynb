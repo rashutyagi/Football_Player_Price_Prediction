{
 "cells": [
  {
   "cell_type": "markdown",
   "metadata": {},
   "source": [
    "# Students who Worked - Rashu Tyagi (5528), Pushpinder Singh(123)."
   ]
  },
  {
   "cell_type": "markdown",
   "metadata": {
    "id": "paEmAu6wiPRa"
   },
   "source": [
    "# Exploratory Data Analysis on the Dataset"
   ]
  },
  {
   "cell_type": "markdown",
   "metadata": {
    "id": "wTx380e2f0y0"
   },
   "source": [
    "The attached data set consists of the following attributes:\n",
    "\n",
    "name: Name of the player\n",
    ">\n",
    "club: Club of the player\n",
    ">\n",
    "age : Age of the player\n",
    ">\n",
    "position : The usual position on the pitch\n",
    ">\n",
    "position_cat : \n",
    "1 for attackers\n",
    "\n",
    "2 for midfielders\n",
    "\n",
    "3 for defenders\n",
    "\n",
    "4 for goalkeepers\n",
    ">\n",
    "market_value : As on transfermrkt.com on July 20th, 2017\n",
    ">\n",
    "page_views : Average daily Wikipedia page views from September 1, 2016 to May 1, 2017\n",
    ">\n",
    "fpl_value : Value in Fantasy Premier League as on July 20th, 2017\n",
    ">\n",
    "fpl_sel : % of FPL players who have selected that player in their team\n",
    ">\n",
    "fpl_points : FPL points accumulated over the previous season\n",
    ">\n",
    "region: \n",
    "1 for England\n",
    "\n",
    "2 for EU\n",
    "\n",
    "3 for Americas\n",
    "\n",
    "4 for Rest of World\n",
    ">\n",
    "nationality\n",
    "new_foreign : Whether a new signing from a different league, for 2017/18 (till 20th July)\n",
    ">\n",
    "age_cat\n",
    ">\n",
    "club_id\n",
    ">\n",
    "big_club: Whether one of the Top 6 clubs\n",
    ">\n",
    "new_signing: Whether a new signing for 2017/18 (till 20th July)"
   ]
  },
  {
   "cell_type": "code",
   "execution_count": 105,
   "metadata": {
    "id": "d3G75K2zgQwI"
   },
   "outputs": [],
   "source": [
    "import pandas as pd\n",
    "import matplotlib.pyplot as plt\n",
    "import seaborn as sns\n",
    "import numpy as np\n",
    "from scipy.stats import norm\n",
    "from sklearn.preprocessing import StandardScaler\n",
    "from scipy import stats\n",
    "import warnings\n",
    "warnings.filterwarnings('ignore')\n",
    "%matplotlib inline"
   ]
  },
  {
   "cell_type": "code",
   "execution_count": 106,
   "metadata": {
    "colab": {
     "base_uri": "https://localhost:8080/",
     "height": 204
    },
    "id": "GhquXxFRidb7",
    "outputId": "91af0a06-9f15-4f19-9658-7bdc1ececd94"
   },
   "outputs": [
    {
     "data": {
      "text/html": [
       "<div>\n",
       "<style scoped>\n",
       "    .dataframe tbody tr th:only-of-type {\n",
       "        vertical-align: middle;\n",
       "    }\n",
       "\n",
       "    .dataframe tbody tr th {\n",
       "        vertical-align: top;\n",
       "    }\n",
       "\n",
       "    .dataframe thead th {\n",
       "        text-align: right;\n",
       "    }\n",
       "</style>\n",
       "<table border=\"1\" class=\"dataframe\">\n",
       "  <thead>\n",
       "    <tr style=\"text-align: right;\">\n",
       "      <th></th>\n",
       "      <th>name</th>\n",
       "      <th>club</th>\n",
       "      <th>age</th>\n",
       "      <th>position</th>\n",
       "      <th>position_cat</th>\n",
       "      <th>market_value</th>\n",
       "      <th>page_views</th>\n",
       "      <th>fpl_value</th>\n",
       "      <th>fpl_sel</th>\n",
       "      <th>fpl_points</th>\n",
       "      <th>region</th>\n",
       "      <th>nationality</th>\n",
       "      <th>new_foreign</th>\n",
       "      <th>age_cat</th>\n",
       "      <th>club_id</th>\n",
       "      <th>big_club</th>\n",
       "      <th>new_signing</th>\n",
       "    </tr>\n",
       "  </thead>\n",
       "  <tbody>\n",
       "    <tr>\n",
       "      <th>0</th>\n",
       "      <td>Alexis Sanchez</td>\n",
       "      <td>Arsenal</td>\n",
       "      <td>28</td>\n",
       "      <td>LW</td>\n",
       "      <td>1</td>\n",
       "      <td>65.0</td>\n",
       "      <td>4329</td>\n",
       "      <td>12.0</td>\n",
       "      <td>17.10%</td>\n",
       "      <td>264</td>\n",
       "      <td>3.0</td>\n",
       "      <td>Chile</td>\n",
       "      <td>0</td>\n",
       "      <td>4</td>\n",
       "      <td>1</td>\n",
       "      <td>1</td>\n",
       "      <td>0</td>\n",
       "    </tr>\n",
       "    <tr>\n",
       "      <th>1</th>\n",
       "      <td>Mesut Ozil</td>\n",
       "      <td>Arsenal</td>\n",
       "      <td>28</td>\n",
       "      <td>AM</td>\n",
       "      <td>1</td>\n",
       "      <td>50.0</td>\n",
       "      <td>4395</td>\n",
       "      <td>9.5</td>\n",
       "      <td>5.60%</td>\n",
       "      <td>167</td>\n",
       "      <td>2.0</td>\n",
       "      <td>Germany</td>\n",
       "      <td>0</td>\n",
       "      <td>4</td>\n",
       "      <td>1</td>\n",
       "      <td>1</td>\n",
       "      <td>0</td>\n",
       "    </tr>\n",
       "    <tr>\n",
       "      <th>2</th>\n",
       "      <td>Petr Cech</td>\n",
       "      <td>Arsenal</td>\n",
       "      <td>35</td>\n",
       "      <td>GK</td>\n",
       "      <td>4</td>\n",
       "      <td>7.0</td>\n",
       "      <td>1529</td>\n",
       "      <td>5.5</td>\n",
       "      <td>5.90%</td>\n",
       "      <td>134</td>\n",
       "      <td>2.0</td>\n",
       "      <td>Czech Republic</td>\n",
       "      <td>0</td>\n",
       "      <td>6</td>\n",
       "      <td>1</td>\n",
       "      <td>1</td>\n",
       "      <td>0</td>\n",
       "    </tr>\n",
       "    <tr>\n",
       "      <th>3</th>\n",
       "      <td>Theo Walcott</td>\n",
       "      <td>Arsenal</td>\n",
       "      <td>28</td>\n",
       "      <td>RW</td>\n",
       "      <td>1</td>\n",
       "      <td>20.0</td>\n",
       "      <td>2393</td>\n",
       "      <td>7.5</td>\n",
       "      <td>1.50%</td>\n",
       "      <td>122</td>\n",
       "      <td>1.0</td>\n",
       "      <td>England</td>\n",
       "      <td>0</td>\n",
       "      <td>4</td>\n",
       "      <td>1</td>\n",
       "      <td>1</td>\n",
       "      <td>0</td>\n",
       "    </tr>\n",
       "    <tr>\n",
       "      <th>4</th>\n",
       "      <td>Laurent Koscielny</td>\n",
       "      <td>Arsenal</td>\n",
       "      <td>31</td>\n",
       "      <td>CB</td>\n",
       "      <td>3</td>\n",
       "      <td>22.0</td>\n",
       "      <td>912</td>\n",
       "      <td>6.0</td>\n",
       "      <td>0.70%</td>\n",
       "      <td>121</td>\n",
       "      <td>2.0</td>\n",
       "      <td>France</td>\n",
       "      <td>0</td>\n",
       "      <td>4</td>\n",
       "      <td>1</td>\n",
       "      <td>1</td>\n",
       "      <td>0</td>\n",
       "    </tr>\n",
       "  </tbody>\n",
       "</table>\n",
       "</div>"
      ],
      "text/plain": [
       "                name     club  age  ... club_id  big_club  new_signing\n",
       "0     Alexis Sanchez  Arsenal   28  ...       1         1            0\n",
       "1         Mesut Ozil  Arsenal   28  ...       1         1            0\n",
       "2          Petr Cech  Arsenal   35  ...       1         1            0\n",
       "3       Theo Walcott  Arsenal   28  ...       1         1            0\n",
       "4  Laurent Koscielny  Arsenal   31  ...       1         1            0\n",
       "\n",
       "[5 rows x 17 columns]"
      ]
     },
     "execution_count": 106,
     "metadata": {},
     "output_type": "execute_result"
    }
   ],
   "source": [
    "#creating the dataframe\n",
    "df = pd.read_csv(\"/content/drive/MyDrive/Football_Price_ML/dataset.csv\")\n",
    "df.head()"
   ]
  },
  {
   "cell_type": "code",
   "execution_count": 107,
   "metadata": {
    "colab": {
     "base_uri": "https://localhost:8080/"
    },
    "id": "don9DRlGisFo",
    "outputId": "64fd7367-ec11-41a1-c689-56f3a80f72b3"
   },
   "outputs": [
    {
     "name": "stdout",
     "output_type": "stream",
     "text": [
      "Features in the dataset given are as follows : \n",
      "name\n",
      "club\n",
      "age\n",
      "position\n",
      "position_cat\n",
      "market_value\n",
      "page_views\n",
      "fpl_value\n",
      "fpl_sel\n",
      "fpl_points\n",
      "region\n",
      "nationality\n",
      "new_foreign\n",
      "age_cat\n",
      "club_id\n",
      "big_club\n",
      "new_signing\n"
     ]
    }
   ],
   "source": [
    "# features in the dataset\n",
    "print(\"Features in the dataset given are as follows : \")\n",
    "for feature in df.columns:\n",
    "    print(feature)"
   ]
  },
  {
   "cell_type": "code",
   "execution_count": 108,
   "metadata": {
    "colab": {
     "base_uri": "https://localhost:8080/"
    },
    "id": "xpks7B7Eiwtn",
    "outputId": "7fed0944-dc29-4417-9bdd-fbfda8a36bc6"
   },
   "outputs": [
    {
     "name": "stdout",
     "output_type": "stream",
     "text": [
      "Number of features in the dataset are 17\n"
     ]
    }
   ],
   "source": [
    "#number of features \n",
    "print(f\"Number of features in the dataset are {len(df.columns)}\")"
   ]
  },
  {
   "cell_type": "markdown",
   "metadata": {
    "id": "qD3rTMD_jbJ6"
   },
   "source": [
    "In above 17 features \"market_value\" is our dependent variable and rest all 16 are the predictor variables."
   ]
  },
  {
   "cell_type": "code",
   "execution_count": 109,
   "metadata": {
    "colab": {
     "base_uri": "https://localhost:8080/"
    },
    "id": "l7QOSjv5jHvc",
    "outputId": "94f73008-d95a-4ba9-d305-a116b1c40ab9"
   },
   "outputs": [
    {
     "name": "stdout",
     "output_type": "stream",
     "text": [
      "<class 'pandas.core.frame.DataFrame'>\n",
      "RangeIndex: 461 entries, 0 to 460\n",
      "Data columns (total 17 columns):\n",
      " #   Column        Non-Null Count  Dtype  \n",
      "---  ------        --------------  -----  \n",
      " 0   name          461 non-null    object \n",
      " 1   club          461 non-null    object \n",
      " 2   age           461 non-null    int64  \n",
      " 3   position      461 non-null    object \n",
      " 4   position_cat  461 non-null    int64  \n",
      " 5   market_value  461 non-null    float64\n",
      " 6   page_views    461 non-null    int64  \n",
      " 7   fpl_value     461 non-null    float64\n",
      " 8   fpl_sel       461 non-null    object \n",
      " 9   fpl_points    461 non-null    int64  \n",
      " 10  region        460 non-null    float64\n",
      " 11  nationality   461 non-null    object \n",
      " 12  new_foreign   461 non-null    int64  \n",
      " 13  age_cat       461 non-null    int64  \n",
      " 14  club_id       461 non-null    int64  \n",
      " 15  big_club      461 non-null    int64  \n",
      " 16  new_signing   461 non-null    int64  \n",
      "dtypes: float64(3), int64(9), object(5)\n",
      "memory usage: 61.4+ KB\n"
     ]
    }
   ],
   "source": [
    "# general information about data \n",
    "df.info()"
   ]
  },
  {
   "cell_type": "code",
   "execution_count": 110,
   "metadata": {
    "colab": {
     "base_uri": "https://localhost:8080/"
    },
    "id": "SS521_t6jozS",
    "outputId": "f701b992-74de-40cc-fc6c-3878237c36f5"
   },
   "outputs": [
    {
     "data": {
      "text/plain": [
       "461"
      ]
     },
     "execution_count": 110,
     "metadata": {},
     "output_type": "execute_result"
    }
   ],
   "source": [
    "# number of rows in dataset\n",
    "df.shape[0]"
   ]
  },
  {
   "cell_type": "markdown",
   "metadata": {
    "id": "BlWK7EI9jwXQ"
   },
   "source": [
    "So we have 461 data points"
   ]
  },
  {
   "cell_type": "code",
   "execution_count": 111,
   "metadata": {
    "colab": {
     "base_uri": "https://localhost:8080/",
     "height": 297
    },
    "id": "U7sm-C4yjvHF",
    "outputId": "0c19ccee-2bc6-4f39-8117-fd7608e65c04"
   },
   "outputs": [
    {
     "data": {
      "text/html": [
       "<div>\n",
       "<style scoped>\n",
       "    .dataframe tbody tr th:only-of-type {\n",
       "        vertical-align: middle;\n",
       "    }\n",
       "\n",
       "    .dataframe tbody tr th {\n",
       "        vertical-align: top;\n",
       "    }\n",
       "\n",
       "    .dataframe thead th {\n",
       "        text-align: right;\n",
       "    }\n",
       "</style>\n",
       "<table border=\"1\" class=\"dataframe\">\n",
       "  <thead>\n",
       "    <tr style=\"text-align: right;\">\n",
       "      <th></th>\n",
       "      <th>age</th>\n",
       "      <th>position_cat</th>\n",
       "      <th>market_value</th>\n",
       "      <th>page_views</th>\n",
       "      <th>fpl_value</th>\n",
       "      <th>fpl_points</th>\n",
       "      <th>region</th>\n",
       "      <th>new_foreign</th>\n",
       "      <th>age_cat</th>\n",
       "      <th>club_id</th>\n",
       "      <th>big_club</th>\n",
       "      <th>new_signing</th>\n",
       "    </tr>\n",
       "  </thead>\n",
       "  <tbody>\n",
       "    <tr>\n",
       "      <th>count</th>\n",
       "      <td>461.000000</td>\n",
       "      <td>461.000000</td>\n",
       "      <td>461.000000</td>\n",
       "      <td>461.000000</td>\n",
       "      <td>461.000000</td>\n",
       "      <td>461.000000</td>\n",
       "      <td>460.000000</td>\n",
       "      <td>461.000000</td>\n",
       "      <td>461.000000</td>\n",
       "      <td>461.000000</td>\n",
       "      <td>461.000000</td>\n",
       "      <td>461.000000</td>\n",
       "    </tr>\n",
       "    <tr>\n",
       "      <th>mean</th>\n",
       "      <td>26.804772</td>\n",
       "      <td>2.180043</td>\n",
       "      <td>11.012039</td>\n",
       "      <td>763.776573</td>\n",
       "      <td>5.447939</td>\n",
       "      <td>57.314534</td>\n",
       "      <td>1.993478</td>\n",
       "      <td>0.034707</td>\n",
       "      <td>3.206074</td>\n",
       "      <td>10.334056</td>\n",
       "      <td>0.303688</td>\n",
       "      <td>0.145336</td>\n",
       "    </tr>\n",
       "    <tr>\n",
       "      <th>std</th>\n",
       "      <td>3.961892</td>\n",
       "      <td>1.000061</td>\n",
       "      <td>12.257403</td>\n",
       "      <td>931.805757</td>\n",
       "      <td>1.346695</td>\n",
       "      <td>53.113811</td>\n",
       "      <td>0.957689</td>\n",
       "      <td>0.183236</td>\n",
       "      <td>1.279795</td>\n",
       "      <td>5.726475</td>\n",
       "      <td>0.460349</td>\n",
       "      <td>0.352822</td>\n",
       "    </tr>\n",
       "    <tr>\n",
       "      <th>min</th>\n",
       "      <td>17.000000</td>\n",
       "      <td>1.000000</td>\n",
       "      <td>0.050000</td>\n",
       "      <td>3.000000</td>\n",
       "      <td>4.000000</td>\n",
       "      <td>0.000000</td>\n",
       "      <td>1.000000</td>\n",
       "      <td>0.000000</td>\n",
       "      <td>1.000000</td>\n",
       "      <td>1.000000</td>\n",
       "      <td>0.000000</td>\n",
       "      <td>0.000000</td>\n",
       "    </tr>\n",
       "    <tr>\n",
       "      <th>25%</th>\n",
       "      <td>24.000000</td>\n",
       "      <td>1.000000</td>\n",
       "      <td>3.000000</td>\n",
       "      <td>220.000000</td>\n",
       "      <td>4.500000</td>\n",
       "      <td>5.000000</td>\n",
       "      <td>1.000000</td>\n",
       "      <td>0.000000</td>\n",
       "      <td>2.000000</td>\n",
       "      <td>6.000000</td>\n",
       "      <td>0.000000</td>\n",
       "      <td>0.000000</td>\n",
       "    </tr>\n",
       "    <tr>\n",
       "      <th>50%</th>\n",
       "      <td>27.000000</td>\n",
       "      <td>2.000000</td>\n",
       "      <td>7.000000</td>\n",
       "      <td>460.000000</td>\n",
       "      <td>5.000000</td>\n",
       "      <td>51.000000</td>\n",
       "      <td>2.000000</td>\n",
       "      <td>0.000000</td>\n",
       "      <td>3.000000</td>\n",
       "      <td>10.000000</td>\n",
       "      <td>0.000000</td>\n",
       "      <td>0.000000</td>\n",
       "    </tr>\n",
       "    <tr>\n",
       "      <th>75%</th>\n",
       "      <td>30.000000</td>\n",
       "      <td>3.000000</td>\n",
       "      <td>15.000000</td>\n",
       "      <td>896.000000</td>\n",
       "      <td>5.500000</td>\n",
       "      <td>94.000000</td>\n",
       "      <td>2.000000</td>\n",
       "      <td>0.000000</td>\n",
       "      <td>4.000000</td>\n",
       "      <td>15.000000</td>\n",
       "      <td>1.000000</td>\n",
       "      <td>0.000000</td>\n",
       "    </tr>\n",
       "    <tr>\n",
       "      <th>max</th>\n",
       "      <td>38.000000</td>\n",
       "      <td>4.000000</td>\n",
       "      <td>75.000000</td>\n",
       "      <td>7664.000000</td>\n",
       "      <td>12.500000</td>\n",
       "      <td>264.000000</td>\n",
       "      <td>4.000000</td>\n",
       "      <td>1.000000</td>\n",
       "      <td>6.000000</td>\n",
       "      <td>20.000000</td>\n",
       "      <td>1.000000</td>\n",
       "      <td>1.000000</td>\n",
       "    </tr>\n",
       "  </tbody>\n",
       "</table>\n",
       "</div>"
      ],
      "text/plain": [
       "              age  position_cat  ...    big_club  new_signing\n",
       "count  461.000000    461.000000  ...  461.000000   461.000000\n",
       "mean    26.804772      2.180043  ...    0.303688     0.145336\n",
       "std      3.961892      1.000061  ...    0.460349     0.352822\n",
       "min     17.000000      1.000000  ...    0.000000     0.000000\n",
       "25%     24.000000      1.000000  ...    0.000000     0.000000\n",
       "50%     27.000000      2.000000  ...    0.000000     0.000000\n",
       "75%     30.000000      3.000000  ...    1.000000     0.000000\n",
       "max     38.000000      4.000000  ...    1.000000     1.000000\n",
       "\n",
       "[8 rows x 12 columns]"
      ]
     },
     "execution_count": 111,
     "metadata": {},
     "output_type": "execute_result"
    }
   ],
   "source": [
    "#some descriptive statistics about our dataset\n",
    "df.describe()"
   ]
  },
  {
   "cell_type": "code",
   "execution_count": 112,
   "metadata": {
    "colab": {
     "base_uri": "https://localhost:8080/",
     "height": 204
    },
    "id": "oswg-ByD4ftB",
    "outputId": "41ccec9b-3c5b-4eb8-d47e-54a6e021c3f1"
   },
   "outputs": [
    {
     "data": {
      "text/html": [
       "<div>\n",
       "<style scoped>\n",
       "    .dataframe tbody tr th:only-of-type {\n",
       "        vertical-align: middle;\n",
       "    }\n",
       "\n",
       "    .dataframe tbody tr th {\n",
       "        vertical-align: top;\n",
       "    }\n",
       "\n",
       "    .dataframe thead th {\n",
       "        text-align: right;\n",
       "    }\n",
       "</style>\n",
       "<table border=\"1\" class=\"dataframe\">\n",
       "  <thead>\n",
       "    <tr style=\"text-align: right;\">\n",
       "      <th></th>\n",
       "      <th>name</th>\n",
       "      <th>club</th>\n",
       "      <th>age</th>\n",
       "      <th>position</th>\n",
       "      <th>position_cat</th>\n",
       "      <th>market_value</th>\n",
       "      <th>page_views</th>\n",
       "      <th>fpl_value</th>\n",
       "      <th>fpl_sel</th>\n",
       "      <th>fpl_points</th>\n",
       "      <th>region</th>\n",
       "      <th>nationality</th>\n",
       "      <th>new_foreign</th>\n",
       "      <th>age_cat</th>\n",
       "      <th>club_id</th>\n",
       "      <th>big_club</th>\n",
       "      <th>new_signing</th>\n",
       "    </tr>\n",
       "  </thead>\n",
       "  <tbody>\n",
       "    <tr>\n",
       "      <th>0</th>\n",
       "      <td>Alexis Sanchez</td>\n",
       "      <td>Arsenal</td>\n",
       "      <td>28</td>\n",
       "      <td>LW</td>\n",
       "      <td>1</td>\n",
       "      <td>65.0</td>\n",
       "      <td>4329</td>\n",
       "      <td>12.0</td>\n",
       "      <td>17.10%</td>\n",
       "      <td>264</td>\n",
       "      <td>3.0</td>\n",
       "      <td>Chile</td>\n",
       "      <td>0</td>\n",
       "      <td>4</td>\n",
       "      <td>1</td>\n",
       "      <td>1</td>\n",
       "      <td>0</td>\n",
       "    </tr>\n",
       "    <tr>\n",
       "      <th>1</th>\n",
       "      <td>Mesut Ozil</td>\n",
       "      <td>Arsenal</td>\n",
       "      <td>28</td>\n",
       "      <td>AM</td>\n",
       "      <td>1</td>\n",
       "      <td>50.0</td>\n",
       "      <td>4395</td>\n",
       "      <td>9.5</td>\n",
       "      <td>5.60%</td>\n",
       "      <td>167</td>\n",
       "      <td>2.0</td>\n",
       "      <td>Germany</td>\n",
       "      <td>0</td>\n",
       "      <td>4</td>\n",
       "      <td>1</td>\n",
       "      <td>1</td>\n",
       "      <td>0</td>\n",
       "    </tr>\n",
       "    <tr>\n",
       "      <th>2</th>\n",
       "      <td>Petr Cech</td>\n",
       "      <td>Arsenal</td>\n",
       "      <td>35</td>\n",
       "      <td>GK</td>\n",
       "      <td>4</td>\n",
       "      <td>7.0</td>\n",
       "      <td>1529</td>\n",
       "      <td>5.5</td>\n",
       "      <td>5.90%</td>\n",
       "      <td>134</td>\n",
       "      <td>2.0</td>\n",
       "      <td>Czech Republic</td>\n",
       "      <td>0</td>\n",
       "      <td>6</td>\n",
       "      <td>1</td>\n",
       "      <td>1</td>\n",
       "      <td>0</td>\n",
       "    </tr>\n",
       "    <tr>\n",
       "      <th>3</th>\n",
       "      <td>Theo Walcott</td>\n",
       "      <td>Arsenal</td>\n",
       "      <td>28</td>\n",
       "      <td>RW</td>\n",
       "      <td>1</td>\n",
       "      <td>20.0</td>\n",
       "      <td>2393</td>\n",
       "      <td>7.5</td>\n",
       "      <td>1.50%</td>\n",
       "      <td>122</td>\n",
       "      <td>1.0</td>\n",
       "      <td>England</td>\n",
       "      <td>0</td>\n",
       "      <td>4</td>\n",
       "      <td>1</td>\n",
       "      <td>1</td>\n",
       "      <td>0</td>\n",
       "    </tr>\n",
       "    <tr>\n",
       "      <th>4</th>\n",
       "      <td>Laurent Koscielny</td>\n",
       "      <td>Arsenal</td>\n",
       "      <td>31</td>\n",
       "      <td>CB</td>\n",
       "      <td>3</td>\n",
       "      <td>22.0</td>\n",
       "      <td>912</td>\n",
       "      <td>6.0</td>\n",
       "      <td>0.70%</td>\n",
       "      <td>121</td>\n",
       "      <td>2.0</td>\n",
       "      <td>France</td>\n",
       "      <td>0</td>\n",
       "      <td>4</td>\n",
       "      <td>1</td>\n",
       "      <td>1</td>\n",
       "      <td>0</td>\n",
       "    </tr>\n",
       "  </tbody>\n",
       "</table>\n",
       "</div>"
      ],
      "text/plain": [
       "                name     club  age  ... club_id  big_club  new_signing\n",
       "0     Alexis Sanchez  Arsenal   28  ...       1         1            0\n",
       "1         Mesut Ozil  Arsenal   28  ...       1         1            0\n",
       "2          Petr Cech  Arsenal   35  ...       1         1            0\n",
       "3       Theo Walcott  Arsenal   28  ...       1         1            0\n",
       "4  Laurent Koscielny  Arsenal   31  ...       1         1            0\n",
       "\n",
       "[5 rows x 17 columns]"
      ]
     },
     "execution_count": 112,
     "metadata": {},
     "output_type": "execute_result"
    }
   ],
   "source": [
    "df.head()"
   ]
  },
  {
   "cell_type": "code",
   "execution_count": 113,
   "metadata": {
    "colab": {
     "base_uri": "https://localhost:8080/"
    },
    "id": "BFNRzshuj5tV",
    "outputId": "514912e7-1857-47ae-e729-4e59f2348bf9"
   },
   "outputs": [
    {
     "name": "stdout",
     "output_type": "stream",
     "text": [
      "Categorical Columns in our dataset are : \n",
      "name\n",
      "club\n",
      "position\n",
      "fpl_sel\n",
      "nationality\n"
     ]
    }
   ],
   "source": [
    "#categorical feature columns\n",
    "print(\"Categorical Columns in our dataset are : \")\n",
    "for col in df.columns:\n",
    "    if df[col].dtype == 'object':\n",
    "        print(col)"
   ]
  },
  {
   "cell_type": "markdown",
   "metadata": {
    "id": "dtarrPcE4tg1"
   },
   "source": [
    "We can clearly see that fpl_sel will not be a categorical column."
   ]
  },
  {
   "cell_type": "code",
   "execution_count": 114,
   "metadata": {
    "colab": {
     "base_uri": "https://localhost:8080/"
    },
    "id": "oWZgF0LNkJn4",
    "outputId": "fc8efce9-f070-448d-a1e3-d6edbf978730"
   },
   "outputs": [
    {
     "name": "stdout",
     "output_type": "stream",
     "text": [
      "Numerical Columns in our dataset are : \n",
      "age\n",
      "position_cat\n",
      "market_value\n",
      "page_views\n",
      "fpl_value\n",
      "fpl_points\n",
      "region\n",
      "new_foreign\n",
      "age_cat\n",
      "club_id\n",
      "big_club\n",
      "new_signing\n"
     ]
    }
   ],
   "source": [
    "#numerical feature columns\n",
    "print(\"Numerical Columns in our dataset are : \")\n",
    "for col in df.columns:\n",
    "    if df[col].dtype in ['int64' , 'float64'] :\n",
    "        print(col)"
   ]
  },
  {
   "cell_type": "markdown",
   "metadata": {
    "id": "JwXUHGqlk5dp"
   },
   "source": [
    "Making some plots to learn more about our dataset"
   ]
  },
  {
   "cell_type": "markdown",
   "metadata": {
    "id": "n_WUXalMqgsx"
   },
   "source": [
    "Studying about the target variable which is 'market_value'"
   ]
  },
  {
   "cell_type": "code",
   "execution_count": 115,
   "metadata": {
    "colab": {
     "base_uri": "https://localhost:8080/"
    },
    "id": "4ZrJO6_fnSJF",
    "outputId": "a6e46ef9-edc0-48a8-8c78-8343cc673d7e"
   },
   "outputs": [
    {
     "data": {
      "text/plain": [
       "count    461.000000\n",
       "mean      11.012039\n",
       "std       12.257403\n",
       "min        0.050000\n",
       "25%        3.000000\n",
       "50%        7.000000\n",
       "75%       15.000000\n",
       "max       75.000000\n",
       "Name: market_value, dtype: float64"
      ]
     },
     "execution_count": 115,
     "metadata": {},
     "output_type": "execute_result"
    }
   ],
   "source": [
    "df['market_value'].describe()"
   ]
  },
  {
   "cell_type": "code",
   "execution_count": 116,
   "metadata": {
    "colab": {
     "base_uri": "https://localhost:8080/",
     "height": 285
    },
    "id": "MV2zp6F7qY2U",
    "outputId": "450fca57-2238-40bf-f0f0-197e377a8cc5"
   },
   "outputs": [
    {
     "data": {
      "image/png": "[encoded data removed]",
      "text/plain": [
       "<Figure size 432x288 with 1 Axes>"
      ]
     },
     "metadata": {
      "needs_background": "light"
     },
     "output_type": "display_data"
    }
   ],
   "source": [
    "sns.distplot(df['market_value']);"
   ]
  },
  {
   "cell_type": "markdown",
   "metadata": {
    "id": "R-BAaHIPqxMX"
   },
   "source": [
    "From above we can see that there is :\n",
    "- Slight Deviation from the Normal Distribution\n",
    "- It is positively skewed"
   ]
  },
  {
   "cell_type": "code",
   "execution_count": 117,
   "metadata": {
    "colab": {
     "base_uri": "https://localhost:8080/"
    },
    "id": "WZr0T057qrxS",
    "outputId": "ec4b814f-ca5c-4646-cec7-3ffb4379fe61"
   },
   "outputs": [
    {
     "name": "stdout",
     "output_type": "stream",
     "text": [
      "Skewness in our target variable values is 2.1625484427984265\n"
     ]
    }
   ],
   "source": [
    "# Calculating the skewness \n",
    "print(f\"Skewness in our target variable values is {df['market_value'].skew()}\")"
   ]
  },
  {
   "cell_type": "markdown",
   "metadata": {
    "id": "3QqIgCxNsEVE"
   },
   "source": [
    "Exploring the relationship of 'market_value' column with other features."
   ]
  },
  {
   "cell_type": "code",
   "execution_count": 118,
   "metadata": {
    "id": "169oyAqqsrPj"
   },
   "outputs": [],
   "source": [
    "# seperating all the numerical columns\n",
    "numerical_columns = []\n",
    "for col in df.columns:\n",
    "    if df[col].dtype in ['int64' , 'float64'] :\n",
    "        numerical_columns.append(col)"
   ]
  },
  {
   "cell_type": "code",
   "execution_count": 119,
   "metadata": {
    "colab": {
     "base_uri": "https://localhost:8080/",
     "height": 1000
    },
    "id": "FS_8QaZ9rlWP",
    "outputId": "c4e2ece6-7b4c-437e-94f7-b40717e1c3a7"
   },
   "outputs": [
    {
     "name": "stderr",
     "output_type": "stream",
     "text": [
      "*c* argument looks like a single numeric RGB or RGBA sequence, which should be avoided as value-mapping will have precedence in case its length matches with *x* & *y*.  Please use the *color* keyword-argument or provide a 2-D array with a single row if you intend to specify the same RGB or RGBA value for all points.\n",
      "*c* argument looks like a single numeric RGB or RGBA sequence, which should be avoided as value-mapping will have precedence in case its length matches with *x* & *y*.  Please use the *color* keyword-argument or provide a 2-D array with a single row if you intend to specify the same RGB or RGBA value for all points.\n",
      "*c* argument looks like a single numeric RGB or RGBA sequence, which should be avoided as value-mapping will have precedence in case its length matches with *x* & *y*.  Please use the *color* keyword-argument or provide a 2-D array with a single row if you intend to specify the same RGB or RGBA value for all points.\n",
      "*c* argument looks like a single numeric RGB or RGBA sequence, which should be avoided as value-mapping will have precedence in case its length matches with *x* & *y*.  Please use the *color* keyword-argument or provide a 2-D array with a single row if you intend to specify the same RGB or RGBA value for all points.\n",
      "*c* argument looks like a single numeric RGB or RGBA sequence, which should be avoided as value-mapping will have precedence in case its length matches with *x* & *y*.  Please use the *color* keyword-argument or provide a 2-D array with a single row if you intend to specify the same RGB or RGBA value for all points.\n",
      "*c* argument looks like a single numeric RGB or RGBA sequence, which should be avoided as value-mapping will have precedence in case its length matches with *x* & *y*.  Please use the *color* keyword-argument or provide a 2-D array with a single row if you intend to specify the same RGB or RGBA value for all points.\n",
      "*c* argument looks like a single numeric RGB or RGBA sequence, which should be avoided as value-mapping will have precedence in case its length matches with *x* & *y*.  Please use the *color* keyword-argument or provide a 2-D array with a single row if you intend to specify the same RGB or RGBA value for all points.\n",
      "*c* argument looks like a single numeric RGB or RGBA sequence, which should be avoided as value-mapping will have precedence in case its length matches with *x* & *y*.  Please use the *color* keyword-argument or provide a 2-D array with a single row if you intend to specify the same RGB or RGBA value for all points.\n",
      "*c* argument looks like a single numeric RGB or RGBA sequence, which should be avoided as value-mapping will have precedence in case its length matches with *x* & *y*.  Please use the *color* keyword-argument or provide a 2-D array with a single row if you intend to specify the same RGB or RGBA value for all points.\n",
      "*c* argument looks like a single numeric RGB or RGBA sequence, which should be avoided as value-mapping will have precedence in case its length matches with *x* & *y*.  Please use the *color* keyword-argument or provide a 2-D array with a single row if you intend to specify the same RGB or RGBA value for all points.\n",
      "*c* argument looks like a single numeric RGB or RGBA sequence, which should be avoided as value-mapping will have precedence in case its length matches with *x* & *y*.  Please use the *color* keyword-argument or provide a 2-D array with a single row if you intend to specify the same RGB or RGBA value for all points.\n"
     ]
    },
    {
     "data": {
      "image/png": "[encoded data removed]",
      "text/plain": [
       "<Figure size 432x288 with 1 Axes>"
      ]
     },
     "metadata": {
      "needs_background": "light"
     },
     "output_type": "display_data"
    },
    {
     "data": {
      "image/png": "[encoded data removed]",
      "text/plain": [
       "<Figure size 432x288 with 1 Axes>"
      ]
     },
     "metadata": {
      "needs_background": "light"
     },
     "output_type": "display_data"
    },
    {
     "data": {
      "image/png": "[encoded data removed]",
      "text/plain": [
       "<Figure size 432x288 with 1 Axes>"
      ]
     },
     "metadata": {
      "needs_background": "light"
     },
     "output_type": "display_data"
    },
    {
     "data": {
      "image/png": "[encoded data removed]",
      "text/plain": [
       "<Figure size 432x288 with 1 Axes>"
      ]
     },
     "metadata": {
      "needs_background": "light"
     },
     "output_type": "display_data"
    },
    {
     "data": {
      "image/png": "[encoded data removed]",
      "text/plain": [
       "<Figure size 432x288 with 1 Axes>"
      ]
     },
     "metadata": {
      "needs_background": "light"
     },
     "output_type": "display_data"
    },
    {
     "data": {
      "image/png": "[encoded data removed]",
      "text/plain": [
       "<Figure size 432x288 with 1 Axes>"
      ]
     },
     "metadata": {
      "needs_background": "light"
     },
     "output_type": "display_data"
    },
    {
     "data": {
      "image/png": "[encoded data removed]",
      "text/plain": [
       "<Figure size 432x288 with 1 Axes>"
      ]
     },
     "metadata": {
      "needs_background": "light"
     },
     "output_type": "display_data"
    },
    {
     "data": {
      "image/png": "[encoded data removed]",
      "text/plain": [
       "<Figure size 432x288 with 1 Axes>"
      ]
     },
     "metadata": {
      "needs_background": "light"
     },
     "output_type": "display_data"
    },
    {
     "data": {
      "image/png": "[encoded data removed]",
      "text/plain": [
       "<Figure size 432x288 with 1 Axes>"
      ]
     },
     "metadata": {
      "needs_background": "light"
     },
     "output_type": "display_data"
    },
    {
     "data": {
      "image/png": "[encoded data removed]",
      "text/plain": [
       "<Figure size 432x288 with 1 Axes>"
      ]
     },
     "metadata": {
      "needs_background": "light"
     },
     "output_type": "display_data"
    },
    {
     "data": {
      "image/png": "[encoded data removed]",
      "text/plain": [
       "<Figure size 432x288 with 1 Axes>"
      ]
     },
     "metadata": {
      "needs_background": "light"
     },
     "output_type": "display_data"
    }
   ],
   "source": [
    "for col in numerical_columns:\n",
    "    if col != 'market_value':\n",
    "        data = pd.concat([df['market_value'], df[col]], axis=1)\n",
    "        data.plot.scatter(x=col, y='market_value');"
   ]
  },
  {
   "cell_type": "markdown",
   "metadata": {
    "id": "96gk8x56YKnN"
   },
   "source": [
    "From above it can be seen that with feature like page views and flp_values and fpl_points have linear relationship with market_value"
   ]
  },
  {
   "cell_type": "code",
   "execution_count": 120,
   "metadata": {
    "colab": {
     "base_uri": "https://localhost:8080/",
     "height": 349
    },
    "id": "xOs-GOnJsmvO",
    "outputId": "8ef813d0-da9f-40b3-99f1-aa63b56b50e5"
   },
   "outputs": [
    {
     "data": {
      "image/png": "[encoded data removed]",
      "text/plain": [
       "<Figure size 864x288 with 1 Axes>"
      ]
     },
     "metadata": {
      "needs_background": "light"
     },
     "output_type": "display_data"
    }
   ],
   "source": [
    "# checking for missing values in the dataset\n",
    "plt.figure(figsize=(12,4))\n",
    "sns.heatmap(df.isnull(),cbar=False,cmap='viridis',yticklabels=False)\n",
    "plt.title('Missing value in the dataset');"
   ]
  },
  {
   "cell_type": "markdown",
   "metadata": {
    "id": "cCY09zVQe47B"
   },
   "source": [
    "There are no missing values in the dataset."
   ]
  },
  {
   "cell_type": "code",
   "execution_count": 121,
   "metadata": {
    "colab": {
     "base_uri": "https://localhost:8080/",
     "height": 204
    },
    "id": "telv_NJFfEUg",
    "outputId": "0845d2b0-3fd7-48f0-ff20-989be5937f0f"
   },
   "outputs": [
    {
     "data": {
      "text/html": [
       "<div>\n",
       "<style scoped>\n",
       "    .dataframe tbody tr th:only-of-type {\n",
       "        vertical-align: middle;\n",
       "    }\n",
       "\n",
       "    .dataframe tbody tr th {\n",
       "        vertical-align: top;\n",
       "    }\n",
       "\n",
       "    .dataframe thead th {\n",
       "        text-align: right;\n",
       "    }\n",
       "</style>\n",
       "<table border=\"1\" class=\"dataframe\">\n",
       "  <thead>\n",
       "    <tr style=\"text-align: right;\">\n",
       "      <th></th>\n",
       "      <th>name</th>\n",
       "      <th>club</th>\n",
       "      <th>age</th>\n",
       "      <th>position</th>\n",
       "      <th>position_cat</th>\n",
       "      <th>market_value</th>\n",
       "      <th>page_views</th>\n",
       "      <th>fpl_value</th>\n",
       "      <th>fpl_sel</th>\n",
       "      <th>fpl_points</th>\n",
       "      <th>region</th>\n",
       "      <th>nationality</th>\n",
       "      <th>new_foreign</th>\n",
       "      <th>age_cat</th>\n",
       "      <th>club_id</th>\n",
       "      <th>big_club</th>\n",
       "      <th>new_signing</th>\n",
       "    </tr>\n",
       "  </thead>\n",
       "  <tbody>\n",
       "    <tr>\n",
       "      <th>0</th>\n",
       "      <td>Alexis Sanchez</td>\n",
       "      <td>Arsenal</td>\n",
       "      <td>28</td>\n",
       "      <td>LW</td>\n",
       "      <td>1</td>\n",
       "      <td>65.0</td>\n",
       "      <td>4329</td>\n",
       "      <td>12.0</td>\n",
       "      <td>17.10%</td>\n",
       "      <td>264</td>\n",
       "      <td>3.0</td>\n",
       "      <td>Chile</td>\n",
       "      <td>0</td>\n",
       "      <td>4</td>\n",
       "      <td>1</td>\n",
       "      <td>1</td>\n",
       "      <td>0</td>\n",
       "    </tr>\n",
       "    <tr>\n",
       "      <th>1</th>\n",
       "      <td>Mesut Ozil</td>\n",
       "      <td>Arsenal</td>\n",
       "      <td>28</td>\n",
       "      <td>AM</td>\n",
       "      <td>1</td>\n",
       "      <td>50.0</td>\n",
       "      <td>4395</td>\n",
       "      <td>9.5</td>\n",
       "      <td>5.60%</td>\n",
       "      <td>167</td>\n",
       "      <td>2.0</td>\n",
       "      <td>Germany</td>\n",
       "      <td>0</td>\n",
       "      <td>4</td>\n",
       "      <td>1</td>\n",
       "      <td>1</td>\n",
       "      <td>0</td>\n",
       "    </tr>\n",
       "    <tr>\n",
       "      <th>2</th>\n",
       "      <td>Petr Cech</td>\n",
       "      <td>Arsenal</td>\n",
       "      <td>35</td>\n",
       "      <td>GK</td>\n",
       "      <td>4</td>\n",
       "      <td>7.0</td>\n",
       "      <td>1529</td>\n",
       "      <td>5.5</td>\n",
       "      <td>5.90%</td>\n",
       "      <td>134</td>\n",
       "      <td>2.0</td>\n",
       "      <td>Czech Republic</td>\n",
       "      <td>0</td>\n",
       "      <td>6</td>\n",
       "      <td>1</td>\n",
       "      <td>1</td>\n",
       "      <td>0</td>\n",
       "    </tr>\n",
       "    <tr>\n",
       "      <th>3</th>\n",
       "      <td>Theo Walcott</td>\n",
       "      <td>Arsenal</td>\n",
       "      <td>28</td>\n",
       "      <td>RW</td>\n",
       "      <td>1</td>\n",
       "      <td>20.0</td>\n",
       "      <td>2393</td>\n",
       "      <td>7.5</td>\n",
       "      <td>1.50%</td>\n",
       "      <td>122</td>\n",
       "      <td>1.0</td>\n",
       "      <td>England</td>\n",
       "      <td>0</td>\n",
       "      <td>4</td>\n",
       "      <td>1</td>\n",
       "      <td>1</td>\n",
       "      <td>0</td>\n",
       "    </tr>\n",
       "    <tr>\n",
       "      <th>4</th>\n",
       "      <td>Laurent Koscielny</td>\n",
       "      <td>Arsenal</td>\n",
       "      <td>31</td>\n",
       "      <td>CB</td>\n",
       "      <td>3</td>\n",
       "      <td>22.0</td>\n",
       "      <td>912</td>\n",
       "      <td>6.0</td>\n",
       "      <td>0.70%</td>\n",
       "      <td>121</td>\n",
       "      <td>2.0</td>\n",
       "      <td>France</td>\n",
       "      <td>0</td>\n",
       "      <td>4</td>\n",
       "      <td>1</td>\n",
       "      <td>1</td>\n",
       "      <td>0</td>\n",
       "    </tr>\n",
       "  </tbody>\n",
       "</table>\n",
       "</div>"
      ],
      "text/plain": [
       "                name     club  age  ... club_id  big_club  new_signing\n",
       "0     Alexis Sanchez  Arsenal   28  ...       1         1            0\n",
       "1         Mesut Ozil  Arsenal   28  ...       1         1            0\n",
       "2          Petr Cech  Arsenal   35  ...       1         1            0\n",
       "3       Theo Walcott  Arsenal   28  ...       1         1            0\n",
       "4  Laurent Koscielny  Arsenal   31  ...       1         1            0\n",
       "\n",
       "[5 rows x 17 columns]"
      ]
     },
     "execution_count": 121,
     "metadata": {},
     "output_type": "execute_result"
    }
   ],
   "source": [
    "df.head()"
   ]
  },
  {
   "cell_type": "code",
   "execution_count": 122,
   "metadata": {
    "colab": {
     "base_uri": "https://localhost:8080/",
     "height": 293
    },
    "id": "-6ZoU3tejR0r",
    "outputId": "bee28859-9d7d-4eaf-96fa-0af5053e04ac"
   },
   "outputs": [
    {
     "data": {
      "image/png": "[encoded data removed]",
      "text/plain": [
       "<Figure size 432x288 with 1 Axes>"
      ]
     },
     "metadata": {
      "needs_background": "light"
     },
     "output_type": "display_data"
    }
   ],
   "source": [
    "# let us see if market value of a player depends on his position while playing\n",
    "\n",
    "sns.barplot(x=df['position'],y=df['market_value'])\n",
    "plt.xticks(rotation='vertical')\n",
    "plt.show()"
   ]
  },
  {
   "cell_type": "markdown",
   "metadata": {
    "id": "El4WPN61kafG"
   },
   "source": [
    "Players with usual position of \"AM\" on the pitch have the highest average market value compared to others"
   ]
  },
  {
   "cell_type": "code",
   "execution_count": 123,
   "metadata": {
    "colab": {
     "base_uri": "https://localhost:8080/"
    },
    "id": "ZXnFPmxlkJ5J",
    "outputId": "c868a08e-42bc-4352-8f3b-dc6fbd7f61a8"
   },
   "outputs": [
    {
     "data": {
      "text/plain": [
       "array(['LW', 'AM', 'GK', 'RW', 'CB', 'RB', 'CF', 'LB', 'DM', 'RM', 'CM',\n",
       "       'SS', 'LM'], dtype=object)"
      ]
     },
     "execution_count": 123,
     "metadata": {},
     "output_type": "execute_result"
    }
   ],
   "source": [
    "df['position'].unique()"
   ]
  },
  {
   "cell_type": "code",
   "execution_count": 124,
   "metadata": {
    "colab": {
     "base_uri": "https://localhost:8080/",
     "height": 282
    },
    "id": "Eoy9C5KokmV1",
    "outputId": "1ce77fc2-dfc2-4572-e7f6-15baaee87afc"
   },
   "outputs": [
    {
     "data": {
      "image/png": "[encoded data removed]",
      "text/plain": [
       "<Figure size 432x288 with 1 Axes>"
      ]
     },
     "metadata": {
      "needs_background": "light"
     },
     "output_type": "display_data"
    }
   ],
   "source": [
    "# let us see if market value of a player depends on his role while playing\n",
    "\n",
    "sns.barplot(x=df['position_cat'],y=df['market_value'])\n",
    "plt.xticks(rotation='vertical')\n",
    "plt.show()"
   ]
  },
  {
   "cell_type": "markdown",
   "metadata": {
    "id": "7G0lMp_6lFZ2"
   },
   "source": [
    "position_cat : 1 for attackers\n",
    "\n",
    "2 for midfielders\n",
    "\n",
    "3 for defenders\n",
    "\n",
    "4 for goalkeepers\n",
    ">\n",
    "It means attackers have more market value compared to mid fielders and then comes defenders and the least market value if for goalkeepers."
   ]
  },
  {
   "cell_type": "code",
   "execution_count": 125,
   "metadata": {
    "colab": {
     "base_uri": "https://localhost:8080/",
     "height": 875
    },
    "id": "aDlbx2mLk_yW",
    "outputId": "c8b5dad2-7991-4c17-ad64-ca7287a8f9bc"
   },
   "outputs": [
    {
     "data": {
      "image/png": "[encoded data removed]",
      "text/plain": [
       "<Figure size 1080x936 with 1 Axes>"
      ]
     },
     "metadata": {},
     "output_type": "display_data"
    }
   ],
   "source": [
    "# let us see if market value of a player depends on his nationality\n",
    "sns.set(rc={'figure.figsize':(15,13)})\n",
    "sns.barplot(x=df['nationality'],y=df['market_value'])\n",
    "plt.xticks(rotation='vertical')\n",
    "plt.show()"
   ]
  },
  {
   "cell_type": "code",
   "execution_count": 125,
   "metadata": {
    "id": "PU2Z3swF-W-t"
   },
   "outputs": [],
   "source": []
  },
  {
   "cell_type": "code",
   "execution_count": 125,
   "metadata": {
    "id": "6SnzYwvJ-W53"
   },
   "outputs": [],
   "source": []
  },
  {
   "cell_type": "markdown",
   "metadata": {
    "id": "I4CD4nQLm6XJ"
   },
   "source": [
    "We see that some of the nationalities don't have the range bar lets look at them separately."
   ]
  },
  {
   "cell_type": "code",
   "execution_count": 126,
   "metadata": {
    "colab": {
     "base_uri": "https://localhost:8080/",
     "height": 80
    },
    "id": "RcgBjs-bli6t",
    "outputId": "33aedfb7-7e9c-4da2-a6f3-bf594ae4ac21"
   },
   "outputs": [
    {
     "data": {
      "text/html": [
       "<div>\n",
       "<style scoped>\n",
       "    .dataframe tbody tr th:only-of-type {\n",
       "        vertical-align: middle;\n",
       "    }\n",
       "\n",
       "    .dataframe tbody tr th {\n",
       "        vertical-align: top;\n",
       "    }\n",
       "\n",
       "    .dataframe thead th {\n",
       "        text-align: right;\n",
       "    }\n",
       "</style>\n",
       "<table border=\"1\" class=\"dataframe\">\n",
       "  <thead>\n",
       "    <tr style=\"text-align: right;\">\n",
       "      <th></th>\n",
       "      <th>name</th>\n",
       "      <th>club</th>\n",
       "      <th>age</th>\n",
       "      <th>position</th>\n",
       "      <th>position_cat</th>\n",
       "      <th>market_value</th>\n",
       "      <th>page_views</th>\n",
       "      <th>fpl_value</th>\n",
       "      <th>fpl_sel</th>\n",
       "      <th>fpl_points</th>\n",
       "      <th>region</th>\n",
       "      <th>nationality</th>\n",
       "      <th>new_foreign</th>\n",
       "      <th>age_cat</th>\n",
       "      <th>club_id</th>\n",
       "      <th>big_club</th>\n",
       "      <th>new_signing</th>\n",
       "    </tr>\n",
       "  </thead>\n",
       "  <tbody>\n",
       "    <tr>\n",
       "      <th>271</th>\n",
       "      <td>Henrikh Mkhitaryan</td>\n",
       "      <td>Manchester+United</td>\n",
       "      <td>28</td>\n",
       "      <td>AM</td>\n",
       "      <td>1</td>\n",
       "      <td>35.0</td>\n",
       "      <td>3312</td>\n",
       "      <td>8.0</td>\n",
       "      <td>4.50%</td>\n",
       "      <td>73</td>\n",
       "      <td>4.0</td>\n",
       "      <td>Armenia</td>\n",
       "      <td>0</td>\n",
       "      <td>4</td>\n",
       "      <td>12</td>\n",
       "      <td>1</td>\n",
       "      <td>1</td>\n",
       "    </tr>\n",
       "  </tbody>\n",
       "</table>\n",
       "</div>"
      ],
      "text/plain": [
       "                   name               club  age  ... club_id  big_club  new_signing\n",
       "271  Henrikh Mkhitaryan  Manchester+United   28  ...      12         1            1\n",
       "\n",
       "[1 rows x 17 columns]"
      ]
     },
     "execution_count": 126,
     "metadata": {},
     "output_type": "execute_result"
    }
   ],
   "source": [
    "df.loc[df['nationality'] == 'Armenia']"
   ]
  },
  {
   "cell_type": "code",
   "execution_count": 127,
   "metadata": {
    "colab": {
     "base_uri": "https://localhost:8080/",
     "height": 80
    },
    "id": "Fq4cl8TGmP5U",
    "outputId": "0b0cb70d-9301-4db0-a42f-b9d75e2a7e92"
   },
   "outputs": [
    {
     "data": {
      "text/html": [
       "<div>\n",
       "<style scoped>\n",
       "    .dataframe tbody tr th:only-of-type {\n",
       "        vertical-align: middle;\n",
       "    }\n",
       "\n",
       "    .dataframe tbody tr th {\n",
       "        vertical-align: top;\n",
       "    }\n",
       "\n",
       "    .dataframe thead th {\n",
       "        text-align: right;\n",
       "    }\n",
       "</style>\n",
       "<table border=\"1\" class=\"dataframe\">\n",
       "  <thead>\n",
       "    <tr style=\"text-align: right;\">\n",
       "      <th></th>\n",
       "      <th>name</th>\n",
       "      <th>club</th>\n",
       "      <th>age</th>\n",
       "      <th>position</th>\n",
       "      <th>position_cat</th>\n",
       "      <th>market_value</th>\n",
       "      <th>page_views</th>\n",
       "      <th>fpl_value</th>\n",
       "      <th>fpl_sel</th>\n",
       "      <th>fpl_points</th>\n",
       "      <th>region</th>\n",
       "      <th>nationality</th>\n",
       "      <th>new_foreign</th>\n",
       "      <th>age_cat</th>\n",
       "      <th>club_id</th>\n",
       "      <th>big_club</th>\n",
       "      <th>new_signing</th>\n",
       "    </tr>\n",
       "  </thead>\n",
       "  <tbody>\n",
       "    <tr>\n",
       "      <th>383</th>\n",
       "      <td>Victor Wanyama</td>\n",
       "      <td>Tottenham</td>\n",
       "      <td>26</td>\n",
       "      <td>DM</td>\n",
       "      <td>2</td>\n",
       "      <td>25.0</td>\n",
       "      <td>1002</td>\n",
       "      <td>5.0</td>\n",
       "      <td>3.10%</td>\n",
       "      <td>103</td>\n",
       "      <td>4.0</td>\n",
       "      <td>Kenya</td>\n",
       "      <td>0</td>\n",
       "      <td>3</td>\n",
       "      <td>17</td>\n",
       "      <td>1</td>\n",
       "      <td>1</td>\n",
       "    </tr>\n",
       "  </tbody>\n",
       "</table>\n",
       "</div>"
      ],
      "text/plain": [
       "               name       club  age  ... club_id  big_club  new_signing\n",
       "383  Victor Wanyama  Tottenham   26  ...      17         1            1\n",
       "\n",
       "[1 rows x 17 columns]"
      ]
     },
     "execution_count": 127,
     "metadata": {},
     "output_type": "execute_result"
    }
   ],
   "source": [
    "df.loc[df['nationality'] == 'Kenya']"
   ]
  },
  {
   "cell_type": "code",
   "execution_count": 128,
   "metadata": {
    "colab": {
     "base_uri": "https://localhost:8080/",
     "height": 80
    },
    "id": "uO6EMsqmnGut",
    "outputId": "485d4d97-0a29-424d-a45b-602c658cd59e"
   },
   "outputs": [
    {
     "data": {
      "text/html": [
       "<div>\n",
       "<style scoped>\n",
       "    .dataframe tbody tr th:only-of-type {\n",
       "        vertical-align: middle;\n",
       "    }\n",
       "\n",
       "    .dataframe tbody tr th {\n",
       "        vertical-align: top;\n",
       "    }\n",
       "\n",
       "    .dataframe thead th {\n",
       "        text-align: right;\n",
       "    }\n",
       "</style>\n",
       "<table border=\"1\" class=\"dataframe\">\n",
       "  <thead>\n",
       "    <tr style=\"text-align: right;\">\n",
       "      <th></th>\n",
       "      <th>name</th>\n",
       "      <th>club</th>\n",
       "      <th>age</th>\n",
       "      <th>position</th>\n",
       "      <th>position_cat</th>\n",
       "      <th>market_value</th>\n",
       "      <th>page_views</th>\n",
       "      <th>fpl_value</th>\n",
       "      <th>fpl_sel</th>\n",
       "      <th>fpl_points</th>\n",
       "      <th>region</th>\n",
       "      <th>nationality</th>\n",
       "      <th>new_foreign</th>\n",
       "      <th>age_cat</th>\n",
       "      <th>club_id</th>\n",
       "      <th>big_club</th>\n",
       "      <th>new_signing</th>\n",
       "    </tr>\n",
       "  </thead>\n",
       "  <tbody>\n",
       "    <tr>\n",
       "      <th>399</th>\n",
       "      <td>Jose Holebas</td>\n",
       "      <td>Watford</td>\n",
       "      <td>33</td>\n",
       "      <td>LB</td>\n",
       "      <td>3</td>\n",
       "      <td>2.0</td>\n",
       "      <td>345</td>\n",
       "      <td>5.0</td>\n",
       "      <td>0.60%</td>\n",
       "      <td>87</td>\n",
       "      <td>2.0</td>\n",
       "      <td>Greece</td>\n",
       "      <td>0</td>\n",
       "      <td>5</td>\n",
       "      <td>18</td>\n",
       "      <td>0</td>\n",
       "      <td>0</td>\n",
       "    </tr>\n",
       "  </tbody>\n",
       "</table>\n",
       "</div>"
      ],
      "text/plain": [
       "             name     club  age  ... club_id  big_club  new_signing\n",
       "399  Jose Holebas  Watford   33  ...      18         0            0\n",
       "\n",
       "[1 rows x 17 columns]"
      ]
     },
     "execution_count": 128,
     "metadata": {},
     "output_type": "execute_result"
    }
   ],
   "source": [
    "df.loc[df['nationality'] == 'Greece']"
   ]
  },
  {
   "cell_type": "code",
   "execution_count": 129,
   "metadata": {
    "colab": {
     "base_uri": "https://localhost:8080/",
     "height": 80
    },
    "id": "9cEhBdy0nGsm",
    "outputId": "96a21e83-202a-4e19-fb60-73ae4b232f14"
   },
   "outputs": [
    {
     "data": {
      "text/html": [
       "<div>\n",
       "<style scoped>\n",
       "    .dataframe tbody tr th:only-of-type {\n",
       "        vertical-align: middle;\n",
       "    }\n",
       "\n",
       "    .dataframe tbody tr th {\n",
       "        vertical-align: top;\n",
       "    }\n",
       "\n",
       "    .dataframe thead th {\n",
       "        text-align: right;\n",
       "    }\n",
       "</style>\n",
       "<table border=\"1\" class=\"dataframe\">\n",
       "  <thead>\n",
       "    <tr style=\"text-align: right;\">\n",
       "      <th></th>\n",
       "      <th>name</th>\n",
       "      <th>club</th>\n",
       "      <th>age</th>\n",
       "      <th>position</th>\n",
       "      <th>position_cat</th>\n",
       "      <th>market_value</th>\n",
       "      <th>page_views</th>\n",
       "      <th>fpl_value</th>\n",
       "      <th>fpl_sel</th>\n",
       "      <th>fpl_points</th>\n",
       "      <th>region</th>\n",
       "      <th>nationality</th>\n",
       "      <th>new_foreign</th>\n",
       "      <th>age_cat</th>\n",
       "      <th>club_id</th>\n",
       "      <th>big_club</th>\n",
       "      <th>new_signing</th>\n",
       "    </tr>\n",
       "  </thead>\n",
       "  <tbody>\n",
       "    <tr>\n",
       "      <th>416</th>\n",
       "      <td>Costel Pantilimon</td>\n",
       "      <td>Watford</td>\n",
       "      <td>30</td>\n",
       "      <td>GK</td>\n",
       "      <td>4</td>\n",
       "      <td>3.0</td>\n",
       "      <td>268</td>\n",
       "      <td>4.5</td>\n",
       "      <td>0.20%</td>\n",
       "      <td>2</td>\n",
       "      <td>2.0</td>\n",
       "      <td>Romania</td>\n",
       "      <td>0</td>\n",
       "      <td>4</td>\n",
       "      <td>18</td>\n",
       "      <td>0</td>\n",
       "      <td>0</td>\n",
       "    </tr>\n",
       "  </tbody>\n",
       "</table>\n",
       "</div>"
      ],
      "text/plain": [
       "                  name     club  age  ... club_id  big_club  new_signing\n",
       "416  Costel Pantilimon  Watford   30  ...      18         0            0\n",
       "\n",
       "[1 rows x 17 columns]"
      ]
     },
     "execution_count": 129,
     "metadata": {},
     "output_type": "execute_result"
    }
   ],
   "source": [
    "df.loc[df['nationality'] == 'Romania']"
   ]
  },
  {
   "cell_type": "markdown",
   "metadata": {
    "id": "A6yO8ujbnOdX"
   },
   "source": [
    "So it was happening because we have only one player's data from these nationalities."
   ]
  },
  {
   "cell_type": "code",
   "execution_count": 130,
   "metadata": {
    "colab": {
     "base_uri": "https://localhost:8080/",
     "height": 227
    },
    "id": "W_Npy06RnGqU",
    "outputId": "b7557575-b31a-4f9b-89c8-f78124c7056a"
   },
   "outputs": [
    {
     "data": {
      "image/png": "[encoded data removed]",
      "text/plain": [
       "<Figure size 360x216 with 1 Axes>"
      ]
     },
     "metadata": {},
     "output_type": "display_data"
    }
   ],
   "source": [
    "# let us see if market value of a player depends on whether he is newly signing from a different league.\n",
    "sns.set(rc={'figure.figsize':(5,3)})\n",
    "sns.barplot(x=df['new_signing'],y=df['market_value'])\n",
    "plt.xticks(rotation='vertical')\n",
    "plt.show()"
   ]
  },
  {
   "cell_type": "code",
   "execution_count": 131,
   "metadata": {
    "colab": {
     "base_uri": "https://localhost:8080/",
     "height": 506
    },
    "id": "JDOlrgJUnGnq",
    "outputId": "caf7fa11-80b5-44ed-cb87-74e7f4741ae5"
   },
   "outputs": [
    {
     "data": {
      "image/png": "[encoded data removed]",
      "text/plain": [
       "<Figure size 720x576 with 1 Axes>"
      ]
     },
     "metadata": {},
     "output_type": "display_data"
    }
   ],
   "source": [
    "# let us see if market value of a player depends on his age.\n",
    "sns.set(rc={'figure.figsize':(10,8)})\n",
    "sns.barplot(x=df['age'],y=df['market_value'])\n",
    "plt.xticks(rotation='vertical')\n",
    "plt.show()"
   ]
  },
  {
   "cell_type": "markdown",
   "metadata": {
    "id": "HgO39NodoIxj"
   },
   "source": [
    "It can be seen that young players with some experience in the age range of 22-29 are the ones with huge market value."
   ]
  },
  {
   "cell_type": "code",
   "execution_count": 132,
   "metadata": {
    "colab": {
     "base_uri": "https://localhost:8080/",
     "height": 227
    },
    "id": "QWZxMrAEnGlA",
    "outputId": "92280b2c-bec4-49d8-e7f5-b65ddbadab2a"
   },
   "outputs": [
    {
     "data": {
      "image/png": "[encoded data removed]",
      "text/plain": [
       "<Figure size 360x216 with 1 Axes>"
      ]
     },
     "metadata": {},
     "output_type": "display_data"
    }
   ],
   "source": [
    "# let us see if market value of a player depends on whether he is from big club.\n",
    "sns.set(rc={'figure.figsize':(5,3)})\n",
    "sns.barplot(x=df['big_club'],y=df['market_value'])\n",
    "plt.xticks(rotation='vertical')\n",
    "plt.show()"
   ]
  },
  {
   "cell_type": "markdown",
   "metadata": {
    "id": "G_dOronhomwL"
   },
   "source": [
    "It highly depends on whether he is from big club. Market Value is high if the player is from a big club."
   ]
  },
  {
   "cell_type": "markdown",
   "metadata": {
    "id": "8Ig9knRB0AYR"
   },
   "source": [
    "Let us explore how many values are there for specific column values."
   ]
  },
  {
   "cell_type": "code",
   "execution_count": 133,
   "metadata": {
    "colab": {
     "base_uri": "https://localhost:8080/",
     "height": 204
    },
    "id": "iPhkzDP40KTG",
    "outputId": "08578d00-1016-4ed1-c27a-08980cf6bbf7"
   },
   "outputs": [
    {
     "data": {
      "text/html": [
       "<div>\n",
       "<style scoped>\n",
       "    .dataframe tbody tr th:only-of-type {\n",
       "        vertical-align: middle;\n",
       "    }\n",
       "\n",
       "    .dataframe tbody tr th {\n",
       "        vertical-align: top;\n",
       "    }\n",
       "\n",
       "    .dataframe thead th {\n",
       "        text-align: right;\n",
       "    }\n",
       "</style>\n",
       "<table border=\"1\" class=\"dataframe\">\n",
       "  <thead>\n",
       "    <tr style=\"text-align: right;\">\n",
       "      <th></th>\n",
       "      <th>name</th>\n",
       "      <th>club</th>\n",
       "      <th>age</th>\n",
       "      <th>position</th>\n",
       "      <th>position_cat</th>\n",
       "      <th>market_value</th>\n",
       "      <th>page_views</th>\n",
       "      <th>fpl_value</th>\n",
       "      <th>fpl_sel</th>\n",
       "      <th>fpl_points</th>\n",
       "      <th>region</th>\n",
       "      <th>nationality</th>\n",
       "      <th>new_foreign</th>\n",
       "      <th>age_cat</th>\n",
       "      <th>club_id</th>\n",
       "      <th>big_club</th>\n",
       "      <th>new_signing</th>\n",
       "    </tr>\n",
       "  </thead>\n",
       "  <tbody>\n",
       "    <tr>\n",
       "      <th>0</th>\n",
       "      <td>Alexis Sanchez</td>\n",
       "      <td>Arsenal</td>\n",
       "      <td>28</td>\n",
       "      <td>LW</td>\n",
       "      <td>1</td>\n",
       "      <td>65.0</td>\n",
       "      <td>4329</td>\n",
       "      <td>12.0</td>\n",
       "      <td>17.10%</td>\n",
       "      <td>264</td>\n",
       "      <td>3.0</td>\n",
       "      <td>Chile</td>\n",
       "      <td>0</td>\n",
       "      <td>4</td>\n",
       "      <td>1</td>\n",
       "      <td>1</td>\n",
       "      <td>0</td>\n",
       "    </tr>\n",
       "    <tr>\n",
       "      <th>1</th>\n",
       "      <td>Mesut Ozil</td>\n",
       "      <td>Arsenal</td>\n",
       "      <td>28</td>\n",
       "      <td>AM</td>\n",
       "      <td>1</td>\n",
       "      <td>50.0</td>\n",
       "      <td>4395</td>\n",
       "      <td>9.5</td>\n",
       "      <td>5.60%</td>\n",
       "      <td>167</td>\n",
       "      <td>2.0</td>\n",
       "      <td>Germany</td>\n",
       "      <td>0</td>\n",
       "      <td>4</td>\n",
       "      <td>1</td>\n",
       "      <td>1</td>\n",
       "      <td>0</td>\n",
       "    </tr>\n",
       "    <tr>\n",
       "      <th>2</th>\n",
       "      <td>Petr Cech</td>\n",
       "      <td>Arsenal</td>\n",
       "      <td>35</td>\n",
       "      <td>GK</td>\n",
       "      <td>4</td>\n",
       "      <td>7.0</td>\n",
       "      <td>1529</td>\n",
       "      <td>5.5</td>\n",
       "      <td>5.90%</td>\n",
       "      <td>134</td>\n",
       "      <td>2.0</td>\n",
       "      <td>Czech Republic</td>\n",
       "      <td>0</td>\n",
       "      <td>6</td>\n",
       "      <td>1</td>\n",
       "      <td>1</td>\n",
       "      <td>0</td>\n",
       "    </tr>\n",
       "    <tr>\n",
       "      <th>3</th>\n",
       "      <td>Theo Walcott</td>\n",
       "      <td>Arsenal</td>\n",
       "      <td>28</td>\n",
       "      <td>RW</td>\n",
       "      <td>1</td>\n",
       "      <td>20.0</td>\n",
       "      <td>2393</td>\n",
       "      <td>7.5</td>\n",
       "      <td>1.50%</td>\n",
       "      <td>122</td>\n",
       "      <td>1.0</td>\n",
       "      <td>England</td>\n",
       "      <td>0</td>\n",
       "      <td>4</td>\n",
       "      <td>1</td>\n",
       "      <td>1</td>\n",
       "      <td>0</td>\n",
       "    </tr>\n",
       "    <tr>\n",
       "      <th>4</th>\n",
       "      <td>Laurent Koscielny</td>\n",
       "      <td>Arsenal</td>\n",
       "      <td>31</td>\n",
       "      <td>CB</td>\n",
       "      <td>3</td>\n",
       "      <td>22.0</td>\n",
       "      <td>912</td>\n",
       "      <td>6.0</td>\n",
       "      <td>0.70%</td>\n",
       "      <td>121</td>\n",
       "      <td>2.0</td>\n",
       "      <td>France</td>\n",
       "      <td>0</td>\n",
       "      <td>4</td>\n",
       "      <td>1</td>\n",
       "      <td>1</td>\n",
       "      <td>0</td>\n",
       "    </tr>\n",
       "  </tbody>\n",
       "</table>\n",
       "</div>"
      ],
      "text/plain": [
       "                name     club  age  ... club_id  big_club  new_signing\n",
       "0     Alexis Sanchez  Arsenal   28  ...       1         1            0\n",
       "1         Mesut Ozil  Arsenal   28  ...       1         1            0\n",
       "2          Petr Cech  Arsenal   35  ...       1         1            0\n",
       "3       Theo Walcott  Arsenal   28  ...       1         1            0\n",
       "4  Laurent Koscielny  Arsenal   31  ...       1         1            0\n",
       "\n",
       "[5 rows x 17 columns]"
      ]
     },
     "execution_count": 133,
     "metadata": {},
     "output_type": "execute_result"
    }
   ],
   "source": [
    "df.head()"
   ]
  },
  {
   "cell_type": "code",
   "execution_count": 134,
   "metadata": {
    "colab": {
     "base_uri": "https://localhost:8080/",
     "height": 607
    },
    "id": "X5a09_c4nGix",
    "outputId": "d78dec41-4c8c-4428-dced-b022557edba8"
   },
   "outputs": [
    {
     "data": {
      "text/plain": [
       "<matplotlib.axes._subplots.AxesSubplot at 0x7f44ea28e690>"
      ]
     },
     "execution_count": 134,
     "metadata": {},
     "output_type": "execute_result"
    },
    {
     "data": {
      "image/png": "[encoded data removed]",
      "text/plain": [
       "<Figure size 1440x576 with 1 Axes>"
      ]
     },
     "metadata": {},
     "output_type": "display_data"
    }
   ],
   "source": [
    "plt.rcParams[\"figure.figsize\"] = (20,8)\n",
    "df['club'].value_counts().plot(kind='bar')"
   ]
  },
  {
   "cell_type": "code",
   "execution_count": 135,
   "metadata": {
    "colab": {
     "base_uri": "https://localhost:8080/",
     "height": 510
    },
    "id": "7Yvj6g_x0NcO",
    "outputId": "03bd80ff-5826-481c-9d9d-35586c745fc2"
   },
   "outputs": [
    {
     "data": {
      "text/plain": [
       "<matplotlib.axes._subplots.AxesSubplot at 0x7f44ea3d46d0>"
      ]
     },
     "execution_count": 135,
     "metadata": {},
     "output_type": "execute_result"
    },
    {
     "data": {
      "image/png": "[encoded data removed]",
      "text/plain": [
       "<Figure size 1440x576 with 1 Axes>"
      ]
     },
     "metadata": {},
     "output_type": "display_data"
    }
   ],
   "source": [
    "plt.rcParams[\"figure.figsize\"] = (20,8)\n",
    "df['position'].value_counts().plot(kind='bar')"
   ]
  },
  {
   "cell_type": "markdown",
   "metadata": {
    "id": "Pvpdeowf9VTs"
   },
   "source": [
    "It can be seen that the players we have there the maximum number is for the players who play at Centre Back Position."
   ]
  },
  {
   "cell_type": "code",
   "execution_count": 136,
   "metadata": {
    "colab": {
     "base_uri": "https://localhost:8080/",
     "height": 603
    },
    "id": "drhj0spN3uLb",
    "outputId": "37e7d1c4-60e1-43d5-82dd-5ccddb3e4a73"
   },
   "outputs": [
    {
     "data": {
      "text/plain": [
       "<matplotlib.axes._subplots.AxesSubplot at 0x7f44ea51ff10>"
      ]
     },
     "execution_count": 136,
     "metadata": {},
     "output_type": "execute_result"
    },
    {
     "data": {
      "image/png": "[encoded data removed]",
      "text/plain": [
       "<Figure size 1440x576 with 1 Axes>"
      ]
     },
     "metadata": {},
     "output_type": "display_data"
    }
   ],
   "source": [
    "plt.rcParams[\"figure.figsize\"] = (20,8)\n",
    "df['nationality'].value_counts().plot(kind='bar')"
   ]
  },
  {
   "cell_type": "markdown",
   "metadata": {
    "id": "GsObvjML9v5Q"
   },
   "source": [
    "It can be seen that maxiumum number of players are from England.And the difference from second Max that is Spain is huge."
   ]
  },
  {
   "cell_type": "code",
   "execution_count": 137,
   "metadata": {
    "colab": {
     "base_uri": "https://localhost:8080/",
     "height": 204
    },
    "id": "hXXf3ms8ncBB",
    "outputId": "de7cf27f-5f17-4831-bbb6-59bd1d53d6b5"
   },
   "outputs": [
    {
     "data": {
      "text/html": [
       "<div>\n",
       "<style scoped>\n",
       "    .dataframe tbody tr th:only-of-type {\n",
       "        vertical-align: middle;\n",
       "    }\n",
       "\n",
       "    .dataframe tbody tr th {\n",
       "        vertical-align: top;\n",
       "    }\n",
       "\n",
       "    .dataframe thead th {\n",
       "        text-align: right;\n",
       "    }\n",
       "</style>\n",
       "<table border=\"1\" class=\"dataframe\">\n",
       "  <thead>\n",
       "    <tr style=\"text-align: right;\">\n",
       "      <th></th>\n",
       "      <th>name</th>\n",
       "      <th>club</th>\n",
       "      <th>age</th>\n",
       "      <th>position</th>\n",
       "      <th>position_cat</th>\n",
       "      <th>market_value</th>\n",
       "      <th>page_views</th>\n",
       "      <th>fpl_value</th>\n",
       "      <th>fpl_sel</th>\n",
       "      <th>fpl_points</th>\n",
       "      <th>region</th>\n",
       "      <th>nationality</th>\n",
       "      <th>new_foreign</th>\n",
       "      <th>age_cat</th>\n",
       "      <th>club_id</th>\n",
       "      <th>big_club</th>\n",
       "      <th>new_signing</th>\n",
       "    </tr>\n",
       "  </thead>\n",
       "  <tbody>\n",
       "    <tr>\n",
       "      <th>0</th>\n",
       "      <td>Alexis Sanchez</td>\n",
       "      <td>Arsenal</td>\n",
       "      <td>28</td>\n",
       "      <td>LW</td>\n",
       "      <td>1</td>\n",
       "      <td>65.0</td>\n",
       "      <td>4329</td>\n",
       "      <td>12.0</td>\n",
       "      <td>17.10%</td>\n",
       "      <td>264</td>\n",
       "      <td>3.0</td>\n",
       "      <td>Chile</td>\n",
       "      <td>0</td>\n",
       "      <td>4</td>\n",
       "      <td>1</td>\n",
       "      <td>1</td>\n",
       "      <td>0</td>\n",
       "    </tr>\n",
       "    <tr>\n",
       "      <th>1</th>\n",
       "      <td>Mesut Ozil</td>\n",
       "      <td>Arsenal</td>\n",
       "      <td>28</td>\n",
       "      <td>AM</td>\n",
       "      <td>1</td>\n",
       "      <td>50.0</td>\n",
       "      <td>4395</td>\n",
       "      <td>9.5</td>\n",
       "      <td>5.60%</td>\n",
       "      <td>167</td>\n",
       "      <td>2.0</td>\n",
       "      <td>Germany</td>\n",
       "      <td>0</td>\n",
       "      <td>4</td>\n",
       "      <td>1</td>\n",
       "      <td>1</td>\n",
       "      <td>0</td>\n",
       "    </tr>\n",
       "    <tr>\n",
       "      <th>2</th>\n",
       "      <td>Petr Cech</td>\n",
       "      <td>Arsenal</td>\n",
       "      <td>35</td>\n",
       "      <td>GK</td>\n",
       "      <td>4</td>\n",
       "      <td>7.0</td>\n",
       "      <td>1529</td>\n",
       "      <td>5.5</td>\n",
       "      <td>5.90%</td>\n",
       "      <td>134</td>\n",
       "      <td>2.0</td>\n",
       "      <td>Czech Republic</td>\n",
       "      <td>0</td>\n",
       "      <td>6</td>\n",
       "      <td>1</td>\n",
       "      <td>1</td>\n",
       "      <td>0</td>\n",
       "    </tr>\n",
       "    <tr>\n",
       "      <th>3</th>\n",
       "      <td>Theo Walcott</td>\n",
       "      <td>Arsenal</td>\n",
       "      <td>28</td>\n",
       "      <td>RW</td>\n",
       "      <td>1</td>\n",
       "      <td>20.0</td>\n",
       "      <td>2393</td>\n",
       "      <td>7.5</td>\n",
       "      <td>1.50%</td>\n",
       "      <td>122</td>\n",
       "      <td>1.0</td>\n",
       "      <td>England</td>\n",
       "      <td>0</td>\n",
       "      <td>4</td>\n",
       "      <td>1</td>\n",
       "      <td>1</td>\n",
       "      <td>0</td>\n",
       "    </tr>\n",
       "    <tr>\n",
       "      <th>4</th>\n",
       "      <td>Laurent Koscielny</td>\n",
       "      <td>Arsenal</td>\n",
       "      <td>31</td>\n",
       "      <td>CB</td>\n",
       "      <td>3</td>\n",
       "      <td>22.0</td>\n",
       "      <td>912</td>\n",
       "      <td>6.0</td>\n",
       "      <td>0.70%</td>\n",
       "      <td>121</td>\n",
       "      <td>2.0</td>\n",
       "      <td>France</td>\n",
       "      <td>0</td>\n",
       "      <td>4</td>\n",
       "      <td>1</td>\n",
       "      <td>1</td>\n",
       "      <td>0</td>\n",
       "    </tr>\n",
       "  </tbody>\n",
       "</table>\n",
       "</div>"
      ],
      "text/plain": [
       "                name     club  age  ... club_id  big_club  new_signing\n",
       "0     Alexis Sanchez  Arsenal   28  ...       1         1            0\n",
       "1         Mesut Ozil  Arsenal   28  ...       1         1            0\n",
       "2          Petr Cech  Arsenal   35  ...       1         1            0\n",
       "3       Theo Walcott  Arsenal   28  ...       1         1            0\n",
       "4  Laurent Koscielny  Arsenal   31  ...       1         1            0\n",
       "\n",
       "[5 rows x 17 columns]"
      ]
     },
     "execution_count": 137,
     "metadata": {},
     "output_type": "execute_result"
    }
   ],
   "source": [
    "df.head()"
   ]
  },
  {
   "cell_type": "code",
   "execution_count": 138,
   "metadata": {
    "colab": {
     "base_uri": "https://localhost:8080/"
    },
    "id": "GCZy6LlRnzXs",
    "outputId": "240de682-4cef-41fb-9d4c-1a0b2e175299"
   },
   "outputs": [
    {
     "data": {
      "text/plain": [
       "array(['LW', 'AM', 'GK', 'RW', 'CB', 'RB', 'CF', 'LB', 'DM', 'RM', 'CM',\n",
       "       'SS', 'LM'], dtype=object)"
      ]
     },
     "execution_count": 138,
     "metadata": {},
     "output_type": "execute_result"
    }
   ],
   "source": [
    "df['position'].unique()"
   ]
  },
  {
   "cell_type": "code",
   "execution_count": 139,
   "metadata": {
    "colab": {
     "base_uri": "https://localhost:8080/"
    },
    "id": "Qajevg4Qn4My",
    "outputId": "fa787847-b238-4a9c-8d1e-858131fae1a1"
   },
   "outputs": [
    {
     "data": {
      "text/plain": [
       "array([1, 4, 3, 2])"
      ]
     },
     "execution_count": 139,
     "metadata": {},
     "output_type": "execute_result"
    }
   ],
   "source": [
    "df['position_cat'].unique()"
   ]
  },
  {
   "cell_type": "code",
   "execution_count": 139,
   "metadata": {
    "id": "2xn7zK1g0b_3"
   },
   "outputs": [],
   "source": []
  },
  {
   "cell_type": "code",
   "execution_count": 140,
   "metadata": {
    "id": "Ws49WXEQ1BLO"
   },
   "outputs": [],
   "source": [
    "def missing_values_table(df):\n",
    "    mis_val = df.isnull().sum()\n",
    "    mis_val_percent = 100 * df.isnull().sum() / len(df)\n",
    "    mis_val_table = pd.concat([mis_val, mis_val_percent], axis=1)\n",
    "    mis_val_table_ren_columns = mis_val_table.rename(\n",
    "    columns = {0 : 'Missing Values', 1 : '% of Total Values'})\n",
    "    mis_val_table_ren_columns = mis_val_table_ren_columns[\n",
    "        mis_val_table_ren_columns.iloc[:,1] != 0].sort_values(\n",
    "    '% of Total Values', ascending=False).round(1)\n",
    "    print (\"Your selected dataframe has \" + str(df.shape[1]) + \" columns.\\n\"      \n",
    "        \"There are \" + str(mis_val_table_ren_columns.shape[0]) +\n",
    "            \" columns that have missing values.\")\n",
    "    return mis_val_table_ren_columns"
   ]
  },
  {
   "cell_type": "code",
   "execution_count": 141,
   "metadata": {
    "colab": {
     "base_uri": "https://localhost:8080/"
    },
    "id": "vr292ar_1BIn",
    "outputId": "6d590594-bdec-47ef-e567-c7e5b14f2376"
   },
   "outputs": [
    {
     "name": "stdout",
     "output_type": "stream",
     "text": [
      "Your selected dataframe has 17 columns.\n",
      "There are 1 columns that have missing values.\n",
      "        Missing Values  % of Total Values\n",
      "region               1                0.2\n"
     ]
    }
   ],
   "source": [
    "print(missing_values_table(df))"
   ]
  },
  {
   "cell_type": "code",
   "execution_count": 142,
   "metadata": {
    "colab": {
     "base_uri": "https://localhost:8080/"
    },
    "id": "nmmLSvOJ0anF",
    "outputId": "297655d3-c3fe-40f7-8e81-3246e4cb92ce"
   },
   "outputs": [
    {
     "data": {
      "text/plain": [
       "array([ 3.,  2.,  1.,  4., nan])"
      ]
     },
     "execution_count": 142,
     "metadata": {},
     "output_type": "execute_result"
    }
   ],
   "source": [
    "df['region'].unique()"
   ]
  },
  {
   "cell_type": "code",
   "execution_count": 143,
   "metadata": {
    "colab": {
     "base_uri": "https://localhost:8080/",
     "height": 80
    },
    "id": "aajxPqNz1BGC",
    "outputId": "9919a12c-78a9-4eba-90f9-90f43a545cc2"
   },
   "outputs": [
    {
     "data": {
      "text/html": [
       "<div>\n",
       "<style scoped>\n",
       "    .dataframe tbody tr th:only-of-type {\n",
       "        vertical-align: middle;\n",
       "    }\n",
       "\n",
       "    .dataframe tbody tr th {\n",
       "        vertical-align: top;\n",
       "    }\n",
       "\n",
       "    .dataframe thead th {\n",
       "        text-align: right;\n",
       "    }\n",
       "</style>\n",
       "<table border=\"1\" class=\"dataframe\">\n",
       "  <thead>\n",
       "    <tr style=\"text-align: right;\">\n",
       "      <th></th>\n",
       "      <th>name</th>\n",
       "      <th>club</th>\n",
       "      <th>age</th>\n",
       "      <th>position</th>\n",
       "      <th>position_cat</th>\n",
       "      <th>market_value</th>\n",
       "      <th>page_views</th>\n",
       "      <th>fpl_value</th>\n",
       "      <th>fpl_sel</th>\n",
       "      <th>fpl_points</th>\n",
       "      <th>region</th>\n",
       "      <th>nationality</th>\n",
       "      <th>new_foreign</th>\n",
       "      <th>age_cat</th>\n",
       "      <th>club_id</th>\n",
       "      <th>big_club</th>\n",
       "      <th>new_signing</th>\n",
       "    </tr>\n",
       "  </thead>\n",
       "  <tbody>\n",
       "    <tr>\n",
       "      <th>188</th>\n",
       "      <td>Steve Mounie</td>\n",
       "      <td>Huddersfield</td>\n",
       "      <td>22</td>\n",
       "      <td>CF</td>\n",
       "      <td>1</td>\n",
       "      <td>5.5</td>\n",
       "      <td>56</td>\n",
       "      <td>6.0</td>\n",
       "      <td>0.60%</td>\n",
       "      <td>0</td>\n",
       "      <td>NaN</td>\n",
       "      <td>Benin</td>\n",
       "      <td>0</td>\n",
       "      <td>2</td>\n",
       "      <td>8</td>\n",
       "      <td>0</td>\n",
       "      <td>0</td>\n",
       "    </tr>\n",
       "  </tbody>\n",
       "</table>\n",
       "</div>"
      ],
      "text/plain": [
       "             name          club  age  ... club_id  big_club  new_signing\n",
       "188  Steve Mounie  Huddersfield   22  ...       8         0            0\n",
       "\n",
       "[1 rows x 17 columns]"
      ]
     },
     "execution_count": 143,
     "metadata": {},
     "output_type": "execute_result"
    }
   ],
   "source": [
    "df[df['region'].isna()]"
   ]
  },
  {
   "cell_type": "markdown",
   "metadata": {
    "id": "_CIsZKQz1WFA"
   },
   "source": [
    "As there is only one column with 1 missing value we can replace this missing values with most frequently occuring value in that column."
   ]
  },
  {
   "cell_type": "code",
   "execution_count": 144,
   "metadata": {
    "id": "ySXmDNfZ1U4s"
   },
   "outputs": [],
   "source": [
    "df['region'].fillna(df['region'].mode()[0], inplace=True)"
   ]
  },
  {
   "cell_type": "code",
   "execution_count": 145,
   "metadata": {
    "colab": {
     "base_uri": "https://localhost:8080/",
     "height": 49
    },
    "id": "rS5Ii8v01U2g",
    "outputId": "0386405f-79f4-4d29-ed17-617c436ed5da"
   },
   "outputs": [
    {
     "data": {
      "text/html": [
       "<div>\n",
       "<style scoped>\n",
       "    .dataframe tbody tr th:only-of-type {\n",
       "        vertical-align: middle;\n",
       "    }\n",
       "\n",
       "    .dataframe tbody tr th {\n",
       "        vertical-align: top;\n",
       "    }\n",
       "\n",
       "    .dataframe thead th {\n",
       "        text-align: right;\n",
       "    }\n",
       "</style>\n",
       "<table border=\"1\" class=\"dataframe\">\n",
       "  <thead>\n",
       "    <tr style=\"text-align: right;\">\n",
       "      <th></th>\n",
       "      <th>name</th>\n",
       "      <th>club</th>\n",
       "      <th>age</th>\n",
       "      <th>position</th>\n",
       "      <th>position_cat</th>\n",
       "      <th>market_value</th>\n",
       "      <th>page_views</th>\n",
       "      <th>fpl_value</th>\n",
       "      <th>fpl_sel</th>\n",
       "      <th>fpl_points</th>\n",
       "      <th>region</th>\n",
       "      <th>nationality</th>\n",
       "      <th>new_foreign</th>\n",
       "      <th>age_cat</th>\n",
       "      <th>club_id</th>\n",
       "      <th>big_club</th>\n",
       "      <th>new_signing</th>\n",
       "    </tr>\n",
       "  </thead>\n",
       "  <tbody>\n",
       "  </tbody>\n",
       "</table>\n",
       "</div>"
      ],
      "text/plain": [
       "Empty DataFrame\n",
       "Columns: [name, club, age, position, position_cat, market_value, page_views, fpl_value, fpl_sel, fpl_points, region, nationality, new_foreign, age_cat, club_id, big_club, new_signing]\n",
       "Index: []"
      ]
     },
     "execution_count": 145,
     "metadata": {},
     "output_type": "execute_result"
    }
   ],
   "source": [
    "df[df['region'].isna()]"
   ]
  },
  {
   "cell_type": "code",
   "execution_count": 146,
   "metadata": {
    "colab": {
     "base_uri": "https://localhost:8080/"
    },
    "id": "oxM4OTGv1U0G",
    "outputId": "197b9586-ecfb-4743-efb1-62b49a5f1ebc"
   },
   "outputs": [
    {
     "name": "stdout",
     "output_type": "stream",
     "text": [
      "Your selected dataframe has 17 columns.\n",
      "There are 0 columns that have missing values.\n",
      "Empty DataFrame\n",
      "Columns: [Missing Values, % of Total Values]\n",
      "Index: []\n"
     ]
    }
   ],
   "source": [
    "print(missing_values_table(df))"
   ]
  },
  {
   "cell_type": "code",
   "execution_count": 147,
   "metadata": {
    "colab": {
     "base_uri": "https://localhost:8080/"
    },
    "id": "SB4vT74O2ACr",
    "outputId": "6254d2b9-8cdd-4c70-8d8e-4fcb7ce7cb1e"
   },
   "outputs": [
    {
     "data": {
      "text/plain": [
       "array([3., 2., 1., 4.])"
      ]
     },
     "execution_count": 147,
     "metadata": {},
     "output_type": "execute_result"
    }
   ],
   "source": [
    "df['region'].unique()\n",
    "# lets convert this from float type to int type."
   ]
  },
  {
   "cell_type": "code",
   "execution_count": 148,
   "metadata": {
    "colab": {
     "base_uri": "https://localhost:8080/"
    },
    "id": "mqPOhWUD1__E",
    "outputId": "f51cbb62-7ac9-47f3-877d-73149737b9f7"
   },
   "outputs": [
    {
     "data": {
      "text/plain": [
       "dtype('float64')"
      ]
     },
     "execution_count": 148,
     "metadata": {},
     "output_type": "execute_result"
    }
   ],
   "source": [
    "df['region'].dtype"
   ]
  },
  {
   "cell_type": "code",
   "execution_count": 149,
   "metadata": {
    "id": "NgSGLodB1_8Y"
   },
   "outputs": [],
   "source": [
    "df['region'] = df['region'].astype(int)"
   ]
  },
  {
   "cell_type": "code",
   "execution_count": 150,
   "metadata": {
    "colab": {
     "base_uri": "https://localhost:8080/"
    },
    "id": "-c0QnEig1_6a",
    "outputId": "d920187b-dde2-4075-ecf2-bb9e8dc1797e"
   },
   "outputs": [
    {
     "data": {
      "text/plain": [
       "dtype('int64')"
      ]
     },
     "execution_count": 150,
     "metadata": {},
     "output_type": "execute_result"
    }
   ],
   "source": [
    "df['region'].dtype"
   ]
  },
  {
   "cell_type": "code",
   "execution_count": 151,
   "metadata": {
    "colab": {
     "base_uri": "https://localhost:8080/"
    },
    "id": "AdvGZzxI2niZ",
    "outputId": "c5351082-9c0e-40d5-f1f6-b01211299bc8"
   },
   "outputs": [
    {
     "data": {
      "text/plain": [
       "array([3, 2, 1, 4])"
      ]
     },
     "execution_count": 151,
     "metadata": {},
     "output_type": "execute_result"
    }
   ],
   "source": [
    "df['region'].unique()"
   ]
  },
  {
   "cell_type": "code",
   "execution_count": 152,
   "metadata": {
    "colab": {
     "base_uri": "https://localhost:8080/",
     "height": 204
    },
    "id": "h23CUQCO2tB9",
    "outputId": "27cdc87c-2218-46fa-bd22-fe438fbca1c1"
   },
   "outputs": [
    {
     "data": {
      "text/html": [
       "<div>\n",
       "<style scoped>\n",
       "    .dataframe tbody tr th:only-of-type {\n",
       "        vertical-align: middle;\n",
       "    }\n",
       "\n",
       "    .dataframe tbody tr th {\n",
       "        vertical-align: top;\n",
       "    }\n",
       "\n",
       "    .dataframe thead th {\n",
       "        text-align: right;\n",
       "    }\n",
       "</style>\n",
       "<table border=\"1\" class=\"dataframe\">\n",
       "  <thead>\n",
       "    <tr style=\"text-align: right;\">\n",
       "      <th></th>\n",
       "      <th>name</th>\n",
       "      <th>club</th>\n",
       "      <th>age</th>\n",
       "      <th>position</th>\n",
       "      <th>position_cat</th>\n",
       "      <th>market_value</th>\n",
       "      <th>page_views</th>\n",
       "      <th>fpl_value</th>\n",
       "      <th>fpl_sel</th>\n",
       "      <th>fpl_points</th>\n",
       "      <th>region</th>\n",
       "      <th>nationality</th>\n",
       "      <th>new_foreign</th>\n",
       "      <th>age_cat</th>\n",
       "      <th>club_id</th>\n",
       "      <th>big_club</th>\n",
       "      <th>new_signing</th>\n",
       "    </tr>\n",
       "  </thead>\n",
       "  <tbody>\n",
       "    <tr>\n",
       "      <th>0</th>\n",
       "      <td>Alexis Sanchez</td>\n",
       "      <td>Arsenal</td>\n",
       "      <td>28</td>\n",
       "      <td>LW</td>\n",
       "      <td>1</td>\n",
       "      <td>65.0</td>\n",
       "      <td>4329</td>\n",
       "      <td>12.0</td>\n",
       "      <td>17.10%</td>\n",
       "      <td>264</td>\n",
       "      <td>3</td>\n",
       "      <td>Chile</td>\n",
       "      <td>0</td>\n",
       "      <td>4</td>\n",
       "      <td>1</td>\n",
       "      <td>1</td>\n",
       "      <td>0</td>\n",
       "    </tr>\n",
       "    <tr>\n",
       "      <th>1</th>\n",
       "      <td>Mesut Ozil</td>\n",
       "      <td>Arsenal</td>\n",
       "      <td>28</td>\n",
       "      <td>AM</td>\n",
       "      <td>1</td>\n",
       "      <td>50.0</td>\n",
       "      <td>4395</td>\n",
       "      <td>9.5</td>\n",
       "      <td>5.60%</td>\n",
       "      <td>167</td>\n",
       "      <td>2</td>\n",
       "      <td>Germany</td>\n",
       "      <td>0</td>\n",
       "      <td>4</td>\n",
       "      <td>1</td>\n",
       "      <td>1</td>\n",
       "      <td>0</td>\n",
       "    </tr>\n",
       "    <tr>\n",
       "      <th>2</th>\n",
       "      <td>Petr Cech</td>\n",
       "      <td>Arsenal</td>\n",
       "      <td>35</td>\n",
       "      <td>GK</td>\n",
       "      <td>4</td>\n",
       "      <td>7.0</td>\n",
       "      <td>1529</td>\n",
       "      <td>5.5</td>\n",
       "      <td>5.90%</td>\n",
       "      <td>134</td>\n",
       "      <td>2</td>\n",
       "      <td>Czech Republic</td>\n",
       "      <td>0</td>\n",
       "      <td>6</td>\n",
       "      <td>1</td>\n",
       "      <td>1</td>\n",
       "      <td>0</td>\n",
       "    </tr>\n",
       "    <tr>\n",
       "      <th>3</th>\n",
       "      <td>Theo Walcott</td>\n",
       "      <td>Arsenal</td>\n",
       "      <td>28</td>\n",
       "      <td>RW</td>\n",
       "      <td>1</td>\n",
       "      <td>20.0</td>\n",
       "      <td>2393</td>\n",
       "      <td>7.5</td>\n",
       "      <td>1.50%</td>\n",
       "      <td>122</td>\n",
       "      <td>1</td>\n",
       "      <td>England</td>\n",
       "      <td>0</td>\n",
       "      <td>4</td>\n",
       "      <td>1</td>\n",
       "      <td>1</td>\n",
       "      <td>0</td>\n",
       "    </tr>\n",
       "    <tr>\n",
       "      <th>4</th>\n",
       "      <td>Laurent Koscielny</td>\n",
       "      <td>Arsenal</td>\n",
       "      <td>31</td>\n",
       "      <td>CB</td>\n",
       "      <td>3</td>\n",
       "      <td>22.0</td>\n",
       "      <td>912</td>\n",
       "      <td>6.0</td>\n",
       "      <td>0.70%</td>\n",
       "      <td>121</td>\n",
       "      <td>2</td>\n",
       "      <td>France</td>\n",
       "      <td>0</td>\n",
       "      <td>4</td>\n",
       "      <td>1</td>\n",
       "      <td>1</td>\n",
       "      <td>0</td>\n",
       "    </tr>\n",
       "  </tbody>\n",
       "</table>\n",
       "</div>"
      ],
      "text/plain": [
       "                name     club  age  ... club_id  big_club  new_signing\n",
       "0     Alexis Sanchez  Arsenal   28  ...       1         1            0\n",
       "1         Mesut Ozil  Arsenal   28  ...       1         1            0\n",
       "2          Petr Cech  Arsenal   35  ...       1         1            0\n",
       "3       Theo Walcott  Arsenal   28  ...       1         1            0\n",
       "4  Laurent Koscielny  Arsenal   31  ...       1         1            0\n",
       "\n",
       "[5 rows x 17 columns]"
      ]
     },
     "execution_count": 152,
     "metadata": {},
     "output_type": "execute_result"
    }
   ],
   "source": [
    "df.head()"
   ]
  },
  {
   "cell_type": "code",
   "execution_count": 153,
   "metadata": {
    "colab": {
     "base_uri": "https://localhost:8080/"
    },
    "id": "8JOeSbM32s_9",
    "outputId": "3e5f55ab-2386-45d7-8487-0b8983a93bf2"
   },
   "outputs": [
    {
     "data": {
      "text/plain": [
       "dtype('O')"
      ]
     },
     "execution_count": 153,
     "metadata": {},
     "output_type": "execute_result"
    }
   ],
   "source": [
    "df['fpl_sel'].dtype\n",
    "# lets convert to numeric and remove the percentage symbol."
   ]
  },
  {
   "cell_type": "code",
   "execution_count": 154,
   "metadata": {
    "id": "blDXE-713Yv3"
   },
   "outputs": [],
   "source": [
    "df['fpl_sel'] = df['fpl_sel'].apply(lambda x:x[:-1])"
   ]
  },
  {
   "cell_type": "code",
   "execution_count": 155,
   "metadata": {
    "colab": {
     "base_uri": "https://localhost:8080/",
     "height": 204
    },
    "id": "wrXIaVKD3kk-",
    "outputId": "d6172d08-e04f-4c29-b0b7-1411c9549e43"
   },
   "outputs": [
    {
     "data": {
      "text/html": [
       "<div>\n",
       "<style scoped>\n",
       "    .dataframe tbody tr th:only-of-type {\n",
       "        vertical-align: middle;\n",
       "    }\n",
       "\n",
       "    .dataframe tbody tr th {\n",
       "        vertical-align: top;\n",
       "    }\n",
       "\n",
       "    .dataframe thead th {\n",
       "        text-align: right;\n",
       "    }\n",
       "</style>\n",
       "<table border=\"1\" class=\"dataframe\">\n",
       "  <thead>\n",
       "    <tr style=\"text-align: right;\">\n",
       "      <th></th>\n",
       "      <th>name</th>\n",
       "      <th>club</th>\n",
       "      <th>age</th>\n",
       "      <th>position</th>\n",
       "      <th>position_cat</th>\n",
       "      <th>market_value</th>\n",
       "      <th>page_views</th>\n",
       "      <th>fpl_value</th>\n",
       "      <th>fpl_sel</th>\n",
       "      <th>fpl_points</th>\n",
       "      <th>region</th>\n",
       "      <th>nationality</th>\n",
       "      <th>new_foreign</th>\n",
       "      <th>age_cat</th>\n",
       "      <th>club_id</th>\n",
       "      <th>big_club</th>\n",
       "      <th>new_signing</th>\n",
       "    </tr>\n",
       "  </thead>\n",
       "  <tbody>\n",
       "    <tr>\n",
       "      <th>0</th>\n",
       "      <td>Alexis Sanchez</td>\n",
       "      <td>Arsenal</td>\n",
       "      <td>28</td>\n",
       "      <td>LW</td>\n",
       "      <td>1</td>\n",
       "      <td>65.0</td>\n",
       "      <td>4329</td>\n",
       "      <td>12.0</td>\n",
       "      <td>17.10</td>\n",
       "      <td>264</td>\n",
       "      <td>3</td>\n",
       "      <td>Chile</td>\n",
       "      <td>0</td>\n",
       "      <td>4</td>\n",
       "      <td>1</td>\n",
       "      <td>1</td>\n",
       "      <td>0</td>\n",
       "    </tr>\n",
       "    <tr>\n",
       "      <th>1</th>\n",
       "      <td>Mesut Ozil</td>\n",
       "      <td>Arsenal</td>\n",
       "      <td>28</td>\n",
       "      <td>AM</td>\n",
       "      <td>1</td>\n",
       "      <td>50.0</td>\n",
       "      <td>4395</td>\n",
       "      <td>9.5</td>\n",
       "      <td>5.60</td>\n",
       "      <td>167</td>\n",
       "      <td>2</td>\n",
       "      <td>Germany</td>\n",
       "      <td>0</td>\n",
       "      <td>4</td>\n",
       "      <td>1</td>\n",
       "      <td>1</td>\n",
       "      <td>0</td>\n",
       "    </tr>\n",
       "    <tr>\n",
       "      <th>2</th>\n",
       "      <td>Petr Cech</td>\n",
       "      <td>Arsenal</td>\n",
       "      <td>35</td>\n",
       "      <td>GK</td>\n",
       "      <td>4</td>\n",
       "      <td>7.0</td>\n",
       "      <td>1529</td>\n",
       "      <td>5.5</td>\n",
       "      <td>5.90</td>\n",
       "      <td>134</td>\n",
       "      <td>2</td>\n",
       "      <td>Czech Republic</td>\n",
       "      <td>0</td>\n",
       "      <td>6</td>\n",
       "      <td>1</td>\n",
       "      <td>1</td>\n",
       "      <td>0</td>\n",
       "    </tr>\n",
       "    <tr>\n",
       "      <th>3</th>\n",
       "      <td>Theo Walcott</td>\n",
       "      <td>Arsenal</td>\n",
       "      <td>28</td>\n",
       "      <td>RW</td>\n",
       "      <td>1</td>\n",
       "      <td>20.0</td>\n",
       "      <td>2393</td>\n",
       "      <td>7.5</td>\n",
       "      <td>1.50</td>\n",
       "      <td>122</td>\n",
       "      <td>1</td>\n",
       "      <td>England</td>\n",
       "      <td>0</td>\n",
       "      <td>4</td>\n",
       "      <td>1</td>\n",
       "      <td>1</td>\n",
       "      <td>0</td>\n",
       "    </tr>\n",
       "    <tr>\n",
       "      <th>4</th>\n",
       "      <td>Laurent Koscielny</td>\n",
       "      <td>Arsenal</td>\n",
       "      <td>31</td>\n",
       "      <td>CB</td>\n",
       "      <td>3</td>\n",
       "      <td>22.0</td>\n",
       "      <td>912</td>\n",
       "      <td>6.0</td>\n",
       "      <td>0.70</td>\n",
       "      <td>121</td>\n",
       "      <td>2</td>\n",
       "      <td>France</td>\n",
       "      <td>0</td>\n",
       "      <td>4</td>\n",
       "      <td>1</td>\n",
       "      <td>1</td>\n",
       "      <td>0</td>\n",
       "    </tr>\n",
       "  </tbody>\n",
       "</table>\n",
       "</div>"
      ],
      "text/plain": [
       "                name     club  age  ... club_id  big_club  new_signing\n",
       "0     Alexis Sanchez  Arsenal   28  ...       1         1            0\n",
       "1         Mesut Ozil  Arsenal   28  ...       1         1            0\n",
       "2          Petr Cech  Arsenal   35  ...       1         1            0\n",
       "3       Theo Walcott  Arsenal   28  ...       1         1            0\n",
       "4  Laurent Koscielny  Arsenal   31  ...       1         1            0\n",
       "\n",
       "[5 rows x 17 columns]"
      ]
     },
     "execution_count": 155,
     "metadata": {},
     "output_type": "execute_result"
    }
   ],
   "source": [
    "df.head()"
   ]
  },
  {
   "cell_type": "code",
   "execution_count": 156,
   "metadata": {
    "colab": {
     "base_uri": "https://localhost:8080/"
    },
    "id": "lUnbKuyy3vH_",
    "outputId": "2aa48ad7-3994-47db-a703-ec83e5f80f67"
   },
   "outputs": [
    {
     "data": {
      "text/plain": [
       "dtype('O')"
      ]
     },
     "execution_count": 156,
     "metadata": {},
     "output_type": "execute_result"
    }
   ],
   "source": [
    "df['fpl_sel'].dtype"
   ]
  },
  {
   "cell_type": "code",
   "execution_count": 157,
   "metadata": {
    "id": "5Nsj8uI23nWp"
   },
   "outputs": [],
   "source": [
    "df['fpl_sel'] = pd.to_numeric(df['fpl_sel'])"
   ]
  },
  {
   "cell_type": "code",
   "execution_count": 158,
   "metadata": {
    "colab": {
     "base_uri": "https://localhost:8080/"
    },
    "id": "C4DrRF_83nT4",
    "outputId": "46738083-7814-43ff-f054-1cee7b9af70c"
   },
   "outputs": [
    {
     "data": {
      "text/plain": [
       "dtype('float64')"
      ]
     },
     "execution_count": 158,
     "metadata": {},
     "output_type": "execute_result"
    }
   ],
   "source": [
    "df['fpl_sel'].dtype"
   ]
  },
  {
   "cell_type": "code",
   "execution_count": 159,
   "metadata": {
    "colab": {
     "base_uri": "https://localhost:8080/",
     "height": 204
    },
    "id": "8wJBgKCi3nRg",
    "outputId": "03a29ef7-5f16-4f28-ad5f-2b4ffad3331a"
   },
   "outputs": [
    {
     "data": {
      "text/html": [
       "<div>\n",
       "<style scoped>\n",
       "    .dataframe tbody tr th:only-of-type {\n",
       "        vertical-align: middle;\n",
       "    }\n",
       "\n",
       "    .dataframe tbody tr th {\n",
       "        vertical-align: top;\n",
       "    }\n",
       "\n",
       "    .dataframe thead th {\n",
       "        text-align: right;\n",
       "    }\n",
       "</style>\n",
       "<table border=\"1\" class=\"dataframe\">\n",
       "  <thead>\n",
       "    <tr style=\"text-align: right;\">\n",
       "      <th></th>\n",
       "      <th>name</th>\n",
       "      <th>club</th>\n",
       "      <th>age</th>\n",
       "      <th>position</th>\n",
       "      <th>position_cat</th>\n",
       "      <th>market_value</th>\n",
       "      <th>page_views</th>\n",
       "      <th>fpl_value</th>\n",
       "      <th>fpl_sel</th>\n",
       "      <th>fpl_points</th>\n",
       "      <th>region</th>\n",
       "      <th>nationality</th>\n",
       "      <th>new_foreign</th>\n",
       "      <th>age_cat</th>\n",
       "      <th>club_id</th>\n",
       "      <th>big_club</th>\n",
       "      <th>new_signing</th>\n",
       "    </tr>\n",
       "  </thead>\n",
       "  <tbody>\n",
       "    <tr>\n",
       "      <th>0</th>\n",
       "      <td>Alexis Sanchez</td>\n",
       "      <td>Arsenal</td>\n",
       "      <td>28</td>\n",
       "      <td>LW</td>\n",
       "      <td>1</td>\n",
       "      <td>65.0</td>\n",
       "      <td>4329</td>\n",
       "      <td>12.0</td>\n",
       "      <td>17.1</td>\n",
       "      <td>264</td>\n",
       "      <td>3</td>\n",
       "      <td>Chile</td>\n",
       "      <td>0</td>\n",
       "      <td>4</td>\n",
       "      <td>1</td>\n",
       "      <td>1</td>\n",
       "      <td>0</td>\n",
       "    </tr>\n",
       "    <tr>\n",
       "      <th>1</th>\n",
       "      <td>Mesut Ozil</td>\n",
       "      <td>Arsenal</td>\n",
       "      <td>28</td>\n",
       "      <td>AM</td>\n",
       "      <td>1</td>\n",
       "      <td>50.0</td>\n",
       "      <td>4395</td>\n",
       "      <td>9.5</td>\n",
       "      <td>5.6</td>\n",
       "      <td>167</td>\n",
       "      <td>2</td>\n",
       "      <td>Germany</td>\n",
       "      <td>0</td>\n",
       "      <td>4</td>\n",
       "      <td>1</td>\n",
       "      <td>1</td>\n",
       "      <td>0</td>\n",
       "    </tr>\n",
       "    <tr>\n",
       "      <th>2</th>\n",
       "      <td>Petr Cech</td>\n",
       "      <td>Arsenal</td>\n",
       "      <td>35</td>\n",
       "      <td>GK</td>\n",
       "      <td>4</td>\n",
       "      <td>7.0</td>\n",
       "      <td>1529</td>\n",
       "      <td>5.5</td>\n",
       "      <td>5.9</td>\n",
       "      <td>134</td>\n",
       "      <td>2</td>\n",
       "      <td>Czech Republic</td>\n",
       "      <td>0</td>\n",
       "      <td>6</td>\n",
       "      <td>1</td>\n",
       "      <td>1</td>\n",
       "      <td>0</td>\n",
       "    </tr>\n",
       "    <tr>\n",
       "      <th>3</th>\n",
       "      <td>Theo Walcott</td>\n",
       "      <td>Arsenal</td>\n",
       "      <td>28</td>\n",
       "      <td>RW</td>\n",
       "      <td>1</td>\n",
       "      <td>20.0</td>\n",
       "      <td>2393</td>\n",
       "      <td>7.5</td>\n",
       "      <td>1.5</td>\n",
       "      <td>122</td>\n",
       "      <td>1</td>\n",
       "      <td>England</td>\n",
       "      <td>0</td>\n",
       "      <td>4</td>\n",
       "      <td>1</td>\n",
       "      <td>1</td>\n",
       "      <td>0</td>\n",
       "    </tr>\n",
       "    <tr>\n",
       "      <th>4</th>\n",
       "      <td>Laurent Koscielny</td>\n",
       "      <td>Arsenal</td>\n",
       "      <td>31</td>\n",
       "      <td>CB</td>\n",
       "      <td>3</td>\n",
       "      <td>22.0</td>\n",
       "      <td>912</td>\n",
       "      <td>6.0</td>\n",
       "      <td>0.7</td>\n",
       "      <td>121</td>\n",
       "      <td>2</td>\n",
       "      <td>France</td>\n",
       "      <td>0</td>\n",
       "      <td>4</td>\n",
       "      <td>1</td>\n",
       "      <td>1</td>\n",
       "      <td>0</td>\n",
       "    </tr>\n",
       "  </tbody>\n",
       "</table>\n",
       "</div>"
      ],
      "text/plain": [
       "                name     club  age  ... club_id  big_club  new_signing\n",
       "0     Alexis Sanchez  Arsenal   28  ...       1         1            0\n",
       "1         Mesut Ozil  Arsenal   28  ...       1         1            0\n",
       "2          Petr Cech  Arsenal   35  ...       1         1            0\n",
       "3       Theo Walcott  Arsenal   28  ...       1         1            0\n",
       "4  Laurent Koscielny  Arsenal   31  ...       1         1            0\n",
       "\n",
       "[5 rows x 17 columns]"
      ]
     },
     "execution_count": 159,
     "metadata": {},
     "output_type": "execute_result"
    }
   ],
   "source": [
    "df.head()"
   ]
  },
  {
   "cell_type": "code",
   "execution_count": 160,
   "metadata": {
    "colab": {
     "base_uri": "https://localhost:8080/"
    },
    "id": "ViXdWHlQ2s7L",
    "outputId": "9c35f25c-59ce-4131-bdb3-ae8e5141d256"
   },
   "outputs": [
    {
     "data": {
      "text/plain": [
       "['age',\n",
       " 'position_cat',\n",
       " 'market_value',\n",
       " 'page_views',\n",
       " 'fpl_value',\n",
       " 'fpl_points',\n",
       " 'region',\n",
       " 'new_foreign',\n",
       " 'age_cat',\n",
       " 'club_id',\n",
       " 'big_club',\n",
       " 'new_signing']"
      ]
     },
     "execution_count": 160,
     "metadata": {},
     "output_type": "execute_result"
    }
   ],
   "source": [
    "numerical_columns"
   ]
  },
  {
   "cell_type": "code",
   "execution_count": 160,
   "metadata": {
    "id": "zeXBDtS_2s5G"
   },
   "outputs": [],
   "source": []
  },
  {
   "cell_type": "code",
   "execution_count": 160,
   "metadata": {
    "id": "cXOAZswF2s2A"
   },
   "outputs": [],
   "source": []
  },
  {
   "cell_type": "code",
   "execution_count": 160,
   "metadata": {
    "id": "ikXi0F2A2szm"
   },
   "outputs": [],
   "source": []
  },
  {
   "cell_type": "code",
   "execution_count": 161,
   "metadata": {
    "id": "H8wROLFZnZED"
   },
   "outputs": [],
   "source": [
    "continuous_columns = ['page_views','fpl_value', 'fpl_sel','fpl_points', 'market_value']\n",
    "categorical_columns = ['age_cat','region','position_cat', 'nationality', 'new_foreign', 'club_id', 'big_club', 'new_signing']\n",
    "\n",
    "# out of age and age_cat we have taken age_cat as the feature\n",
    "# out of club and club_id we have taken club_id as the feature\n",
    "# out of position and position_cat we have taken position_cat as the feature \n",
    "# name feature has been dropped as it contributes nothing for our ML model."
   ]
  },
  {
   "cell_type": "code",
   "execution_count": 162,
   "metadata": {
    "colab": {
     "base_uri": "https://localhost:8080/"
    },
    "id": "nJJ_9k7F6i_o",
    "outputId": "af97696a-4860-40f9-9f97-0f397ae1afba"
   },
   "outputs": [
    {
     "name": "stdout",
     "output_type": "stream",
     "text": [
      "The continuous columns are ['page_views', 'fpl_value', 'fpl_sel', 'fpl_points', 'market_value']\n",
      "The categorical columns are ['age_cat', 'region', 'position_cat', 'nationality', 'new_foreign', 'club_id', 'big_club', 'new_signing']\n"
     ]
    }
   ],
   "source": [
    "print(f\"The continuous columns are {continuous_columns}\\nThe categorical columns are {categorical_columns}\")"
   ]
  },
  {
   "cell_type": "code",
   "execution_count": 163,
   "metadata": {
    "colab": {
     "base_uri": "https://localhost:8080/"
    },
    "id": "N89ERx646i9P",
    "outputId": "6cabe202-c1c8-4cea-aaa3-f843c4053279"
   },
   "outputs": [
    {
     "data": {
      "text/plain": [
       "age            -0.132396\n",
       "position_cat   -0.217637\n",
       "market_value    1.000000\n",
       "page_views      0.739657\n",
       "fpl_value       0.788653\n",
       "fpl_sel         0.548703\n",
       "fpl_points      0.615155\n",
       "region          0.101629\n",
       "new_foreign     0.098056\n",
       "age_cat        -0.117682\n",
       "club_id        -0.046068\n",
       "big_club        0.593483\n",
       "new_signing     0.131321\n",
       "Name: market_value, dtype: float64"
      ]
     },
     "execution_count": 163,
     "metadata": {},
     "output_type": "execute_result"
    }
   ],
   "source": [
    "df.corr()['market_value']"
   ]
  },
  {
   "cell_type": "code",
   "execution_count": 164,
   "metadata": {
    "colab": {
     "base_uri": "https://localhost:8080/",
     "height": 571
    },
    "id": "03ZF8OT9_g5E",
    "outputId": "533495c4-5f0e-4a52-9328-7499c2e8c90b"
   },
   "outputs": [
    {
     "data": {
      "text/plain": [
       "<matplotlib.axes._subplots.AxesSubplot at 0x7f44ea1fc450>"
      ]
     },
     "execution_count": 164,
     "metadata": {},
     "output_type": "execute_result"
    },
    {
     "data": {
      "image/png": "[encoded data removed]",
      "text/plain": [
       "<Figure size 1440x576 with 2 Axes>"
      ]
     },
     "metadata": {},
     "output_type": "display_data"
    }
   ],
   "source": [
    "sns.heatmap(df.corr())"
   ]
  },
  {
   "cell_type": "code",
   "execution_count": 165,
   "metadata": {
    "colab": {
     "base_uri": "https://localhost:8080/"
    },
    "id": "zm-FB13u-45D",
    "outputId": "a5656f9f-378b-413e-d526-481219e89240"
   },
   "outputs": [
    {
     "data": {
      "text/plain": [
       "age            -0.097659\n",
       "position_cat   -0.491800\n",
       "market_value    0.788653\n",
       "page_views      0.730640\n",
       "fpl_value       1.000000\n",
       "fpl_sel         0.504888\n",
       "fpl_points      0.618837\n",
       "region          0.082420\n",
       "new_foreign     0.108650\n",
       "age_cat        -0.082056\n",
       "club_id        -0.060884\n",
       "big_club        0.423556\n",
       "new_signing     0.098314\n",
       "Name: fpl_value, dtype: float64"
      ]
     },
     "execution_count": 165,
     "metadata": {},
     "output_type": "execute_result"
    }
   ],
   "source": [
    "df.corr()['fpl_value']"
   ]
  },
  {
   "cell_type": "markdown",
   "metadata": {
    "id": "ThlPMCm8-xL_"
   },
   "source": [
    "Correlation of any two columns is not that high that we need to drop them."
   ]
  },
  {
   "cell_type": "code",
   "execution_count": 166,
   "metadata": {
    "colab": {
     "base_uri": "https://localhost:8080/",
     "height": 502
    },
    "id": "il_ruC4k_g0g",
    "outputId": "2f428737-addb-4ebc-ef1a-8695faad1c98"
   },
   "outputs": [
    {
     "data": {
      "image/png": "[encoded data removed]",
      "text/plain": [
       "<Figure size 1440x576 with 1 Axes>"
      ]
     },
     "metadata": {},
     "output_type": "display_data"
    }
   ],
   "source": [
    "sns.distplot(df['market_value']);"
   ]
  },
  {
   "cell_type": "markdown",
   "metadata": {
    "id": "FWcuS27Z8MqN"
   },
   "source": [
    "We can see that our target column is little skewed so we will apply log transformation on it."
   ]
  },
  {
   "cell_type": "code",
   "execution_count": 167,
   "metadata": {
    "colab": {
     "base_uri": "https://localhost:8080/",
     "height": 502
    },
    "id": "_uvlsb0L_gyZ",
    "outputId": "fe66e170-c549-4877-af40-d186745111f6"
   },
   "outputs": [
    {
     "data": {
      "image/png": "[encoded data removed]",
      "text/plain": [
       "<Figure size 1440x576 with 1 Axes>"
      ]
     },
     "metadata": {},
     "output_type": "display_data"
    }
   ],
   "source": [
    "sns.distplot(np.log(df['market_value']));"
   ]
  },
  {
   "cell_type": "code",
   "execution_count": 168,
   "metadata": {
    "colab": {
     "base_uri": "https://localhost:8080/",
     "height": 204
    },
    "id": "gas0M7vX_gvy",
    "outputId": "6bf97bba-3052-4e8f-8c1a-0e9776852cfe"
   },
   "outputs": [
    {
     "data": {
      "text/html": [
       "<div>\n",
       "<style scoped>\n",
       "    .dataframe tbody tr th:only-of-type {\n",
       "        vertical-align: middle;\n",
       "    }\n",
       "\n",
       "    .dataframe tbody tr th {\n",
       "        vertical-align: top;\n",
       "    }\n",
       "\n",
       "    .dataframe thead th {\n",
       "        text-align: right;\n",
       "    }\n",
       "</style>\n",
       "<table border=\"1\" class=\"dataframe\">\n",
       "  <thead>\n",
       "    <tr style=\"text-align: right;\">\n",
       "      <th></th>\n",
       "      <th>name</th>\n",
       "      <th>club</th>\n",
       "      <th>age</th>\n",
       "      <th>position</th>\n",
       "      <th>position_cat</th>\n",
       "      <th>market_value</th>\n",
       "      <th>page_views</th>\n",
       "      <th>fpl_value</th>\n",
       "      <th>fpl_sel</th>\n",
       "      <th>fpl_points</th>\n",
       "      <th>region</th>\n",
       "      <th>nationality</th>\n",
       "      <th>new_foreign</th>\n",
       "      <th>age_cat</th>\n",
       "      <th>club_id</th>\n",
       "      <th>big_club</th>\n",
       "      <th>new_signing</th>\n",
       "    </tr>\n",
       "  </thead>\n",
       "  <tbody>\n",
       "    <tr>\n",
       "      <th>0</th>\n",
       "      <td>Alexis Sanchez</td>\n",
       "      <td>Arsenal</td>\n",
       "      <td>28</td>\n",
       "      <td>LW</td>\n",
       "      <td>1</td>\n",
       "      <td>65.0</td>\n",
       "      <td>4329</td>\n",
       "      <td>12.0</td>\n",
       "      <td>17.1</td>\n",
       "      <td>264</td>\n",
       "      <td>3</td>\n",
       "      <td>Chile</td>\n",
       "      <td>0</td>\n",
       "      <td>4</td>\n",
       "      <td>1</td>\n",
       "      <td>1</td>\n",
       "      <td>0</td>\n",
       "    </tr>\n",
       "    <tr>\n",
       "      <th>1</th>\n",
       "      <td>Mesut Ozil</td>\n",
       "      <td>Arsenal</td>\n",
       "      <td>28</td>\n",
       "      <td>AM</td>\n",
       "      <td>1</td>\n",
       "      <td>50.0</td>\n",
       "      <td>4395</td>\n",
       "      <td>9.5</td>\n",
       "      <td>5.6</td>\n",
       "      <td>167</td>\n",
       "      <td>2</td>\n",
       "      <td>Germany</td>\n",
       "      <td>0</td>\n",
       "      <td>4</td>\n",
       "      <td>1</td>\n",
       "      <td>1</td>\n",
       "      <td>0</td>\n",
       "    </tr>\n",
       "    <tr>\n",
       "      <th>2</th>\n",
       "      <td>Petr Cech</td>\n",
       "      <td>Arsenal</td>\n",
       "      <td>35</td>\n",
       "      <td>GK</td>\n",
       "      <td>4</td>\n",
       "      <td>7.0</td>\n",
       "      <td>1529</td>\n",
       "      <td>5.5</td>\n",
       "      <td>5.9</td>\n",
       "      <td>134</td>\n",
       "      <td>2</td>\n",
       "      <td>Czech Republic</td>\n",
       "      <td>0</td>\n",
       "      <td>6</td>\n",
       "      <td>1</td>\n",
       "      <td>1</td>\n",
       "      <td>0</td>\n",
       "    </tr>\n",
       "    <tr>\n",
       "      <th>3</th>\n",
       "      <td>Theo Walcott</td>\n",
       "      <td>Arsenal</td>\n",
       "      <td>28</td>\n",
       "      <td>RW</td>\n",
       "      <td>1</td>\n",
       "      <td>20.0</td>\n",
       "      <td>2393</td>\n",
       "      <td>7.5</td>\n",
       "      <td>1.5</td>\n",
       "      <td>122</td>\n",
       "      <td>1</td>\n",
       "      <td>England</td>\n",
       "      <td>0</td>\n",
       "      <td>4</td>\n",
       "      <td>1</td>\n",
       "      <td>1</td>\n",
       "      <td>0</td>\n",
       "    </tr>\n",
       "    <tr>\n",
       "      <th>4</th>\n",
       "      <td>Laurent Koscielny</td>\n",
       "      <td>Arsenal</td>\n",
       "      <td>31</td>\n",
       "      <td>CB</td>\n",
       "      <td>3</td>\n",
       "      <td>22.0</td>\n",
       "      <td>912</td>\n",
       "      <td>6.0</td>\n",
       "      <td>0.7</td>\n",
       "      <td>121</td>\n",
       "      <td>2</td>\n",
       "      <td>France</td>\n",
       "      <td>0</td>\n",
       "      <td>4</td>\n",
       "      <td>1</td>\n",
       "      <td>1</td>\n",
       "      <td>0</td>\n",
       "    </tr>\n",
       "  </tbody>\n",
       "</table>\n",
       "</div>"
      ],
      "text/plain": [
       "                name     club  age  ... club_id  big_club  new_signing\n",
       "0     Alexis Sanchez  Arsenal   28  ...       1         1            0\n",
       "1         Mesut Ozil  Arsenal   28  ...       1         1            0\n",
       "2          Petr Cech  Arsenal   35  ...       1         1            0\n",
       "3       Theo Walcott  Arsenal   28  ...       1         1            0\n",
       "4  Laurent Koscielny  Arsenal   31  ...       1         1            0\n",
       "\n",
       "[5 rows x 17 columns]"
      ]
     },
     "execution_count": 168,
     "metadata": {},
     "output_type": "execute_result"
    }
   ],
   "source": [
    "df.head()"
   ]
  },
  {
   "cell_type": "code",
   "execution_count": 169,
   "metadata": {
    "id": "7cmm0RBO_gs7"
   },
   "outputs": [],
   "source": [
    "final_columns = list(set().union(continuous_columns,categorical_columns))"
   ]
  },
  {
   "cell_type": "code",
   "execution_count": 170,
   "metadata": {
    "colab": {
     "base_uri": "https://localhost:8080/"
    },
    "id": "tack6_uZ_hgb",
    "outputId": "724d9b2d-d5f8-4af0-ffab-b0ad626bb340"
   },
   "outputs": [
    {
     "data": {
      "text/plain": [
       "['region',\n",
       " 'fpl_value',\n",
       " 'age_cat',\n",
       " 'new_signing',\n",
       " 'market_value',\n",
       " 'new_foreign',\n",
       " 'club_id',\n",
       " 'fpl_points',\n",
       " 'nationality',\n",
       " 'big_club',\n",
       " 'page_views',\n",
       " 'fpl_sel',\n",
       " 'position_cat']"
      ]
     },
     "execution_count": 170,
     "metadata": {},
     "output_type": "execute_result"
    }
   ],
   "source": [
    "final_columns"
   ]
  },
  {
   "cell_type": "code",
   "execution_count": 171,
   "metadata": {
    "colab": {
     "base_uri": "https://localhost:8080/"
    },
    "id": "jk7qmkOVAsDz",
    "outputId": "208a81e3-a6c6-4c11-8e46-2f165d16c391"
   },
   "outputs": [
    {
     "data": {
      "text/plain": [
       "13"
      ]
     },
     "execution_count": 171,
     "metadata": {},
     "output_type": "execute_result"
    }
   ],
   "source": [
    "len(final_columns)"
   ]
  },
  {
   "cell_type": "code",
   "execution_count": 172,
   "metadata": {
    "colab": {
     "base_uri": "https://localhost:8080/",
     "height": 204
    },
    "id": "ywhx3If9BSgB",
    "outputId": "f05b5fb6-0c91-4977-871f-213cb62268aa"
   },
   "outputs": [
    {
     "data": {
      "text/html": [
       "<div>\n",
       "<style scoped>\n",
       "    .dataframe tbody tr th:only-of-type {\n",
       "        vertical-align: middle;\n",
       "    }\n",
       "\n",
       "    .dataframe tbody tr th {\n",
       "        vertical-align: top;\n",
       "    }\n",
       "\n",
       "    .dataframe thead th {\n",
       "        text-align: right;\n",
       "    }\n",
       "</style>\n",
       "<table border=\"1\" class=\"dataframe\">\n",
       "  <thead>\n",
       "    <tr style=\"text-align: right;\">\n",
       "      <th></th>\n",
       "      <th>name</th>\n",
       "      <th>club</th>\n",
       "      <th>age</th>\n",
       "      <th>position</th>\n",
       "      <th>position_cat</th>\n",
       "      <th>market_value</th>\n",
       "      <th>page_views</th>\n",
       "      <th>fpl_value</th>\n",
       "      <th>fpl_sel</th>\n",
       "      <th>fpl_points</th>\n",
       "      <th>region</th>\n",
       "      <th>nationality</th>\n",
       "      <th>new_foreign</th>\n",
       "      <th>age_cat</th>\n",
       "      <th>club_id</th>\n",
       "      <th>big_club</th>\n",
       "      <th>new_signing</th>\n",
       "    </tr>\n",
       "  </thead>\n",
       "  <tbody>\n",
       "    <tr>\n",
       "      <th>0</th>\n",
       "      <td>Alexis Sanchez</td>\n",
       "      <td>Arsenal</td>\n",
       "      <td>28</td>\n",
       "      <td>LW</td>\n",
       "      <td>1</td>\n",
       "      <td>65.0</td>\n",
       "      <td>4329</td>\n",
       "      <td>12.0</td>\n",
       "      <td>17.1</td>\n",
       "      <td>264</td>\n",
       "      <td>3</td>\n",
       "      <td>Chile</td>\n",
       "      <td>0</td>\n",
       "      <td>4</td>\n",
       "      <td>1</td>\n",
       "      <td>1</td>\n",
       "      <td>0</td>\n",
       "    </tr>\n",
       "    <tr>\n",
       "      <th>1</th>\n",
       "      <td>Mesut Ozil</td>\n",
       "      <td>Arsenal</td>\n",
       "      <td>28</td>\n",
       "      <td>AM</td>\n",
       "      <td>1</td>\n",
       "      <td>50.0</td>\n",
       "      <td>4395</td>\n",
       "      <td>9.5</td>\n",
       "      <td>5.6</td>\n",
       "      <td>167</td>\n",
       "      <td>2</td>\n",
       "      <td>Germany</td>\n",
       "      <td>0</td>\n",
       "      <td>4</td>\n",
       "      <td>1</td>\n",
       "      <td>1</td>\n",
       "      <td>0</td>\n",
       "    </tr>\n",
       "    <tr>\n",
       "      <th>2</th>\n",
       "      <td>Petr Cech</td>\n",
       "      <td>Arsenal</td>\n",
       "      <td>35</td>\n",
       "      <td>GK</td>\n",
       "      <td>4</td>\n",
       "      <td>7.0</td>\n",
       "      <td>1529</td>\n",
       "      <td>5.5</td>\n",
       "      <td>5.9</td>\n",
       "      <td>134</td>\n",
       "      <td>2</td>\n",
       "      <td>Czech Republic</td>\n",
       "      <td>0</td>\n",
       "      <td>6</td>\n",
       "      <td>1</td>\n",
       "      <td>1</td>\n",
       "      <td>0</td>\n",
       "    </tr>\n",
       "    <tr>\n",
       "      <th>3</th>\n",
       "      <td>Theo Walcott</td>\n",
       "      <td>Arsenal</td>\n",
       "      <td>28</td>\n",
       "      <td>RW</td>\n",
       "      <td>1</td>\n",
       "      <td>20.0</td>\n",
       "      <td>2393</td>\n",
       "      <td>7.5</td>\n",
       "      <td>1.5</td>\n",
       "      <td>122</td>\n",
       "      <td>1</td>\n",
       "      <td>England</td>\n",
       "      <td>0</td>\n",
       "      <td>4</td>\n",
       "      <td>1</td>\n",
       "      <td>1</td>\n",
       "      <td>0</td>\n",
       "    </tr>\n",
       "    <tr>\n",
       "      <th>4</th>\n",
       "      <td>Laurent Koscielny</td>\n",
       "      <td>Arsenal</td>\n",
       "      <td>31</td>\n",
       "      <td>CB</td>\n",
       "      <td>3</td>\n",
       "      <td>22.0</td>\n",
       "      <td>912</td>\n",
       "      <td>6.0</td>\n",
       "      <td>0.7</td>\n",
       "      <td>121</td>\n",
       "      <td>2</td>\n",
       "      <td>France</td>\n",
       "      <td>0</td>\n",
       "      <td>4</td>\n",
       "      <td>1</td>\n",
       "      <td>1</td>\n",
       "      <td>0</td>\n",
       "    </tr>\n",
       "  </tbody>\n",
       "</table>\n",
       "</div>"
      ],
      "text/plain": [
       "                name     club  age  ... club_id  big_club  new_signing\n",
       "0     Alexis Sanchez  Arsenal   28  ...       1         1            0\n",
       "1         Mesut Ozil  Arsenal   28  ...       1         1            0\n",
       "2          Petr Cech  Arsenal   35  ...       1         1            0\n",
       "3       Theo Walcott  Arsenal   28  ...       1         1            0\n",
       "4  Laurent Koscielny  Arsenal   31  ...       1         1            0\n",
       "\n",
       "[5 rows x 17 columns]"
      ]
     },
     "execution_count": 172,
     "metadata": {},
     "output_type": "execute_result"
    }
   ],
   "source": [
    "df.head()"
   ]
  },
  {
   "cell_type": "code",
   "execution_count": 173,
   "metadata": {
    "colab": {
     "base_uri": "https://localhost:8080/",
     "height": 204
    },
    "id": "yL2J0U8CA7pt",
    "outputId": "ac6122b5-5a36-4eff-d5ef-12330d9202e8"
   },
   "outputs": [
    {
     "data": {
      "text/html": [
       "<div>\n",
       "<style scoped>\n",
       "    .dataframe tbody tr th:only-of-type {\n",
       "        vertical-align: middle;\n",
       "    }\n",
       "\n",
       "    .dataframe tbody tr th {\n",
       "        vertical-align: top;\n",
       "    }\n",
       "\n",
       "    .dataframe thead th {\n",
       "        text-align: right;\n",
       "    }\n",
       "</style>\n",
       "<table border=\"1\" class=\"dataframe\">\n",
       "  <thead>\n",
       "    <tr style=\"text-align: right;\">\n",
       "      <th></th>\n",
       "      <th>region</th>\n",
       "      <th>fpl_value</th>\n",
       "      <th>age_cat</th>\n",
       "      <th>new_signing</th>\n",
       "      <th>market_value</th>\n",
       "      <th>new_foreign</th>\n",
       "      <th>club_id</th>\n",
       "      <th>fpl_points</th>\n",
       "      <th>nationality</th>\n",
       "      <th>big_club</th>\n",
       "      <th>page_views</th>\n",
       "      <th>fpl_sel</th>\n",
       "      <th>position_cat</th>\n",
       "    </tr>\n",
       "  </thead>\n",
       "  <tbody>\n",
       "    <tr>\n",
       "      <th>0</th>\n",
       "      <td>3</td>\n",
       "      <td>12.0</td>\n",
       "      <td>4</td>\n",
       "      <td>0</td>\n",
       "      <td>65.0</td>\n",
       "      <td>0</td>\n",
       "      <td>1</td>\n",
       "      <td>264</td>\n",
       "      <td>Chile</td>\n",
       "      <td>1</td>\n",
       "      <td>4329</td>\n",
       "      <td>17.1</td>\n",
       "      <td>1</td>\n",
       "    </tr>\n",
       "    <tr>\n",
       "      <th>1</th>\n",
       "      <td>2</td>\n",
       "      <td>9.5</td>\n",
       "      <td>4</td>\n",
       "      <td>0</td>\n",
       "      <td>50.0</td>\n",
       "      <td>0</td>\n",
       "      <td>1</td>\n",
       "      <td>167</td>\n",
       "      <td>Germany</td>\n",
       "      <td>1</td>\n",
       "      <td>4395</td>\n",
       "      <td>5.6</td>\n",
       "      <td>1</td>\n",
       "    </tr>\n",
       "    <tr>\n",
       "      <th>2</th>\n",
       "      <td>2</td>\n",
       "      <td>5.5</td>\n",
       "      <td>6</td>\n",
       "      <td>0</td>\n",
       "      <td>7.0</td>\n",
       "      <td>0</td>\n",
       "      <td>1</td>\n",
       "      <td>134</td>\n",
       "      <td>Czech Republic</td>\n",
       "      <td>1</td>\n",
       "      <td>1529</td>\n",
       "      <td>5.9</td>\n",
       "      <td>4</td>\n",
       "    </tr>\n",
       "    <tr>\n",
       "      <th>3</th>\n",
       "      <td>1</td>\n",
       "      <td>7.5</td>\n",
       "      <td>4</td>\n",
       "      <td>0</td>\n",
       "      <td>20.0</td>\n",
       "      <td>0</td>\n",
       "      <td>1</td>\n",
       "      <td>122</td>\n",
       "      <td>England</td>\n",
       "      <td>1</td>\n",
       "      <td>2393</td>\n",
       "      <td>1.5</td>\n",
       "      <td>1</td>\n",
       "    </tr>\n",
       "    <tr>\n",
       "      <th>4</th>\n",
       "      <td>2</td>\n",
       "      <td>6.0</td>\n",
       "      <td>4</td>\n",
       "      <td>0</td>\n",
       "      <td>22.0</td>\n",
       "      <td>0</td>\n",
       "      <td>1</td>\n",
       "      <td>121</td>\n",
       "      <td>France</td>\n",
       "      <td>1</td>\n",
       "      <td>912</td>\n",
       "      <td>0.7</td>\n",
       "      <td>3</td>\n",
       "    </tr>\n",
       "  </tbody>\n",
       "</table>\n",
       "</div>"
      ],
      "text/plain": [
       "   region  fpl_value  age_cat  ...  page_views  fpl_sel  position_cat\n",
       "0       3       12.0        4  ...        4329     17.1             1\n",
       "1       2        9.5        4  ...        4395      5.6             1\n",
       "2       2        5.5        6  ...        1529      5.9             4\n",
       "3       1        7.5        4  ...        2393      1.5             1\n",
       "4       2        6.0        4  ...         912      0.7             3\n",
       "\n",
       "[5 rows x 13 columns]"
      ]
     },
     "execution_count": 173,
     "metadata": {},
     "output_type": "execute_result"
    }
   ],
   "source": [
    "df = df[final_columns]\n",
    "df.head()"
   ]
  },
  {
   "cell_type": "markdown",
   "metadata": {
    "id": "czWGN2JwA1UF"
   },
   "source": [
    "# Getting our X and y"
   ]
  },
  {
   "cell_type": "code",
   "execution_count": 174,
   "metadata": {
    "id": "rMwhByreAtRI"
   },
   "outputs": [],
   "source": [
    "X = df.drop(columns=['market_value'])\n",
    "y = np.log(df['market_value']) # target values will reduce as we applied log but we will scale it back before our final prediction. This is done to reduce the skewness in market value column."
   ]
  },
  {
   "cell_type": "code",
   "execution_count": 175,
   "metadata": {
    "colab": {
     "base_uri": "https://localhost:8080/",
     "height": 204
    },
    "id": "HUi888kRBp4z",
    "outputId": "9f73862c-d524-46cb-ef17-6af06f23edf8"
   },
   "outputs": [
    {
     "data": {
      "text/html": [
       "<div>\n",
       "<style scoped>\n",
       "    .dataframe tbody tr th:only-of-type {\n",
       "        vertical-align: middle;\n",
       "    }\n",
       "\n",
       "    .dataframe tbody tr th {\n",
       "        vertical-align: top;\n",
       "    }\n",
       "\n",
       "    .dataframe thead th {\n",
       "        text-align: right;\n",
       "    }\n",
       "</style>\n",
       "<table border=\"1\" class=\"dataframe\">\n",
       "  <thead>\n",
       "    <tr style=\"text-align: right;\">\n",
       "      <th></th>\n",
       "      <th>region</th>\n",
       "      <th>fpl_value</th>\n",
       "      <th>age_cat</th>\n",
       "      <th>new_signing</th>\n",
       "      <th>new_foreign</th>\n",
       "      <th>club_id</th>\n",
       "      <th>fpl_points</th>\n",
       "      <th>nationality</th>\n",
       "      <th>big_club</th>\n",
       "      <th>page_views</th>\n",
       "      <th>fpl_sel</th>\n",
       "      <th>position_cat</th>\n",
       "    </tr>\n",
       "  </thead>\n",
       "  <tbody>\n",
       "    <tr>\n",
       "      <th>0</th>\n",
       "      <td>3</td>\n",
       "      <td>12.0</td>\n",
       "      <td>4</td>\n",
       "      <td>0</td>\n",
       "      <td>0</td>\n",
       "      <td>1</td>\n",
       "      <td>264</td>\n",
       "      <td>Chile</td>\n",
       "      <td>1</td>\n",
       "      <td>4329</td>\n",
       "      <td>17.1</td>\n",
       "      <td>1</td>\n",
       "    </tr>\n",
       "    <tr>\n",
       "      <th>1</th>\n",
       "      <td>2</td>\n",
       "      <td>9.5</td>\n",
       "      <td>4</td>\n",
       "      <td>0</td>\n",
       "      <td>0</td>\n",
       "      <td>1</td>\n",
       "      <td>167</td>\n",
       "      <td>Germany</td>\n",
       "      <td>1</td>\n",
       "      <td>4395</td>\n",
       "      <td>5.6</td>\n",
       "      <td>1</td>\n",
       "    </tr>\n",
       "    <tr>\n",
       "      <th>2</th>\n",
       "      <td>2</td>\n",
       "      <td>5.5</td>\n",
       "      <td>6</td>\n",
       "      <td>0</td>\n",
       "      <td>0</td>\n",
       "      <td>1</td>\n",
       "      <td>134</td>\n",
       "      <td>Czech Republic</td>\n",
       "      <td>1</td>\n",
       "      <td>1529</td>\n",
       "      <td>5.9</td>\n",
       "      <td>4</td>\n",
       "    </tr>\n",
       "    <tr>\n",
       "      <th>3</th>\n",
       "      <td>1</td>\n",
       "      <td>7.5</td>\n",
       "      <td>4</td>\n",
       "      <td>0</td>\n",
       "      <td>0</td>\n",
       "      <td>1</td>\n",
       "      <td>122</td>\n",
       "      <td>England</td>\n",
       "      <td>1</td>\n",
       "      <td>2393</td>\n",
       "      <td>1.5</td>\n",
       "      <td>1</td>\n",
       "    </tr>\n",
       "    <tr>\n",
       "      <th>4</th>\n",
       "      <td>2</td>\n",
       "      <td>6.0</td>\n",
       "      <td>4</td>\n",
       "      <td>0</td>\n",
       "      <td>0</td>\n",
       "      <td>1</td>\n",
       "      <td>121</td>\n",
       "      <td>France</td>\n",
       "      <td>1</td>\n",
       "      <td>912</td>\n",
       "      <td>0.7</td>\n",
       "      <td>3</td>\n",
       "    </tr>\n",
       "  </tbody>\n",
       "</table>\n",
       "</div>"
      ],
      "text/plain": [
       "   region  fpl_value  age_cat  ...  page_views  fpl_sel  position_cat\n",
       "0       3       12.0        4  ...        4329     17.1             1\n",
       "1       2        9.5        4  ...        4395      5.6             1\n",
       "2       2        5.5        6  ...        1529      5.9             4\n",
       "3       1        7.5        4  ...        2393      1.5             1\n",
       "4       2        6.0        4  ...         912      0.7             3\n",
       "\n",
       "[5 rows x 12 columns]"
      ]
     },
     "execution_count": 175,
     "metadata": {},
     "output_type": "execute_result"
    }
   ],
   "source": [
    "X.head()"
   ]
  },
  {
   "cell_type": "code",
   "execution_count": 176,
   "metadata": {
    "colab": {
     "base_uri": "https://localhost:8080/"
    },
    "id": "Wjq8B6h_BsKU",
    "outputId": "d86c79a6-a6f6-45b1-a73f-e9b6daddb782"
   },
   "outputs": [
    {
     "data": {
      "text/plain": [
       "0    4.174387\n",
       "1    3.912023\n",
       "2    1.945910\n",
       "3    2.995732\n",
       "4    3.091042\n",
       "Name: market_value, dtype: float64"
      ]
     },
     "execution_count": 176,
     "metadata": {},
     "output_type": "execute_result"
    }
   ],
   "source": [
    "y.head()"
   ]
  },
  {
   "cell_type": "code",
   "execution_count": 177,
   "metadata": {
    "id": "V7lP6TdHBtyh"
   },
   "outputs": [],
   "source": [
    "from sklearn.model_selection import train_test_split\n",
    "X_train,X_test,y_train,y_test = train_test_split(X,y,test_size=0.1,random_state=101)"
   ]
  },
  {
   "cell_type": "code",
   "execution_count": 178,
   "metadata": {
    "colab": {
     "base_uri": "https://localhost:8080/"
    },
    "id": "QoJjS_ZsB2fj",
    "outputId": "0f53123b-0ec5-498f-c71d-ddcd216d9c68"
   },
   "outputs": [
    {
     "data": {
      "text/plain": [
       "(414, 12)"
      ]
     },
     "execution_count": 178,
     "metadata": {},
     "output_type": "execute_result"
    }
   ],
   "source": [
    "X_train.shape"
   ]
  },
  {
   "cell_type": "code",
   "execution_count": 179,
   "metadata": {
    "colab": {
     "base_uri": "https://localhost:8080/"
    },
    "id": "ls3Q5PJYB5Yh",
    "outputId": "2f6981a2-fb33-4034-af21-3587acabf34c"
   },
   "outputs": [
    {
     "data": {
      "text/plain": [
       "(47, 12)"
      ]
     },
     "execution_count": 179,
     "metadata": {},
     "output_type": "execute_result"
    }
   ],
   "source": [
    "X_test.shape"
   ]
  },
  {
   "cell_type": "code",
   "execution_count": 180,
   "metadata": {
    "colab": {
     "base_uri": "https://localhost:8080/"
    },
    "id": "DQKYO15jB88A",
    "outputId": "ccfffa6a-59be-4dd5-a33c-6d9daa01ee25"
   },
   "outputs": [
    {
     "data": {
      "text/plain": [
       "(414,)"
      ]
     },
     "execution_count": 180,
     "metadata": {},
     "output_type": "execute_result"
    }
   ],
   "source": [
    "y_train.shape"
   ]
  },
  {
   "cell_type": "code",
   "execution_count": 181,
   "metadata": {
    "colab": {
     "base_uri": "https://localhost:8080/"
    },
    "id": "ieiPYmd4CAFU",
    "outputId": "5c4c6e02-ff5f-4fa1-a23b-e51417ebdd89"
   },
   "outputs": [
    {
     "data": {
      "text/plain": [
       "(47,)"
      ]
     },
     "execution_count": 181,
     "metadata": {},
     "output_type": "execute_result"
    }
   ],
   "source": [
    "y_test.shape"
   ]
  },
  {
   "cell_type": "code",
   "execution_count": 182,
   "metadata": {
    "colab": {
     "base_uri": "https://localhost:8080/"
    },
    "id": "BwWwIBV54eH4",
    "outputId": "69567ab3-efba-464b-b5e0-49ccf35ffc54"
   },
   "outputs": [
    {
     "data": {
      "text/plain": [
       "array([10,  9,  7,  1,  6, 13, 12, 19,  2,  8,  5, 17, 11,  3, 16, 20, 14,\n",
       "       18,  4, 15])"
      ]
     },
     "execution_count": 182,
     "metadata": {},
     "output_type": "execute_result"
    }
   ],
   "source": [
    "X_train['club_id'].unique()"
   ]
  },
  {
   "cell_type": "code",
   "execution_count": 183,
   "metadata": {
    "colab": {
     "base_uri": "https://localhost:8080/"
    },
    "id": "6TL7CVCK4eFa",
    "outputId": "e5ced50a-3760-445d-cb60-0600f303d3bb"
   },
   "outputs": [
    {
     "data": {
      "text/plain": [
       "61"
      ]
     },
     "execution_count": 183,
     "metadata": {},
     "output_type": "execute_result"
    }
   ],
   "source": [
    "len(X_train['nationality'].unique())"
   ]
  },
  {
   "cell_type": "code",
   "execution_count": 184,
   "metadata": {
    "colab": {
     "base_uri": "https://localhost:8080/"
    },
    "id": "gqoBhoWn4eDY",
    "outputId": "a6dd4259-09e6-4c94-97f0-d7f9524d0f6a"
   },
   "outputs": [
    {
     "data": {
      "text/plain": [
       "(12,)"
      ]
     },
     "execution_count": 184,
     "metadata": {},
     "output_type": "execute_result"
    }
   ],
   "source": [
    "X_test.loc[175].shape"
   ]
  },
  {
   "cell_type": "code",
   "execution_count": 185,
   "metadata": {
    "colab": {
     "base_uri": "https://localhost:8080/",
     "height": 204
    },
    "id": "NEThAszU4eAe",
    "outputId": "93c7a2be-efb3-4449-a415-231619b2de8b"
   },
   "outputs": [
    {
     "data": {
      "text/html": [
       "<div>\n",
       "<style scoped>\n",
       "    .dataframe tbody tr th:only-of-type {\n",
       "        vertical-align: middle;\n",
       "    }\n",
       "\n",
       "    .dataframe tbody tr th {\n",
       "        vertical-align: top;\n",
       "    }\n",
       "\n",
       "    .dataframe thead th {\n",
       "        text-align: right;\n",
       "    }\n",
       "</style>\n",
       "<table border=\"1\" class=\"dataframe\">\n",
       "  <thead>\n",
       "    <tr style=\"text-align: right;\">\n",
       "      <th></th>\n",
       "      <th>region</th>\n",
       "      <th>fpl_value</th>\n",
       "      <th>age_cat</th>\n",
       "      <th>new_signing</th>\n",
       "      <th>new_foreign</th>\n",
       "      <th>club_id</th>\n",
       "      <th>fpl_points</th>\n",
       "      <th>nationality</th>\n",
       "      <th>big_club</th>\n",
       "      <th>page_views</th>\n",
       "      <th>fpl_sel</th>\n",
       "      <th>position_cat</th>\n",
       "    </tr>\n",
       "  </thead>\n",
       "  <tbody>\n",
       "    <tr>\n",
       "      <th>175</th>\n",
       "      <td>2</td>\n",
       "      <td>4.5</td>\n",
       "      <td>1</td>\n",
       "      <td>0</td>\n",
       "      <td>0</td>\n",
       "      <td>8</td>\n",
       "      <td>0</td>\n",
       "      <td>Denmark</td>\n",
       "      <td>0</td>\n",
       "      <td>157</td>\n",
       "      <td>0.1</td>\n",
       "      <td>2</td>\n",
       "    </tr>\n",
       "    <tr>\n",
       "      <th>322</th>\n",
       "      <td>2</td>\n",
       "      <td>7.0</td>\n",
       "      <td>3</td>\n",
       "      <td>0</td>\n",
       "      <td>0</td>\n",
       "      <td>14</td>\n",
       "      <td>38</td>\n",
       "      <td>Italy</td>\n",
       "      <td>0</td>\n",
       "      <td>2012</td>\n",
       "      <td>5.2</td>\n",
       "      <td>1</td>\n",
       "    </tr>\n",
       "    <tr>\n",
       "      <th>423</th>\n",
       "      <td>1</td>\n",
       "      <td>4.5</td>\n",
       "      <td>6</td>\n",
       "      <td>0</td>\n",
       "      <td>0</td>\n",
       "      <td>19</td>\n",
       "      <td>113</td>\n",
       "      <td>England</td>\n",
       "      <td>0</td>\n",
       "      <td>484</td>\n",
       "      <td>20.7</td>\n",
       "      <td>4</td>\n",
       "    </tr>\n",
       "    <tr>\n",
       "      <th>344</th>\n",
       "      <td>2</td>\n",
       "      <td>5.5</td>\n",
       "      <td>3</td>\n",
       "      <td>0</td>\n",
       "      <td>0</td>\n",
       "      <td>15</td>\n",
       "      <td>30</td>\n",
       "      <td>Spain</td>\n",
       "      <td>0</td>\n",
       "      <td>1325</td>\n",
       "      <td>0.2</td>\n",
       "      <td>1</td>\n",
       "    </tr>\n",
       "    <tr>\n",
       "      <th>19</th>\n",
       "      <td>1</td>\n",
       "      <td>5.0</td>\n",
       "      <td>1</td>\n",
       "      <td>1</td>\n",
       "      <td>0</td>\n",
       "      <td>1</td>\n",
       "      <td>32</td>\n",
       "      <td>England</td>\n",
       "      <td>1</td>\n",
       "      <td>666</td>\n",
       "      <td>1.7</td>\n",
       "      <td>3</td>\n",
       "    </tr>\n",
       "  </tbody>\n",
       "</table>\n",
       "</div>"
      ],
      "text/plain": [
       "     region  fpl_value  age_cat  ...  page_views  fpl_sel  position_cat\n",
       "175       2        4.5        1  ...         157      0.1             2\n",
       "322       2        7.0        3  ...        2012      5.2             1\n",
       "423       1        4.5        6  ...         484     20.7             4\n",
       "344       2        5.5        3  ...        1325      0.2             1\n",
       "19        1        5.0        1  ...         666      1.7             3\n",
       "\n",
       "[5 rows x 12 columns]"
      ]
     },
     "execution_count": 185,
     "metadata": {},
     "output_type": "execute_result"
    }
   ],
   "source": [
    "X_test.head()"
   ]
  },
  {
   "cell_type": "code",
   "execution_count": 185,
   "metadata": {
    "id": "bFBLwVnL4d96"
   },
   "outputs": [],
   "source": []
  },
  {
   "cell_type": "code",
   "execution_count": 185,
   "metadata": {
    "id": "HsGEl_7n4d68"
   },
   "outputs": [],
   "source": []
  },
  {
   "cell_type": "code",
   "execution_count": 185,
   "metadata": {
    "id": "0Y2Wp4-C4dw7"
   },
   "outputs": [],
   "source": []
  },
  {
   "cell_type": "markdown",
   "metadata": {
    "id": "RJsm06UDCMq_"
   },
   "source": [
    "Importing libraries to implement the algorithms and check their performance."
   ]
  },
  {
   "cell_type": "code",
   "execution_count": 186,
   "metadata": {
    "id": "dk_zZb2jCCSv"
   },
   "outputs": [],
   "source": [
    "from sklearn.compose import ColumnTransformer\n",
    "from sklearn.pipeline import Pipeline\n",
    "from sklearn.preprocessing import OneHotEncoder\n",
    "from sklearn.metrics import r2_score,mean_absolute_error"
   ]
  },
  {
   "cell_type": "code",
   "execution_count": 187,
   "metadata": {
    "id": "oHzzg9GACUd5"
   },
   "outputs": [],
   "source": [
    "from sklearn.linear_model import LinearRegression,Ridge,Lasso\n",
    "from sklearn.neighbors import KNeighborsRegressor\n",
    "from sklearn.tree import DecisionTreeRegressor\n",
    "from sklearn.ensemble import RandomForestRegressor,GradientBoostingRegressor,AdaBoostRegressor,ExtraTreesRegressor\n",
    "from sklearn.svm import SVR\n",
    "from xgboost import XGBRegressor"
   ]
  },
  {
   "cell_type": "code",
   "execution_count": 188,
   "metadata": {
    "id": "HY0MHaXYRJ1G"
   },
   "outputs": [],
   "source": [
    "import xgboost"
   ]
  },
  {
   "cell_type": "code",
   "execution_count": 189,
   "metadata": {
    "colab": {
     "base_uri": "https://localhost:8080/",
     "height": 35
    },
    "id": "7pmTGndzRJyw",
    "outputId": "be7fd795-582d-460e-8d27-ca2cb48d9a26"
   },
   "outputs": [
    {
     "data": {
      "application/vnd.google.colaboratory.intrinsic+json": {
       "type": "string"
      },
      "text/plain": [
       "'0.90'"
      ]
     },
     "execution_count": 189,
     "metadata": {},
     "output_type": "execute_result"
    }
   ],
   "source": [
    "xgboost.__version__"
   ]
  },
  {
   "cell_type": "code",
   "execution_count": 189,
   "metadata": {
    "id": "YXhMcnuORJwe"
   },
   "outputs": [],
   "source": []
  },
  {
   "cell_type": "code",
   "execution_count": 190,
   "metadata": {
    "colab": {
     "base_uri": "https://localhost:8080/",
     "height": 204
    },
    "id": "zfD66Ou9DTyj",
    "outputId": "7cd4d4cf-63c9-4cc4-ff6a-078d2b9aa7a1"
   },
   "outputs": [
    {
     "data": {
      "text/html": [
       "<div>\n",
       "<style scoped>\n",
       "    .dataframe tbody tr th:only-of-type {\n",
       "        vertical-align: middle;\n",
       "    }\n",
       "\n",
       "    .dataframe tbody tr th {\n",
       "        vertical-align: top;\n",
       "    }\n",
       "\n",
       "    .dataframe thead th {\n",
       "        text-align: right;\n",
       "    }\n",
       "</style>\n",
       "<table border=\"1\" class=\"dataframe\">\n",
       "  <thead>\n",
       "    <tr style=\"text-align: right;\">\n",
       "      <th></th>\n",
       "      <th>region</th>\n",
       "      <th>fpl_value</th>\n",
       "      <th>age_cat</th>\n",
       "      <th>new_signing</th>\n",
       "      <th>new_foreign</th>\n",
       "      <th>club_id</th>\n",
       "      <th>fpl_points</th>\n",
       "      <th>nationality</th>\n",
       "      <th>big_club</th>\n",
       "      <th>page_views</th>\n",
       "      <th>fpl_sel</th>\n",
       "      <th>position_cat</th>\n",
       "    </tr>\n",
       "  </thead>\n",
       "  <tbody>\n",
       "    <tr>\n",
       "      <th>0</th>\n",
       "      <td>3</td>\n",
       "      <td>12.0</td>\n",
       "      <td>4</td>\n",
       "      <td>0</td>\n",
       "      <td>0</td>\n",
       "      <td>1</td>\n",
       "      <td>264</td>\n",
       "      <td>Chile</td>\n",
       "      <td>1</td>\n",
       "      <td>4329</td>\n",
       "      <td>17.1</td>\n",
       "      <td>1</td>\n",
       "    </tr>\n",
       "    <tr>\n",
       "      <th>1</th>\n",
       "      <td>2</td>\n",
       "      <td>9.5</td>\n",
       "      <td>4</td>\n",
       "      <td>0</td>\n",
       "      <td>0</td>\n",
       "      <td>1</td>\n",
       "      <td>167</td>\n",
       "      <td>Germany</td>\n",
       "      <td>1</td>\n",
       "      <td>4395</td>\n",
       "      <td>5.6</td>\n",
       "      <td>1</td>\n",
       "    </tr>\n",
       "    <tr>\n",
       "      <th>2</th>\n",
       "      <td>2</td>\n",
       "      <td>5.5</td>\n",
       "      <td>6</td>\n",
       "      <td>0</td>\n",
       "      <td>0</td>\n",
       "      <td>1</td>\n",
       "      <td>134</td>\n",
       "      <td>Czech Republic</td>\n",
       "      <td>1</td>\n",
       "      <td>1529</td>\n",
       "      <td>5.9</td>\n",
       "      <td>4</td>\n",
       "    </tr>\n",
       "    <tr>\n",
       "      <th>3</th>\n",
       "      <td>1</td>\n",
       "      <td>7.5</td>\n",
       "      <td>4</td>\n",
       "      <td>0</td>\n",
       "      <td>0</td>\n",
       "      <td>1</td>\n",
       "      <td>122</td>\n",
       "      <td>England</td>\n",
       "      <td>1</td>\n",
       "      <td>2393</td>\n",
       "      <td>1.5</td>\n",
       "      <td>1</td>\n",
       "    </tr>\n",
       "    <tr>\n",
       "      <th>4</th>\n",
       "      <td>2</td>\n",
       "      <td>6.0</td>\n",
       "      <td>4</td>\n",
       "      <td>0</td>\n",
       "      <td>0</td>\n",
       "      <td>1</td>\n",
       "      <td>121</td>\n",
       "      <td>France</td>\n",
       "      <td>1</td>\n",
       "      <td>912</td>\n",
       "      <td>0.7</td>\n",
       "      <td>3</td>\n",
       "    </tr>\n",
       "  </tbody>\n",
       "</table>\n",
       "</div>"
      ],
      "text/plain": [
       "   region  fpl_value  age_cat  ...  page_views  fpl_sel  position_cat\n",
       "0       3       12.0        4  ...        4329     17.1             1\n",
       "1       2        9.5        4  ...        4395      5.6             1\n",
       "2       2        5.5        6  ...        1529      5.9             4\n",
       "3       1        7.5        4  ...        2393      1.5             1\n",
       "4       2        6.0        4  ...         912      0.7             3\n",
       "\n",
       "[5 rows x 12 columns]"
      ]
     },
     "execution_count": 190,
     "metadata": {},
     "output_type": "execute_result"
    }
   ],
   "source": [
    "X.head()"
   ]
  },
  {
   "cell_type": "code",
   "execution_count": 191,
   "metadata": {
    "colab": {
     "base_uri": "https://localhost:8080/",
     "height": 204
    },
    "id": "I_chomuTXZmh",
    "outputId": "d6f73504-b9f7-42a8-e718-bc8c9a289fd7"
   },
   "outputs": [
    {
     "data": {
      "text/html": [
       "<div>\n",
       "<style scoped>\n",
       "    .dataframe tbody tr th:only-of-type {\n",
       "        vertical-align: middle;\n",
       "    }\n",
       "\n",
       "    .dataframe tbody tr th {\n",
       "        vertical-align: top;\n",
       "    }\n",
       "\n",
       "    .dataframe thead th {\n",
       "        text-align: right;\n",
       "    }\n",
       "</style>\n",
       "<table border=\"1\" class=\"dataframe\">\n",
       "  <thead>\n",
       "    <tr style=\"text-align: right;\">\n",
       "      <th></th>\n",
       "      <th>region</th>\n",
       "      <th>fpl_value</th>\n",
       "      <th>age_cat</th>\n",
       "      <th>new_signing</th>\n",
       "      <th>new_foreign</th>\n",
       "      <th>club_id</th>\n",
       "      <th>fpl_points</th>\n",
       "      <th>nationality</th>\n",
       "      <th>big_club</th>\n",
       "      <th>page_views</th>\n",
       "      <th>fpl_sel</th>\n",
       "      <th>position_cat</th>\n",
       "    </tr>\n",
       "  </thead>\n",
       "  <tbody>\n",
       "    <tr>\n",
       "      <th>231</th>\n",
       "      <td>2</td>\n",
       "      <td>4.5</td>\n",
       "      <td>1</td>\n",
       "      <td>0</td>\n",
       "      <td>0</td>\n",
       "      <td>10</td>\n",
       "      <td>15</td>\n",
       "      <td>England</td>\n",
       "      <td>1</td>\n",
       "      <td>327</td>\n",
       "      <td>0.3</td>\n",
       "      <td>3</td>\n",
       "    </tr>\n",
       "    <tr>\n",
       "      <th>209</th>\n",
       "      <td>2</td>\n",
       "      <td>4.5</td>\n",
       "      <td>3</td>\n",
       "      <td>1</td>\n",
       "      <td>0</td>\n",
       "      <td>9</td>\n",
       "      <td>6</td>\n",
       "      <td>France</td>\n",
       "      <td>0</td>\n",
       "      <td>325</td>\n",
       "      <td>0.1</td>\n",
       "      <td>2</td>\n",
       "    </tr>\n",
       "    <tr>\n",
       "      <th>141</th>\n",
       "      <td>2</td>\n",
       "      <td>4.5</td>\n",
       "      <td>3</td>\n",
       "      <td>0</td>\n",
       "      <td>0</td>\n",
       "      <td>7</td>\n",
       "      <td>89</td>\n",
       "      <td>Spain</td>\n",
       "      <td>0</td>\n",
       "      <td>304</td>\n",
       "      <td>0.4</td>\n",
       "      <td>4</td>\n",
       "    </tr>\n",
       "    <tr>\n",
       "      <th>24</th>\n",
       "      <td>1</td>\n",
       "      <td>4.5</td>\n",
       "      <td>3</td>\n",
       "      <td>0</td>\n",
       "      <td>0</td>\n",
       "      <td>1</td>\n",
       "      <td>2</td>\n",
       "      <td>England</td>\n",
       "      <td>1</td>\n",
       "      <td>561</td>\n",
       "      <td>0.4</td>\n",
       "      <td>3</td>\n",
       "    </tr>\n",
       "    <tr>\n",
       "      <th>117</th>\n",
       "      <td>2</td>\n",
       "      <td>4.5</td>\n",
       "      <td>4</td>\n",
       "      <td>0</td>\n",
       "      <td>0</td>\n",
       "      <td>6</td>\n",
       "      <td>92</td>\n",
       "      <td>Wales</td>\n",
       "      <td>0</td>\n",
       "      <td>242</td>\n",
       "      <td>2.1</td>\n",
       "      <td>4</td>\n",
       "    </tr>\n",
       "  </tbody>\n",
       "</table>\n",
       "</div>"
      ],
      "text/plain": [
       "     region  fpl_value  age_cat  ...  page_views  fpl_sel  position_cat\n",
       "231       2        4.5        1  ...         327      0.3             3\n",
       "209       2        4.5        3  ...         325      0.1             2\n",
       "141       2        4.5        3  ...         304      0.4             4\n",
       "24        1        4.5        3  ...         561      0.4             3\n",
       "117       2        4.5        4  ...         242      2.1             4\n",
       "\n",
       "[5 rows x 12 columns]"
      ]
     },
     "execution_count": 191,
     "metadata": {},
     "output_type": "execute_result"
    }
   ],
   "source": [
    "X_train.head()"
   ]
  },
  {
   "cell_type": "code",
   "execution_count": 192,
   "metadata": {
    "colab": {
     "base_uri": "https://localhost:8080/",
     "height": 204
    },
    "id": "MpYEBT04XZZW",
    "outputId": "fecb20df-f4aa-415b-ef58-a3c587b415dc"
   },
   "outputs": [
    {
     "data": {
      "text/html": [
       "<div>\n",
       "<style scoped>\n",
       "    .dataframe tbody tr th:only-of-type {\n",
       "        vertical-align: middle;\n",
       "    }\n",
       "\n",
       "    .dataframe tbody tr th {\n",
       "        vertical-align: top;\n",
       "    }\n",
       "\n",
       "    .dataframe thead th {\n",
       "        text-align: right;\n",
       "    }\n",
       "</style>\n",
       "<table border=\"1\" class=\"dataframe\">\n",
       "  <thead>\n",
       "    <tr style=\"text-align: right;\">\n",
       "      <th></th>\n",
       "      <th>region</th>\n",
       "      <th>fpl_value</th>\n",
       "      <th>age_cat</th>\n",
       "      <th>new_signing</th>\n",
       "      <th>new_foreign</th>\n",
       "      <th>club_id</th>\n",
       "      <th>fpl_points</th>\n",
       "      <th>nationality</th>\n",
       "      <th>big_club</th>\n",
       "      <th>page_views</th>\n",
       "      <th>fpl_sel</th>\n",
       "      <th>position_cat</th>\n",
       "    </tr>\n",
       "  </thead>\n",
       "  <tbody>\n",
       "    <tr>\n",
       "      <th>175</th>\n",
       "      <td>2</td>\n",
       "      <td>4.5</td>\n",
       "      <td>1</td>\n",
       "      <td>0</td>\n",
       "      <td>0</td>\n",
       "      <td>8</td>\n",
       "      <td>0</td>\n",
       "      <td>Denmark</td>\n",
       "      <td>0</td>\n",
       "      <td>157</td>\n",
       "      <td>0.1</td>\n",
       "      <td>2</td>\n",
       "    </tr>\n",
       "    <tr>\n",
       "      <th>322</th>\n",
       "      <td>2</td>\n",
       "      <td>7.0</td>\n",
       "      <td>3</td>\n",
       "      <td>0</td>\n",
       "      <td>0</td>\n",
       "      <td>14</td>\n",
       "      <td>38</td>\n",
       "      <td>Italy</td>\n",
       "      <td>0</td>\n",
       "      <td>2012</td>\n",
       "      <td>5.2</td>\n",
       "      <td>1</td>\n",
       "    </tr>\n",
       "    <tr>\n",
       "      <th>423</th>\n",
       "      <td>1</td>\n",
       "      <td>4.5</td>\n",
       "      <td>6</td>\n",
       "      <td>0</td>\n",
       "      <td>0</td>\n",
       "      <td>19</td>\n",
       "      <td>113</td>\n",
       "      <td>England</td>\n",
       "      <td>0</td>\n",
       "      <td>484</td>\n",
       "      <td>20.7</td>\n",
       "      <td>4</td>\n",
       "    </tr>\n",
       "    <tr>\n",
       "      <th>344</th>\n",
       "      <td>2</td>\n",
       "      <td>5.5</td>\n",
       "      <td>3</td>\n",
       "      <td>0</td>\n",
       "      <td>0</td>\n",
       "      <td>15</td>\n",
       "      <td>30</td>\n",
       "      <td>Spain</td>\n",
       "      <td>0</td>\n",
       "      <td>1325</td>\n",
       "      <td>0.2</td>\n",
       "      <td>1</td>\n",
       "    </tr>\n",
       "    <tr>\n",
       "      <th>19</th>\n",
       "      <td>1</td>\n",
       "      <td>5.0</td>\n",
       "      <td>1</td>\n",
       "      <td>1</td>\n",
       "      <td>0</td>\n",
       "      <td>1</td>\n",
       "      <td>32</td>\n",
       "      <td>England</td>\n",
       "      <td>1</td>\n",
       "      <td>666</td>\n",
       "      <td>1.7</td>\n",
       "      <td>3</td>\n",
       "    </tr>\n",
       "  </tbody>\n",
       "</table>\n",
       "</div>"
      ],
      "text/plain": [
       "     region  fpl_value  age_cat  ...  page_views  fpl_sel  position_cat\n",
       "175       2        4.5        1  ...         157      0.1             2\n",
       "322       2        7.0        3  ...        2012      5.2             1\n",
       "423       1        4.5        6  ...         484     20.7             4\n",
       "344       2        5.5        3  ...        1325      0.2             1\n",
       "19        1        5.0        1  ...         666      1.7             3\n",
       "\n",
       "[5 rows x 12 columns]"
      ]
     },
     "execution_count": 192,
     "metadata": {},
     "output_type": "execute_result"
    }
   ],
   "source": [
    "X_test.head()"
   ]
  },
  {
   "cell_type": "code",
   "execution_count": null,
   "metadata": {
    "id": "Yz3goTf4Y6n0"
   },
   "outputs": [],
   "source": []
  },
  {
   "cell_type": "markdown",
   "metadata": {
    "id": "aaVOdIOaDWrv"
   },
   "source": [
    "From above we have categorical columns as :\n",
    ">\n",
    "1. nationality --> Index = 7\n",
    "2. position_cat --> Index = 11\n",
    "3. new_signing --> Index = 3\n",
    "4. new_foreign --> Index = 4\n",
    "5. region --> Index = 0\n",
    "6. club_id --> Index = 5\n",
    "7. age_cat --> Index = 2\n",
    "8. big_club --> Index = 8"
   ]
  },
  {
   "cell_type": "markdown",
   "metadata": {
    "id": "cqtFviIoC3Mx"
   },
   "source": [
    "## Linear Regression "
   ]
  },
  {
   "cell_type": "code",
   "execution_count": 193,
   "metadata": {
    "colab": {
     "base_uri": "https://localhost:8080/"
    },
    "id": "HgHQei7HCXiO",
    "outputId": "d3a29c7d-f643-406a-dabe-661fc688c164"
   },
   "outputs": [
    {
     "name": "stdout",
     "output_type": "stream",
     "text": [
      "R2 score 0.6571048246674174\n",
      "MAE 0.6040952398242924\n"
     ]
    }
   ],
   "source": [
    "pipeline_step1 = ColumnTransformer(transformers=[\n",
    "    ('column_transformer',OneHotEncoder(sparse=False,drop='first'),[0,2,3,4,5,7,8,11])\n",
    "],remainder='passthrough')\n",
    "\n",
    "pipeline_step2 = LinearRegression()\n",
    "\n",
    "pipe = Pipeline([\n",
    "    ('Part1',pipeline_step1),\n",
    "    ('Part2',pipeline_step2)\n",
    "])\n",
    "\n",
    "pipe.fit(X_train,y_train)\n",
    "\n",
    "y_pred = pipe.predict(X_test)\n",
    "\n",
    "print('R2 score',r2_score(y_test,y_pred))\n",
    "print('MAE',mean_absolute_error(y_test,y_pred))"
   ]
  },
  {
   "cell_type": "code",
   "execution_count": 194,
   "metadata": {
    "colab": {
     "base_uri": "https://localhost:8080/"
    },
    "id": "pGVe9AYnFVHD",
    "outputId": "2f9c0423-67fa-4e2d-d7b8-c261ad742f68"
   },
   "outputs": [
    {
     "data": {
      "text/plain": [
       "1.8221188003905089"
      ]
     },
     "execution_count": 194,
     "metadata": {},
     "output_type": "execute_result"
    }
   ],
   "source": [
    "np.exp(0.6)"
   ]
  },
  {
   "cell_type": "markdown",
   "metadata": {
    "id": "KkHQkIsyG6m1"
   },
   "source": [
    "Means we are getting difference of only 1.82 in the market value of players between predicted and actual which is good. Lets try all the other regression algorithms which have been learnt."
   ]
  },
  {
   "cell_type": "markdown",
   "metadata": {
    "id": "bPXeTH4dLWsK"
   },
   "source": [
    "## Ridge Regression"
   ]
  },
  {
   "cell_type": "code",
   "execution_count": 195,
   "metadata": {
    "colab": {
     "base_uri": "https://localhost:8080/"
    },
    "id": "sAuOaavdLd6A",
    "outputId": "ed863f73-42fe-40ea-ab28-dfefb181c6c4"
   },
   "outputs": [
    {
     "name": "stdout",
     "output_type": "stream",
     "text": [
      "R2 score for alpha = 0 is 0.6571048246674176\n",
      "\n",
      "Mean Absolute Error for alpha = 0 is 0.6040952398241891\n",
      "\n",
      "R2 score for alpha = 5 is 0.7695640149291925\n",
      "\n",
      "Mean Absolute Error for alpha = 5 is 0.48537158073204373\n",
      "\n",
      "R2 score for alpha = 10 is 0.7802539173241744\n",
      "\n",
      "Mean Absolute Error for alpha = 10 is 0.4920053894622258\n",
      "\n",
      "R2 score for alpha = 15 is 0.7767989775730816\n",
      "\n",
      "Mean Absolute Error for alpha = 15 is 0.5022828153889238\n",
      "\n",
      "R2 score for alpha = 20 is 0.7686641421980738\n",
      "\n",
      "Mean Absolute Error for alpha = 20 is 0.5144278637803971\n",
      "\n",
      "R2 score for alpha = 25 is 0.7589621350550506\n",
      "\n",
      "Mean Absolute Error for alpha = 25 is 0.5270987068244306\n",
      "\n",
      "R2 score for alpha = 30 is 0.7489274562782666\n",
      "\n",
      "Mean Absolute Error for alpha = 30 is 0.5373532675358346\n",
      "\n",
      "R2 score for alpha = 35 is 0.739084094990722\n",
      "\n",
      "Mean Absolute Error for alpha = 35 is 0.5457763010110188\n",
      "\n",
      "R2 score for alpha = 40 is 0.7296530959748213\n",
      "\n",
      "Mean Absolute Error for alpha = 40 is 0.5528291352188384\n",
      "\n",
      "R2 score for alpha = 45 is 0.7207172900259335\n",
      "\n",
      "Mean Absolute Error for alpha = 45 is 0.5606251188997032\n",
      "\n"
     ]
    }
   ],
   "source": [
    "for alpha in range(0,50,5):\n",
    "    pipeline_step1 = ColumnTransformer(transformers=[\n",
    "        ('column_transformer',OneHotEncoder(sparse=False,drop='first'),[0,2,3,4,5,7,8,11])\n",
    "    ],remainder='passthrough')\n",
    "\n",
    "    pipeline_step2 = Ridge(alpha = alpha)\n",
    "\n",
    "    pipe = Pipeline([\n",
    "        ('Part1',pipeline_step1),\n",
    "        ('Part2',pipeline_step2)\n",
    "    ])\n",
    "\n",
    "    pipe.fit(X_train,y_train)\n",
    "\n",
    "    y_pred = pipe.predict(X_test)\n",
    "\n",
    "    print(f\"R2 score for alpha = {alpha} is {r2_score(y_test,y_pred)}\\n\")\n",
    "    print(f\"Mean Absolute Error for alpha = {alpha} is {mean_absolute_error(y_test,y_pred)}\\n\")\n",
    "    #print('MAE',mean_absolute_error(y_test,y_pred))"
   ]
  },
  {
   "cell_type": "markdown",
   "metadata": {
    "id": "4opfyGXkMiyO"
   },
   "source": [
    "alpha = 10 works best"
   ]
  },
  {
   "cell_type": "code",
   "execution_count": 196,
   "metadata": {
    "colab": {
     "base_uri": "https://localhost:8080/"
    },
    "id": "ElseOKpJMSJr",
    "outputId": "7a55528c-4243-49b9-d692-29f0e8419848"
   },
   "outputs": [
    {
     "name": "stdout",
     "output_type": "stream",
     "text": [
      "R2 score 0.7802539173241744\n",
      "MAE 0.4920053894622258\n"
     ]
    }
   ],
   "source": [
    "pipeline_step1 = ColumnTransformer(transformers=[\n",
    "    ('column_transformer',OneHotEncoder(sparse=False,drop='first'),[0,2,3,4,5,7,8,11])\n",
    "],remainder='passthrough')\n",
    "\n",
    "pipeline_step2 = Ridge(alpha = 10)\n",
    "\n",
    "pipe = Pipeline([\n",
    "    ('Part1',pipeline_step1),\n",
    "    ('Part2',pipeline_step2)\n",
    "])\n",
    "\n",
    "pipe.fit(X_train,y_train)\n",
    "\n",
    "y_pred = pipe.predict(X_test)\n",
    "\n",
    "print('R2 score',r2_score(y_test,y_pred))\n",
    "print('MAE',mean_absolute_error(y_test,y_pred))"
   ]
  },
  {
   "cell_type": "markdown",
   "metadata": {
    "id": "9_CUWSClM1VS"
   },
   "source": [
    "## Lasso Regression"
   ]
  },
  {
   "cell_type": "code",
   "execution_count": 197,
   "metadata": {
    "colab": {
     "base_uri": "https://localhost:8080/"
    },
    "id": "NYqIQZl7MwOJ",
    "outputId": "12aa24c5-5c5e-492c-c3b2-7c048c17c4de"
   },
   "outputs": [
    {
     "name": "stdout",
     "output_type": "stream",
     "text": [
      "R2 score for alpha = 0.001 is 0.7201403908634494\n",
      "\n",
      "Mean Absolute Error for alpha = 0.001 is 0.5296477482052029\n",
      "\n",
      "R2 score for alpha = 0.005 is 0.7787586860983655\n",
      "\n",
      "Mean Absolute Error for alpha = 0.005 is 0.46810029516589036\n",
      "\n",
      "R2 score for alpha = 0.01 is 0.7991809472645413\n",
      "\n",
      "Mean Absolute Error for alpha = 0.01 is 0.4737627747706639\n",
      "\n",
      "R2 score for alpha = 0.05 is 0.6273607091072843\n",
      "\n",
      "Mean Absolute Error for alpha = 0.05 is 0.6193224823032344\n",
      "\n",
      "R2 score for alpha = 0.1 is 0.4772234048210071\n",
      "\n",
      "Mean Absolute Error for alpha = 0.1 is 0.7506007263873437\n",
      "\n",
      "R2 score for alpha = 0.5 is 0.41477562927687994\n",
      "\n",
      "Mean Absolute Error for alpha = 0.5 is 0.8074153416690333\n",
      "\n"
     ]
    }
   ],
   "source": [
    "for alpha in [0.001,0.005,0.01,0.05,0.1,0.5]:\n",
    "    pipeline_step1 = ColumnTransformer(transformers=[\n",
    "        ('column_transformer',OneHotEncoder(sparse=False,drop='first'),[0,2,3,4,5,7,8,11])\n",
    "    ],remainder='passthrough')\n",
    "\n",
    "    pipeline_step2 = Lasso(alpha = alpha)\n",
    "\n",
    "    pipe = Pipeline([\n",
    "        ('Part1',pipeline_step1),\n",
    "        ('Part2',pipeline_step2)\n",
    "    ])\n",
    "\n",
    "    pipe.fit(X_train,y_train)\n",
    "\n",
    "    y_pred = pipe.predict(X_test)\n",
    "\n",
    "    print(f\"R2 score for alpha = {alpha} is {r2_score(y_test,y_pred)}\\n\")\n",
    "    print(f\"Mean Absolute Error for alpha = {alpha} is {mean_absolute_error(y_test,y_pred)}\\n\")"
   ]
  },
  {
   "cell_type": "markdown",
   "metadata": {
    "id": "jyXH7rMwN6df"
   },
   "source": [
    "alpha = 0.01 looks best "
   ]
  },
  {
   "cell_type": "code",
   "execution_count": 198,
   "metadata": {
    "colab": {
     "base_uri": "https://localhost:8080/"
    },
    "id": "5kUUln0vNdy_",
    "outputId": "a9571ee9-bac9-4e7a-ff8b-2e9b1909b05f"
   },
   "outputs": [
    {
     "name": "stdout",
     "output_type": "stream",
     "text": [
      "R2 score 0.7991809472645413\n",
      "MAE 0.4737627747706639\n"
     ]
    }
   ],
   "source": [
    "pipeline_step1 = ColumnTransformer(transformers=[\n",
    "    ('column_transformer',OneHotEncoder(sparse=False,drop='first'),[0,2,3,4,5,7,8,11])\n",
    "],remainder='passthrough')\n",
    "\n",
    "pipeline_step2 = Lasso(alpha = 0.01)\n",
    "\n",
    "pipe = Pipeline([\n",
    "    ('Part1',pipeline_step1),\n",
    "    ('Part2',pipeline_step2)\n",
    "])\n",
    "\n",
    "pipe.fit(X_train,y_train)\n",
    "\n",
    "y_pred = pipe.predict(X_test)\n",
    "\n",
    "print('R2 score',r2_score(y_test,y_pred))\n",
    "print('MAE',mean_absolute_error(y_test,y_pred))"
   ]
  },
  {
   "cell_type": "markdown",
   "metadata": {
    "id": "kry09EueOk0M"
   },
   "source": [
    "# KNN Regressor"
   ]
  },
  {
   "cell_type": "code",
   "execution_count": 199,
   "metadata": {
    "colab": {
     "base_uri": "https://localhost:8080/"
    },
    "id": "l06KMhwnOCUM",
    "outputId": "9ef95387-1823-4b6d-c5ee-498791dc07f8"
   },
   "outputs": [
    {
     "name": "stdout",
     "output_type": "stream",
     "text": [
      "R2 score for n_neighbors = 3 is 0.4649918298314437\n",
      "\n",
      "Mean Absolute Error for n_neighbors = 3 is 0.7187973563240186\n",
      "\n",
      "R2 score for n_neighbors = 5 is 0.44223970581935823\n",
      "\n",
      "Mean Absolute Error for n_neighbors = 5 is 0.7515923702526709\n",
      "\n",
      "R2 score for n_neighbors = 7 is 0.4661781742950496\n",
      "\n",
      "Mean Absolute Error for n_neighbors = 7 is 0.7344341654736385\n",
      "\n",
      "R2 score for n_neighbors = 9 is 0.4771105861927014\n",
      "\n",
      "Mean Absolute Error for n_neighbors = 9 is 0.7261039341368817\n",
      "\n"
     ]
    }
   ],
   "source": [
    "for n_neighbors in [3, 5, 7, 9]:\n",
    "    pipeline_step1 = ColumnTransformer(transformers=[\n",
    "        ('column_transformer',OneHotEncoder(sparse=False,drop='first'),[0,2,3,4,5,7,8,11])\n",
    "    ],remainder='passthrough')\n",
    "\n",
    "    pipeline_step2 = KNeighborsRegressor(n_neighbors= n_neighbors)\n",
    "\n",
    "    pipe = Pipeline([\n",
    "        ('Part1',pipeline_step1),\n",
    "        ('Part2',pipeline_step2)\n",
    "    ])\n",
    "\n",
    "    pipe.fit(X_train,y_train)\n",
    "\n",
    "    y_pred = pipe.predict(X_test)\n",
    "\n",
    "    print(f\"R2 score for n_neighbors = {n_neighbors} is {r2_score(y_test,y_pred)}\\n\")\n",
    "    print(f\"Mean Absolute Error for n_neighbors = {n_neighbors} is {mean_absolute_error(y_test,y_pred)}\\n\")"
   ]
  },
  {
   "cell_type": "markdown",
   "metadata": {
    "id": "45AyvvJTPHUt"
   },
   "source": [
    "Results are very poor with KNN Regressor"
   ]
  },
  {
   "cell_type": "markdown",
   "metadata": {
    "id": "yzZH1A7dPOUF"
   },
   "source": [
    "# Decision Tree"
   ]
  },
  {
   "cell_type": "code",
   "execution_count": 200,
   "metadata": {
    "colab": {
     "base_uri": "https://localhost:8080/"
    },
    "id": "C61YQslnPTC4",
    "outputId": "bdbc117c-1efb-48d7-c57c-ce29840ac8d0"
   },
   "outputs": [
    {
     "data": {
      "text/plain": [
       "DecisionTreeRegressor(ccp_alpha=0.0, criterion='mse', max_depth=8,\n",
       "                      max_features=None, max_leaf_nodes=None,\n",
       "                      min_impurity_decrease=0.0, min_impurity_split=None,\n",
       "                      min_samples_leaf=1, min_samples_split=2,\n",
       "                      min_weight_fraction_leaf=0.0, presort='deprecated',\n",
       "                      random_state=None, splitter='best')"
      ]
     },
     "execution_count": 200,
     "metadata": {},
     "output_type": "execute_result"
    }
   ],
   "source": [
    "DecisionTreeRegressor(max_depth=8)"
   ]
  },
  {
   "cell_type": "code",
   "execution_count": 201,
   "metadata": {
    "colab": {
     "base_uri": "https://localhost:8080/"
    },
    "id": "ZeJe4O-EPS-7",
    "outputId": "b4ed01e0-c4d0-4b87-8b4b-5c14b745da26"
   },
   "outputs": [
    {
     "name": "stdout",
     "output_type": "stream",
     "text": [
      "R2 score for max_depth = 4 is 0.651935631745575\n",
      "\n",
      "Mean Absolute Error for max_depth = 4 is 0.5919811210278101\n",
      "\n",
      "R2 score for max_depth = 6 is 0.6435899359461358\n",
      "\n",
      "Mean Absolute Error for max_depth = 6 is 0.5789268652701444\n",
      "\n",
      "R2 score for max_depth = 8 is 0.6772199073111856\n",
      "\n",
      "Mean Absolute Error for max_depth = 8 is 0.5476110868056646\n",
      "\n",
      "R2 score for max_depth = 10 is 0.7004885790099848\n",
      "\n",
      "Mean Absolute Error for max_depth = 10 is 0.538528304749921\n",
      "\n",
      "R2 score for max_depth = 12 is 0.6779598815471972\n",
      "\n",
      "Mean Absolute Error for max_depth = 12 is 0.5749854178428488\n",
      "\n",
      "R2 score for max_depth = 14 is 0.6614954297881807\n",
      "\n",
      "Mean Absolute Error for max_depth = 14 is 0.56295538244718\n",
      "\n"
     ]
    }
   ],
   "source": [
    "for max_depth in [4, 6, 8, 10, 12, 14]:\n",
    "    pipeline_step1 = ColumnTransformer(transformers=[\n",
    "        ('column_transformer',OneHotEncoder(sparse=False,drop='first'),[0,2,3,4,5,7,8,11])\n",
    "    ],remainder='passthrough')\n",
    "\n",
    "    pipeline_step2 = DecisionTreeRegressor(max_depth= max_depth)\n",
    "\n",
    "    pipe = Pipeline([\n",
    "        ('Part1',pipeline_step1),\n",
    "        ('Part2',pipeline_step2)\n",
    "    ])\n",
    "\n",
    "    pipe.fit(X_train,y_train)\n",
    "\n",
    "    y_pred = pipe.predict(X_test)\n",
    "\n",
    "    print(f\"R2 score for max_depth = {max_depth} is {r2_score(y_test,y_pred)}\\n\")\n",
    "    print(f\"Mean Absolute Error for max_depth = {max_depth} is {mean_absolute_error(y_test,y_pred)}\\n\")"
   ]
  },
  {
   "cell_type": "code",
   "execution_count": 201,
   "metadata": {
    "id": "gL2sIpMYOxnn"
   },
   "outputs": [],
   "source": []
  },
  {
   "cell_type": "markdown",
   "metadata": {
    "id": "K85YvPXlP9hx"
   },
   "source": [
    "## Random Forest"
   ]
  },
  {
   "cell_type": "code",
   "execution_count": 202,
   "metadata": {
    "colab": {
     "base_uri": "https://localhost:8080/"
    },
    "id": "c5QzcvX7P2Bz",
    "outputId": "0dedaec0-88d2-4b26-beda-8efcfbf28d13"
   },
   "outputs": [
    {
     "name": "stdout",
     "output_type": "stream",
     "text": [
      "R2 score for n_estimators = 1 is 0.6014637630566686\n",
      "\n",
      "Mean Absolute Error for n_estimators = 1 is 0.6454734040622162\n",
      "\n",
      "R2 score for n_estimators = 2 is 0.6725940704771847\n",
      "\n",
      "Mean Absolute Error for n_estimators = 2 is 0.58035905288565\n",
      "\n",
      "R2 score for n_estimators = 3 is 0.727018629342913\n",
      "\n",
      "Mean Absolute Error for n_estimators = 3 is 0.5353101823688574\n",
      "\n",
      "R2 score for n_estimators = 4 is 0.7753954141548894\n",
      "\n",
      "Mean Absolute Error for n_estimators = 4 is 0.47738190013731735\n",
      "\n",
      "R2 score for n_estimators = 5 is 0.7430287126259799\n",
      "\n",
      "Mean Absolute Error for n_estimators = 5 is 0.5348178582449771\n",
      "\n",
      "R2 score for n_estimators = 6 is 0.7298651432001533\n",
      "\n",
      "Mean Absolute Error for n_estimators = 6 is 0.5320330840948689\n",
      "\n",
      "R2 score for n_estimators = 7 is 0.7481529874511046\n",
      "\n",
      "Mean Absolute Error for n_estimators = 7 is 0.5096210779460327\n",
      "\n",
      "R2 score for n_estimators = 8 is 0.7384410130599581\n",
      "\n",
      "Mean Absolute Error for n_estimators = 8 is 0.5226524937000477\n",
      "\n",
      "R2 score for n_estimators = 9 is 0.7320843650456503\n",
      "\n",
      "Mean Absolute Error for n_estimators = 9 is 0.524113847599463\n",
      "\n",
      "R2 score for n_estimators = 10 is 0.7313061235997723\n",
      "\n",
      "Mean Absolute Error for n_estimators = 10 is 0.5277286543360177\n",
      "\n",
      "R2 score for n_estimators = 11 is 0.739822014348849\n",
      "\n",
      "Mean Absolute Error for n_estimators = 11 is 0.5236643536739113\n",
      "\n",
      "R2 score for n_estimators = 12 is 0.7522720673993852\n",
      "\n",
      "Mean Absolute Error for n_estimators = 12 is 0.5150396082870782\n",
      "\n",
      "R2 score for n_estimators = 13 is 0.741174954533147\n",
      "\n",
      "Mean Absolute Error for n_estimators = 13 is 0.5302922672140268\n",
      "\n",
      "R2 score for n_estimators = 14 is 0.7328126885037167\n",
      "\n",
      "Mean Absolute Error for n_estimators = 14 is 0.5425376979530582\n",
      "\n",
      "R2 score for n_estimators = 15 is 0.7280555474007331\n",
      "\n",
      "Mean Absolute Error for n_estimators = 15 is 0.5421740798518891\n",
      "\n",
      "R2 score for n_estimators = 16 is 0.7288382873773072\n",
      "\n",
      "Mean Absolute Error for n_estimators = 16 is 0.5455912027327463\n",
      "\n",
      "R2 score for n_estimators = 17 is 0.7305990892038094\n",
      "\n",
      "Mean Absolute Error for n_estimators = 17 is 0.5419802610684815\n",
      "\n",
      "R2 score for n_estimators = 18 is 0.720527280993969\n",
      "\n",
      "Mean Absolute Error for n_estimators = 18 is 0.5515214334392052\n",
      "\n",
      "R2 score for n_estimators = 19 is 0.7306332010505646\n",
      "\n",
      "Mean Absolute Error for n_estimators = 19 is 0.5426508462179398\n",
      "\n"
     ]
    }
   ],
   "source": [
    "for n_estimators in range(1,20):\n",
    "    pipeline_step1 = ColumnTransformer(transformers=[\n",
    "        ('column_transformer',OneHotEncoder(sparse=False,drop='first'),[0,2,3,4,5,7,8,11])\n",
    "    ],remainder='passthrough')\n",
    "\n",
    "    pipeline_step2 = RandomForestRegressor(n_estimators=n_estimators,\n",
    "                              random_state=3,\n",
    "                              max_samples=0.5,\n",
    "                              max_features=0.75,\n",
    "                              max_depth=10)\n",
    "\n",
    "    pipe = Pipeline([\n",
    "        ('Part1',pipeline_step1),\n",
    "        ('Part2',pipeline_step2)\n",
    "    ])\n",
    "\n",
    "    pipe.fit(X_train,y_train)\n",
    "\n",
    "    y_pred = pipe.predict(X_test)\n",
    "\n",
    "    print(f\"R2 score for n_estimators = {n_estimators} is {r2_score(y_test,y_pred)}\\n\")\n",
    "    print(f\"Mean Absolute Error for n_estimators = {n_estimators} is {mean_absolute_error(y_test,y_pred)}\\n\")"
   ]
  },
  {
   "cell_type": "markdown",
   "metadata": {
    "id": "qCUzl0nEfLmX"
   },
   "source": [
    "n_estimators = 8 looks best"
   ]
  },
  {
   "cell_type": "code",
   "execution_count": 203,
   "metadata": {
    "colab": {
     "base_uri": "https://localhost:8080/"
    },
    "id": "ulYUstyOfPKf",
    "outputId": "e8131f81-dc41-4a51-dc19-bda4e7eb9a4f"
   },
   "outputs": [
    {
     "name": "stdout",
     "output_type": "stream",
     "text": [
      "R2 score for n_estimators = 19 is 0.7384410130599581\n",
      "\n",
      "Mean Absolute Error for n_estimators = 19 is 0.5226524937000477\n",
      "\n"
     ]
    }
   ],
   "source": [
    "pipeline_step1 = ColumnTransformer(transformers=[\n",
    "    ('column_transformer',OneHotEncoder(sparse=False,drop='first'),[0,2,3,4,5,7,8,11])\n",
    "],remainder='passthrough')\n",
    "\n",
    "pipeline_step2 = RandomForestRegressor(n_estimators=8,\n",
    "                            random_state=3,\n",
    "                            max_samples=0.5,\n",
    "                            max_features=0.75,\n",
    "                            max_depth=10)\n",
    "\n",
    "pipe = Pipeline([\n",
    "    ('Part1',pipeline_step1),\n",
    "    ('Part2',pipeline_step2)\n",
    "])\n",
    "\n",
    "pipe.fit(X_train,y_train)\n",
    "\n",
    "y_pred = pipe.predict(X_test)\n",
    "\n",
    "print(f\"R2 score for n_estimators = {n_estimators} is {r2_score(y_test,y_pred)}\\n\")\n",
    "print(f\"Mean Absolute Error for n_estimators = {n_estimators} is {mean_absolute_error(y_test,y_pred)}\\n\")"
   ]
  },
  {
   "cell_type": "markdown",
   "metadata": {
    "id": "PKl1_sWnR6kB"
   },
   "source": [
    "## SVM Regression"
   ]
  },
  {
   "cell_type": "code",
   "execution_count": 204,
   "metadata": {
    "colab": {
     "base_uri": "https://localhost:8080/"
    },
    "id": "I00ZKepfP1_H",
    "outputId": "c63958ca-315f-494e-d8c8-01ed3b205bbd"
   },
   "outputs": [
    {
     "data": {
      "text/plain": [
       "SVR(C=10000, cache_size=200, coef0=0.0, degree=3, epsilon=0.1, gamma='scale',\n",
       "    kernel='rbf', max_iter=-1, shrinking=True, tol=0.001, verbose=False)"
      ]
     },
     "execution_count": 204,
     "metadata": {},
     "output_type": "execute_result"
    }
   ],
   "source": [
    "SVR(kernel='rbf',C=10000,epsilon=0.1)"
   ]
  },
  {
   "cell_type": "code",
   "execution_count": 205,
   "metadata": {
    "colab": {
     "base_uri": "https://localhost:8080/"
    },
    "id": "1ypMTgiKP16J",
    "outputId": "fab61ab9-1646-4dec-8576-338bb2924742"
   },
   "outputs": [
    {
     "name": "stdout",
     "output_type": "stream",
     "text": [
      "R2 score for C = 100 is 0.5078075894520644\n",
      "\n",
      "Mean Absolute Error for C = 100 is 0.6982463626021005\n",
      "\n",
      "R2 score for C = 500 is 0.5120461227604085\n",
      "\n",
      "Mean Absolute Error for C = 500 is 0.6892568573031166\n",
      "\n",
      "R2 score for C = 1000 is 0.5269400532417995\n",
      "\n",
      "Mean Absolute Error for C = 1000 is 0.6808997958542657\n",
      "\n",
      "R2 score for C = 5000 is 0.6002141747818486\n",
      "\n",
      "Mean Absolute Error for C = 5000 is 0.6355495824814847\n",
      "\n",
      "R2 score for C = 10000 is 0.6463432157989271\n",
      "\n",
      "Mean Absolute Error for C = 10000 is 0.599334742857103\n",
      "\n",
      "R2 score for C = 15000 is 0.6804492078787604\n",
      "\n",
      "Mean Absolute Error for C = 15000 is 0.5672197290279867\n",
      "\n",
      "R2 score for C = 20000 is 0.7043794828275948\n",
      "\n",
      "Mean Absolute Error for C = 20000 is 0.5524859722062881\n",
      "\n"
     ]
    }
   ],
   "source": [
    "for C in [100,500,1000,5000,10000,15000,20000]:\n",
    "    pipeline_step1 = ColumnTransformer(transformers=[\n",
    "        ('column_transformer',OneHotEncoder(sparse=False,drop='first'),[0,2,3,4,5,7,8,11])\n",
    "    ],remainder='passthrough')\n",
    "\n",
    "    pipeline_step2 = SVR(kernel='rbf',C=C,epsilon=0.01)\n",
    "\n",
    "    pipe = Pipeline([\n",
    "        ('Part1',pipeline_step1),\n",
    "        ('Part2',pipeline_step2)\n",
    "    ])\n",
    "\n",
    "    pipe.fit(X_train,y_train)\n",
    "\n",
    "    y_pred = pipe.predict(X_test)\n",
    "\n",
    "    print(f\"R2 score for C = {C} is {r2_score(y_test,y_pred)}\\n\")\n",
    "    print(f\"Mean Absolute Error for C = {C} is {mean_absolute_error(y_test,y_pred)}\\n\")"
   ]
  },
  {
   "cell_type": "markdown",
   "metadata": {
    "id": "T4MQBQkRS0X1"
   },
   "source": [
    "Results are not good even after trying various values of hyperparameters."
   ]
  },
  {
   "cell_type": "markdown",
   "metadata": {
    "id": "gLEldqeiTlAv"
   },
   "source": [
    "## Adaboost"
   ]
  },
  {
   "cell_type": "code",
   "execution_count": 206,
   "metadata": {
    "colab": {
     "base_uri": "https://localhost:8080/"
    },
    "id": "o-XfSt2RP1wK",
    "outputId": "c287687b-4cbc-49f2-eb9e-e6fc09958075"
   },
   "outputs": [
    {
     "data": {
      "text/plain": [
       "AdaBoostRegressor(base_estimator=None, learning_rate=1.0, loss='linear',\n",
       "                  n_estimators=15, random_state=None)"
      ]
     },
     "execution_count": 206,
     "metadata": {},
     "output_type": "execute_result"
    }
   ],
   "source": [
    "AdaBoostRegressor(n_estimators=15,learning_rate=1.0)"
   ]
  },
  {
   "cell_type": "code",
   "execution_count": 207,
   "metadata": {
    "colab": {
     "base_uri": "https://localhost:8080/"
    },
    "id": "NkIOQFoWP1tf",
    "outputId": "4170a2f0-ba0f-4b82-cb9e-c1045d25b64a"
   },
   "outputs": [
    {
     "name": "stdout",
     "output_type": "stream",
     "text": [
      "R2 score 0.6756414386916424\n",
      "MAE 0.6103860425047267\n"
     ]
    }
   ],
   "source": [
    "pipeline_step1 = ColumnTransformer(transformers=[\n",
    "    ('column_transformer',OneHotEncoder(sparse=False,drop='first'),[0,2,3,4,5,7,8,11])\n",
    "],remainder='passthrough')\n",
    "\n",
    "pipeline_step2 = AdaBoostRegressor(n_estimators=15,learning_rate=0.5)\n",
    "\n",
    "pipe = Pipeline([\n",
    "    ('Part1',pipeline_step1),\n",
    "    ('Part2',pipeline_step2)\n",
    "])\n",
    "\n",
    "pipe.fit(X_train,y_train)\n",
    "\n",
    "y_pred = pipe.predict(X_test)\n",
    "\n",
    "print('R2 score',r2_score(y_test,y_pred))\n",
    "print('MAE',mean_absolute_error(y_test,y_pred))"
   ]
  },
  {
   "cell_type": "markdown",
   "metadata": {
    "id": "q5iLuQKtW_gE"
   },
   "source": [
    "Results from Adaboost are not that great even after trying various values of the hyper parameters."
   ]
  },
  {
   "cell_type": "code",
   "execution_count": 208,
   "metadata": {
    "colab": {
     "base_uri": "https://localhost:8080/"
    },
    "id": "N1oGDQSFTxr3",
    "outputId": "09de0394-df5e-4df3-d091-4159a4d61f83"
   },
   "outputs": [
    {
     "data": {
      "text/plain": [
       "GradientBoostingRegressor(alpha=0.9, ccp_alpha=0.0, criterion='friedman_mse',\n",
       "                          init=None, learning_rate=0.1, loss='ls', max_depth=3,\n",
       "                          max_features=None, max_leaf_nodes=None,\n",
       "                          min_impurity_decrease=0.0, min_impurity_split=None,\n",
       "                          min_samples_leaf=1, min_samples_split=2,\n",
       "                          min_weight_fraction_leaf=0.0, n_estimators=500,\n",
       "                          n_iter_no_change=None, presort='deprecated',\n",
       "                          random_state=None, subsample=1.0, tol=0.0001,\n",
       "                          validation_fraction=0.1, verbose=0, warm_start=False)"
      ]
     },
     "execution_count": 208,
     "metadata": {},
     "output_type": "execute_result"
    }
   ],
   "source": [
    "GradientBoostingRegressor(n_estimators=500)"
   ]
  },
  {
   "cell_type": "code",
   "execution_count": 209,
   "metadata": {
    "colab": {
     "base_uri": "https://localhost:8080/"
    },
    "id": "a16-PWZOYed5",
    "outputId": "b0ab87f7-e321-45b7-86fa-1f64b1454f10"
   },
   "outputs": [
    {
     "name": "stdout",
     "output_type": "stream",
     "text": [
      "R2 score for n_estimators = 100 is 0.7758146255206686\n",
      "\n",
      "Mean Absolute Error for n_estimators = 100 is 0.5033687407516385\n",
      "\n",
      "R2 score for n_estimators = 200 is 0.7969059080609288\n",
      "\n",
      "Mean Absolute Error for n_estimators = 200 is 0.48170697067262186\n",
      "\n",
      "R2 score for n_estimators = 300 is 0.7941057418820507\n",
      "\n",
      "Mean Absolute Error for n_estimators = 300 is 0.48429379793568594\n",
      "\n",
      "R2 score for n_estimators = 400 is 0.7845130133059742\n",
      "\n",
      "Mean Absolute Error for n_estimators = 400 is 0.4951839057654656\n",
      "\n",
      "R2 score for n_estimators = 500 is 0.7834402023768435\n",
      "\n",
      "Mean Absolute Error for n_estimators = 500 is 0.49815762447745393\n",
      "\n",
      "R2 score for n_estimators = 600 is 0.7804641497397642\n",
      "\n",
      "Mean Absolute Error for n_estimators = 600 is 0.5007850885205088\n",
      "\n",
      "R2 score for n_estimators = 700 is 0.7795166850674843\n",
      "\n",
      "Mean Absolute Error for n_estimators = 700 is 0.5001551532043972\n",
      "\n",
      "R2 score for n_estimators = 800 is 0.7781173550642326\n",
      "\n",
      "Mean Absolute Error for n_estimators = 800 is 0.5031810515231016\n",
      "\n",
      "R2 score for n_estimators = 900 is 0.7797591519248837\n",
      "\n",
      "Mean Absolute Error for n_estimators = 900 is 0.49755717561242047\n",
      "\n"
     ]
    }
   ],
   "source": [
    "for n_estimators in range(100,1000,100):\n",
    "    pipeline_step1 = ColumnTransformer(transformers=[\n",
    "    ('column_transformer',OneHotEncoder(sparse=False,drop='first'),[0,2,3,4,5,7,8,11])\n",
    "    ],remainder='passthrough')\n",
    "\n",
    "    pipeline_step2 = GradientBoostingRegressor(n_estimators=n_estimators)\n",
    "\n",
    "    pipe = Pipeline([\n",
    "        ('Part1',pipeline_step1),\n",
    "        ('Part2',pipeline_step2)\n",
    "    ])\n",
    "\n",
    "    pipe.fit(X_train,y_train)\n",
    "\n",
    "    y_pred = pipe.predict(X_test)\n",
    "\n",
    "    print(f\"R2 score for n_estimators = {n_estimators} is {r2_score(y_test,y_pred)}\\n\")\n",
    "    print(f\"Mean Absolute Error for n_estimators = {n_estimators} is {mean_absolute_error(y_test,y_pred)}\\n\")"
   ]
  },
  {
   "cell_type": "markdown",
   "metadata": {
    "id": "uW5z0NNcZlQc"
   },
   "source": [
    "n_estimators = 300 looks best "
   ]
  },
  {
   "cell_type": "code",
   "execution_count": 210,
   "metadata": {
    "colab": {
     "base_uri": "https://localhost:8080/"
    },
    "id": "zyis1qU0YeaK",
    "outputId": "027e9cdc-d53f-4704-944d-444773dbf9ef"
   },
   "outputs": [
    {
     "name": "stdout",
     "output_type": "stream",
     "text": [
      "R2 score 0.7936633942518627\n",
      "MAE 0.48546791078487384\n"
     ]
    }
   ],
   "source": [
    "pipeline_step1 = ColumnTransformer(transformers=[\n",
    "    ('column_transformer',OneHotEncoder(sparse=False,drop='first'),[0,2,3,4,5,7,8,11])\n",
    "],remainder='passthrough')\n",
    "\n",
    "pipeline_step2 = GradientBoostingRegressor(n_estimators=300)\n",
    "\n",
    "pipe = Pipeline([\n",
    "    ('Part1',pipeline_step1),\n",
    "    ('Part2',pipeline_step2)\n",
    "])\n",
    "\n",
    "pipe.fit(X_train,y_train)\n",
    "\n",
    "y_pred = pipe.predict(X_test)\n",
    "\n",
    "print('R2 score',r2_score(y_test,y_pred))\n",
    "print('MAE',mean_absolute_error(y_test,y_pred))"
   ]
  },
  {
   "cell_type": "markdown",
   "metadata": {
    "id": "R8n9jt0gZ6-9"
   },
   "source": [
    "## XGBoost Regressor"
   ]
  },
  {
   "cell_type": "code",
   "execution_count": 211,
   "metadata": {
    "colab": {
     "base_uri": "https://localhost:8080/"
    },
    "id": "Nz3Mi2M4YeXX",
    "outputId": "74a8563c-5e05-422a-b31f-4c885164c8e0"
   },
   "outputs": [
    {
     "data": {
      "text/plain": [
       "XGBRegressor(base_score=0.5, booster='gbtree', colsample_bylevel=1,\n",
       "             colsample_bynode=1, colsample_bytree=1, gamma=0,\n",
       "             importance_type='gain', learning_rate=0.5, max_delta_step=0,\n",
       "             max_depth=5, min_child_weight=1, missing=None, n_estimators=45,\n",
       "             n_jobs=1, nthread=None, objective='reg:linear', random_state=0,\n",
       "             reg_alpha=0, reg_lambda=1, scale_pos_weight=1, seed=None,\n",
       "             silent=None, subsample=1, verbosity=1)"
      ]
     },
     "execution_count": 211,
     "metadata": {},
     "output_type": "execute_result"
    }
   ],
   "source": [
    "XGBRegressor(n_estimators=45,max_depth=5,learning_rate=0.5)"
   ]
  },
  {
   "cell_type": "code",
   "execution_count": 212,
   "metadata": {
    "colab": {
     "base_uri": "https://localhost:8080/"
    },
    "id": "_XGtU6ZRYeU3",
    "outputId": "1008cb8a-ab42-41bd-d405-8ed8c2cc988a"
   },
   "outputs": [
    {
     "name": "stdout",
     "output_type": "stream",
     "text": [
      "[18:28:10] WARNING: /workspace/src/objective/regression_obj.cu:152: reg:linear is now deprecated in favor of reg:squarederror.\n",
      "R2 score for n_estimators = 5 is 0.8129250586600794\n",
      "\n",
      "Mean Absolute Error for n_estimators = 5 is 0.46292558918964116\n",
      "\n",
      "[18:28:10] WARNING: /workspace/src/objective/regression_obj.cu:152: reg:linear is now deprecated in favor of reg:squarederror.\n",
      "R2 score for n_estimators = 10 is 0.8210324866415843\n",
      "\n",
      "Mean Absolute Error for n_estimators = 10 is 0.4408950869776263\n",
      "\n",
      "[18:28:10] WARNING: /workspace/src/objective/regression_obj.cu:152: reg:linear is now deprecated in favor of reg:squarederror.\n",
      "R2 score for n_estimators = 15 is 0.8176487974133324\n",
      "\n",
      "Mean Absolute Error for n_estimators = 15 is 0.4485030746879526\n",
      "\n",
      "[18:28:10] WARNING: /workspace/src/objective/regression_obj.cu:152: reg:linear is now deprecated in favor of reg:squarederror.\n",
      "R2 score for n_estimators = 20 is 0.8058828212747489\n",
      "\n",
      "Mean Absolute Error for n_estimators = 20 is 0.4614712240710126\n",
      "\n",
      "[18:28:10] WARNING: /workspace/src/objective/regression_obj.cu:152: reg:linear is now deprecated in favor of reg:squarederror.\n",
      "R2 score for n_estimators = 25 is 0.8126552363424007\n",
      "\n",
      "Mean Absolute Error for n_estimators = 25 is 0.45407677481764724\n",
      "\n",
      "[18:28:11] WARNING: /workspace/src/objective/regression_obj.cu:152: reg:linear is now deprecated in favor of reg:squarederror.\n",
      "R2 score for n_estimators = 30 is 0.8050524301137126\n",
      "\n",
      "Mean Absolute Error for n_estimators = 30 is 0.46077517967256376\n",
      "\n",
      "[18:28:11] WARNING: /workspace/src/objective/regression_obj.cu:152: reg:linear is now deprecated in favor of reg:squarederror.\n",
      "R2 score for n_estimators = 35 is 0.8018732143472084\n",
      "\n",
      "Mean Absolute Error for n_estimators = 35 is 0.4597050569030253\n",
      "\n",
      "[18:28:11] WARNING: /workspace/src/objective/regression_obj.cu:152: reg:linear is now deprecated in favor of reg:squarederror.\n",
      "R2 score for n_estimators = 40 is 0.7976325664043062\n",
      "\n",
      "Mean Absolute Error for n_estimators = 40 is 0.4603902332197533\n",
      "\n",
      "[18:28:11] WARNING: /workspace/src/objective/regression_obj.cu:152: reg:linear is now deprecated in favor of reg:squarederror.\n",
      "R2 score for n_estimators = 45 is 0.7993392720408721\n",
      "\n",
      "Mean Absolute Error for n_estimators = 45 is 0.45910450396367125\n",
      "\n",
      "[18:28:11] WARNING: /workspace/src/objective/regression_obj.cu:152: reg:linear is now deprecated in favor of reg:squarederror.\n",
      "R2 score for n_estimators = 50 is 0.7987752301387329\n",
      "\n",
      "Mean Absolute Error for n_estimators = 50 is 0.4564452776120753\n",
      "\n",
      "[18:28:11] WARNING: /workspace/src/objective/regression_obj.cu:152: reg:linear is now deprecated in favor of reg:squarederror.\n",
      "R2 score for n_estimators = 55 is 0.7994520773378776\n",
      "\n",
      "Mean Absolute Error for n_estimators = 55 is 0.4561514083246656\n",
      "\n",
      "[18:28:11] WARNING: /workspace/src/objective/regression_obj.cu:152: reg:linear is now deprecated in favor of reg:squarederror.\n",
      "R2 score for n_estimators = 60 is 0.8010272358782211\n",
      "\n",
      "Mean Absolute Error for n_estimators = 60 is 0.45538593821050555\n",
      "\n",
      "[18:28:11] WARNING: /workspace/src/objective/regression_obj.cu:152: reg:linear is now deprecated in favor of reg:squarederror.\n",
      "R2 score for n_estimators = 65 is 0.7989729303544837\n",
      "\n",
      "Mean Absolute Error for n_estimators = 65 is 0.457598259715139\n",
      "\n",
      "[18:28:11] WARNING: /workspace/src/objective/regression_obj.cu:152: reg:linear is now deprecated in favor of reg:squarederror.\n",
      "R2 score for n_estimators = 70 is 0.7991632049912244\n",
      "\n",
      "Mean Absolute Error for n_estimators = 70 is 0.4589553363651092\n",
      "\n",
      "[18:28:11] WARNING: /workspace/src/objective/regression_obj.cu:152: reg:linear is now deprecated in favor of reg:squarederror.\n",
      "R2 score for n_estimators = 75 is 0.7979082006468599\n",
      "\n",
      "Mean Absolute Error for n_estimators = 75 is 0.4598547755275056\n",
      "\n",
      "[18:28:12] WARNING: /workspace/src/objective/regression_obj.cu:152: reg:linear is now deprecated in favor of reg:squarederror.\n",
      "R2 score for n_estimators = 80 is 0.7991345666602626\n",
      "\n",
      "Mean Absolute Error for n_estimators = 80 is 0.4571484202905593\n",
      "\n",
      "[18:28:12] WARNING: /workspace/src/objective/regression_obj.cu:152: reg:linear is now deprecated in favor of reg:squarederror.\n",
      "R2 score for n_estimators = 85 is 0.8015817839309882\n",
      "\n",
      "Mean Absolute Error for n_estimators = 85 is 0.45406108484604807\n",
      "\n",
      "[18:28:12] WARNING: /workspace/src/objective/regression_obj.cu:152: reg:linear is now deprecated in favor of reg:squarederror.\n",
      "R2 score for n_estimators = 90 is 0.804408856975164\n",
      "\n",
      "Mean Absolute Error for n_estimators = 90 is 0.4513905241005653\n",
      "\n",
      "[18:28:12] WARNING: /workspace/src/objective/regression_obj.cu:152: reg:linear is now deprecated in favor of reg:squarederror.\n",
      "R2 score for n_estimators = 95 is 0.8044603933601834\n",
      "\n",
      "Mean Absolute Error for n_estimators = 95 is 0.45193633334415306\n",
      "\n"
     ]
    }
   ],
   "source": [
    "for n_estimators in range(5,100,5):\n",
    "    pipeline_step1 = ColumnTransformer(transformers=[\n",
    "    ('column_transformer',OneHotEncoder(sparse=False,drop='first'),[0,2,3,4,5,7,8,11])\n",
    "    ],remainder='passthrough')\n",
    "\n",
    "    pipeline_step2 = XGBRegressor(n_estimators=n_estimators,max_depth=5,learning_rate=0.5)\n",
    "\n",
    "    pipe = Pipeline([\n",
    "        ('Part1',pipeline_step1),\n",
    "        ('Part2',pipeline_step2)\n",
    "    ])\n",
    "\n",
    "    pipe.fit(X_train,y_train)\n",
    "\n",
    "    y_pred = pipe.predict(X_test)\n",
    "\n",
    "    print(f\"R2 score for n_estimators = {n_estimators} is {r2_score(y_test,y_pred)}\\n\")\n",
    "    print(f\"Mean Absolute Error for n_estimators = {n_estimators} is {mean_absolute_error(y_test,y_pred)}\\n\")"
   ]
  },
  {
   "cell_type": "markdown",
   "metadata": {
    "id": "P-sG1mu-a_RF"
   },
   "source": [
    "n_estimators = 10 looks best "
   ]
  },
  {
   "cell_type": "code",
   "execution_count": 213,
   "metadata": {
    "colab": {
     "base_uri": "https://localhost:8080/"
    },
    "id": "7GH0swfCYeSh",
    "outputId": "981a6535-217b-46a7-ea11-2f70bb741c85"
   },
   "outputs": [
    {
     "name": "stdout",
     "output_type": "stream",
     "text": [
      "[18:28:16] WARNING: /workspace/src/objective/regression_obj.cu:152: reg:linear is now deprecated in favor of reg:squarederror.\n",
      "R2 score for n_estimators = 95 is 0.8210324866415843\n",
      "\n",
      "Mean Absolute Error for n_estimators = 95 is 0.4408950869776263\n",
      "\n"
     ]
    }
   ],
   "source": [
    "pipeline_step1 = ColumnTransformer(transformers=[\n",
    "('column_transformer',OneHotEncoder(sparse=False,drop='first'),[0,2,3,4,5,7,8,11])\n",
    "],remainder='passthrough')\n",
    "\n",
    "pipeline_step2 = XGBRegressor(n_estimators=10,max_depth=5,learning_rate=0.5)\n",
    "\n",
    "pipe = Pipeline([\n",
    "    ('Part1',pipeline_step1),\n",
    "    ('Part2',pipeline_step2)\n",
    "])\n",
    "\n",
    "pipe.fit(X_train,y_train)\n",
    "\n",
    "y_pred = pipe.predict(X_test)\n",
    "\n",
    "print(f\"R2 score for n_estimators = {n_estimators} is {r2_score(y_test,y_pred)}\\n\")\n",
    "print(f\"Mean Absolute Error for n_estimators = {n_estimators} is {mean_absolute_error(y_test,y_pred)}\\n\")"
   ]
  },
  {
   "cell_type": "markdown",
   "metadata": {
    "id": "clbdYUHzbpSN"
   },
   "source": [
    "## Voting Regressor"
   ]
  },
  {
   "cell_type": "code",
   "execution_count": 214,
   "metadata": {
    "id": "G_8EJmR1bHNw"
   },
   "outputs": [],
   "source": [
    "from sklearn.ensemble import VotingRegressor,StackingRegressor"
   ]
  },
  {
   "cell_type": "code",
   "execution_count": 215,
   "metadata": {
    "colab": {
     "base_uri": "https://localhost:8080/"
    },
    "id": "iXyXTTVpbohK",
    "outputId": "f001c683-f687-48ca-80fc-f60f85989da9"
   },
   "outputs": [
    {
     "name": "stdout",
     "output_type": "stream",
     "text": [
      "[18:28:24] WARNING: /workspace/src/objective/regression_obj.cu:152: reg:linear is now deprecated in favor of reg:squarederror.\n",
      "R2 score  is 0.8348358064509476\n",
      "\n",
      "Mean Absolute Error  is 0.4330651140959993\n",
      "\n"
     ]
    }
   ],
   "source": [
    "pipeline_step1 = ColumnTransformer(transformers=[\n",
    "('column_transformer',OneHotEncoder(sparse=False,drop='first'),[0,2,3,4,5,7,8,11])\n",
    "],remainder='passthrough')\n",
    "\n",
    "rf = RandomForestRegressor(n_estimators=8,\n",
    "                            random_state=3,\n",
    "                            max_samples=0.5,\n",
    "                            max_features=0.75,\n",
    "                            max_depth=10)\n",
    "gbdt = GradientBoostingRegressor(n_estimators=300)\n",
    "xgb = XGBRegressor(n_estimators=10,max_depth=5,learning_rate=0.5)\n",
    "# et = ExtraTreesRegressor(n_estimators=100,random_state=3,max_samples=0.5,max_features=0.75,max_depth=10)\n",
    "ls = Lasso(alpha = 0.01)\n",
    "rdg = Ridge(alpha = 10)\n",
    "\n",
    "pipeline_step2 = VotingRegressor([('rf', rf), ('gbdt', gbdt), ('xgb',xgb), ('lasso',ls), ('ridge', rdg)],weights=[1,1,1,1,1])\n",
    "\n",
    "\n",
    "pipe = Pipeline([\n",
    "    ('Part1',pipeline_step1),\n",
    "    ('Part2',pipeline_step2)\n",
    "])\n",
    "\n",
    "pipe.fit(X_train,y_train)\n",
    "\n",
    "y_pred = pipe.predict(X_test)\n",
    "\n",
    "print(f\"R2 score  is {r2_score(y_test,y_pred)}\\n\")\n",
    "print(f\"Mean Absolute Error  is {mean_absolute_error(y_test,y_pred)}\\n\")\n",
    "\n",
    "\n"
   ]
  },
  {
   "cell_type": "markdown",
   "metadata": {
    "id": "ZnErX8nWdAsO"
   },
   "source": [
    "## Stacking"
   ]
  },
  {
   "cell_type": "code",
   "execution_count": 216,
   "metadata": {
    "colab": {
     "base_uri": "https://localhost:8080/"
    },
    "id": "XodAFVbbboe2",
    "outputId": "cf234bcd-280f-4969-9f77-3d3071d24745"
   },
   "outputs": [
    {
     "name": "stdout",
     "output_type": "stream",
     "text": [
      "[18:28:28] WARNING: /workspace/src/objective/regression_obj.cu:152: reg:linear is now deprecated in favor of reg:squarederror.\n",
      "[18:28:30] WARNING: /workspace/src/objective/regression_obj.cu:152: reg:linear is now deprecated in favor of reg:squarederror.\n",
      "[18:28:30] WARNING: /workspace/src/objective/regression_obj.cu:152: reg:linear is now deprecated in favor of reg:squarederror.\n",
      "[18:28:30] WARNING: /workspace/src/objective/regression_obj.cu:152: reg:linear is now deprecated in favor of reg:squarederror.\n",
      "[18:28:30] WARNING: /workspace/src/objective/regression_obj.cu:152: reg:linear is now deprecated in favor of reg:squarederror.\n",
      "[18:28:30] WARNING: /workspace/src/objective/regression_obj.cu:152: reg:linear is now deprecated in favor of reg:squarederror.\n",
      "R2 score  is 0.8363850225221996\n",
      "\n",
      "Mean Absolute Error  is 0.436351009455462\n",
      "\n"
     ]
    }
   ],
   "source": [
    "pipeline_step1 = ColumnTransformer(transformers=[\n",
    "('column_transformer',OneHotEncoder(sparse=False,drop='first'),[0,2,3,4,5,7,8,11])\n",
    "],remainder='passthrough')\n",
    "\n",
    "estimators = [\n",
    "    ('rf', RandomForestRegressor(n_estimators=8,random_state=3,max_samples=0.5,max_features=0.75,max_depth=10)),\n",
    "    ('gbdt',GradientBoostingRegressor(n_estimators=300)),\n",
    "    ('xgb', XGBRegressor(n_estimators=10,max_depth=5,learning_rate=0.5)),\n",
    "    ('lasso', Lasso(alpha = 0.01)),\n",
    "    ('ridge', Ridge(alpha = 10))\n",
    "]\n",
    "\n",
    "\n",
    "pipeline_step2 = StackingRegressor(estimators=estimators, final_estimator=Ridge(alpha=10))\n",
    "\n",
    "pipe = Pipeline([\n",
    "    ('Part1',pipeline_step1),\n",
    "    ('Part2',pipeline_step2)\n",
    "])\n",
    "\n",
    "pipe.fit(X_train,y_train)\n",
    "\n",
    "y_pred = pipe.predict(X_test)\n",
    "\n",
    "print(f\"R2 score  is {r2_score(y_test,y_pred)}\\n\")\n",
    "print(f\"Mean Absolute Error  is {mean_absolute_error(y_test,y_pred)}\\n\")"
   ]
  },
  {
   "cell_type": "markdown",
   "metadata": {
    "id": "9aPHu2U4fESM"
   },
   "source": [
    "From above we can see that Voting Regressor is giving us the best results hence we will export that model finally."
   ]
  },
  {
   "cell_type": "code",
   "execution_count": 217,
   "metadata": {
    "colab": {
     "base_uri": "https://localhost:8080/"
    },
    "id": "3ZBPhdwqboc0",
    "outputId": "3e7f3aa9-c377-4b8b-816c-de240245af62"
   },
   "outputs": [
    {
     "name": "stdout",
     "output_type": "stream",
     "text": [
      "[18:28:30] WARNING: /workspace/src/objective/regression_obj.cu:152: reg:linear is now deprecated in favor of reg:squarederror.\n",
      "R2 score  is 0.8350242316991379\n",
      "\n",
      "Mean Absolute Error  is 0.4327700024942865\n",
      "\n"
     ]
    }
   ],
   "source": [
    "# final model voting regressor\n",
    "\n",
    "pipeline_step1 = ColumnTransformer(transformers=[\n",
    "('column_transformer',OneHotEncoder(sparse=False,drop='first'),[0,2,3,4,5,7,8,11])\n",
    "],remainder='passthrough')\n",
    "\n",
    "rf = RandomForestRegressor(n_estimators=8,\n",
    "                            random_state=3,\n",
    "                            max_samples=0.5,\n",
    "                            max_features=0.75,\n",
    "                            max_depth=10)\n",
    "gbdt = GradientBoostingRegressor(n_estimators=300)\n",
    "xgb = XGBRegressor(n_estimators=10,max_depth=5,learning_rate=0.5)\n",
    "# et = ExtraTreesRegressor(n_estimators=100,random_state=3,max_samples=0.5,max_features=0.75,max_depth=10)\n",
    "ls = Lasso(alpha = 0.01)\n",
    "rdg = Ridge(alpha = 10)\n",
    "\n",
    "pipeline_step2 = VotingRegressor([('rf', rf), ('gbdt', gbdt), ('xgb',xgb), ('lasso',ls), ('ridge', rdg)],weights=[1,1,1,1,1])\n",
    "\n",
    "\n",
    "pipe = Pipeline([\n",
    "    ('Part1',pipeline_step1),\n",
    "    ('Part2',pipeline_step2)\n",
    "])\n",
    "\n",
    "pipe.fit(X_train,y_train)\n",
    "\n",
    "y_pred = pipe.predict(X_test)\n",
    "\n",
    "print(f\"R2 score  is {r2_score(y_test,y_pred)}\\n\")\n",
    "print(f\"Mean Absolute Error  is {mean_absolute_error(y_test,y_pred)}\\n\")"
   ]
  },
  {
   "cell_type": "markdown",
   "metadata": {
    "id": "JrLKZUC_fWA4"
   },
   "source": [
    "### Exporting our model."
   ]
  },
  {
   "cell_type": "code",
   "execution_count": 217,
   "metadata": {
    "id": "vClmfzl2el5T"
   },
   "outputs": [],
   "source": []
  },
  {
   "cell_type": "code",
   "execution_count": 218,
   "metadata": {
    "id": "TX5qomp_boae"
   },
   "outputs": [],
   "source": [
    "import pickle\n",
    "\n",
    "pickle.dump(df,open('df.pkl','wb'))\n",
    "pickle.dump(pipe,open('pipe.pkl','wb'))"
   ]
  },
  {
   "cell_type": "code",
   "execution_count": 218,
   "metadata": {
    "id": "ysvzgDTsboX_"
   },
   "outputs": [],
   "source": []
  },
  {
   "cell_type": "code",
   "execution_count": 218,
   "metadata": {
    "id": "7H6A8sMhhkij"
   },
   "outputs": [],
   "source": []
  },
  {
   "cell_type": "code",
   "execution_count": 219,
   "metadata": {
    "colab": {
     "base_uri": "https://localhost:8080/",
     "height": 204
    },
    "id": "47wmoGHZhkgp",
    "outputId": "22a8a578-f633-4ca1-8624-6dc20680d571"
   },
   "outputs": [
    {
     "data": {
      "text/html": [
       "<div>\n",
       "<style scoped>\n",
       "    .dataframe tbody tr th:only-of-type {\n",
       "        vertical-align: middle;\n",
       "    }\n",
       "\n",
       "    .dataframe tbody tr th {\n",
       "        vertical-align: top;\n",
       "    }\n",
       "\n",
       "    .dataframe thead th {\n",
       "        text-align: right;\n",
       "    }\n",
       "</style>\n",
       "<table border=\"1\" class=\"dataframe\">\n",
       "  <thead>\n",
       "    <tr style=\"text-align: right;\">\n",
       "      <th></th>\n",
       "      <th>region</th>\n",
       "      <th>fpl_value</th>\n",
       "      <th>age_cat</th>\n",
       "      <th>new_signing</th>\n",
       "      <th>new_foreign</th>\n",
       "      <th>club_id</th>\n",
       "      <th>fpl_points</th>\n",
       "      <th>nationality</th>\n",
       "      <th>big_club</th>\n",
       "      <th>page_views</th>\n",
       "      <th>fpl_sel</th>\n",
       "      <th>position_cat</th>\n",
       "    </tr>\n",
       "  </thead>\n",
       "  <tbody>\n",
       "    <tr>\n",
       "      <th>175</th>\n",
       "      <td>2</td>\n",
       "      <td>4.5</td>\n",
       "      <td>1</td>\n",
       "      <td>0</td>\n",
       "      <td>0</td>\n",
       "      <td>8</td>\n",
       "      <td>0</td>\n",
       "      <td>Denmark</td>\n",
       "      <td>0</td>\n",
       "      <td>157</td>\n",
       "      <td>0.1</td>\n",
       "      <td>2</td>\n",
       "    </tr>\n",
       "    <tr>\n",
       "      <th>322</th>\n",
       "      <td>2</td>\n",
       "      <td>7.0</td>\n",
       "      <td>3</td>\n",
       "      <td>0</td>\n",
       "      <td>0</td>\n",
       "      <td>14</td>\n",
       "      <td>38</td>\n",
       "      <td>Italy</td>\n",
       "      <td>0</td>\n",
       "      <td>2012</td>\n",
       "      <td>5.2</td>\n",
       "      <td>1</td>\n",
       "    </tr>\n",
       "    <tr>\n",
       "      <th>423</th>\n",
       "      <td>1</td>\n",
       "      <td>4.5</td>\n",
       "      <td>6</td>\n",
       "      <td>0</td>\n",
       "      <td>0</td>\n",
       "      <td>19</td>\n",
       "      <td>113</td>\n",
       "      <td>England</td>\n",
       "      <td>0</td>\n",
       "      <td>484</td>\n",
       "      <td>20.7</td>\n",
       "      <td>4</td>\n",
       "    </tr>\n",
       "    <tr>\n",
       "      <th>344</th>\n",
       "      <td>2</td>\n",
       "      <td>5.5</td>\n",
       "      <td>3</td>\n",
       "      <td>0</td>\n",
       "      <td>0</td>\n",
       "      <td>15</td>\n",
       "      <td>30</td>\n",
       "      <td>Spain</td>\n",
       "      <td>0</td>\n",
       "      <td>1325</td>\n",
       "      <td>0.2</td>\n",
       "      <td>1</td>\n",
       "    </tr>\n",
       "    <tr>\n",
       "      <th>19</th>\n",
       "      <td>1</td>\n",
       "      <td>5.0</td>\n",
       "      <td>1</td>\n",
       "      <td>1</td>\n",
       "      <td>0</td>\n",
       "      <td>1</td>\n",
       "      <td>32</td>\n",
       "      <td>England</td>\n",
       "      <td>1</td>\n",
       "      <td>666</td>\n",
       "      <td>1.7</td>\n",
       "      <td>3</td>\n",
       "    </tr>\n",
       "  </tbody>\n",
       "</table>\n",
       "</div>"
      ],
      "text/plain": [
       "     region  fpl_value  age_cat  ...  page_views  fpl_sel  position_cat\n",
       "175       2        4.5        1  ...         157      0.1             2\n",
       "322       2        7.0        3  ...        2012      5.2             1\n",
       "423       1        4.5        6  ...         484     20.7             4\n",
       "344       2        5.5        3  ...        1325      0.2             1\n",
       "19        1        5.0        1  ...         666      1.7             3\n",
       "\n",
       "[5 rows x 12 columns]"
      ]
     },
     "execution_count": 219,
     "metadata": {},
     "output_type": "execute_result"
    }
   ],
   "source": [
    "X_test.head()"
   ]
  },
  {
   "cell_type": "code",
   "execution_count": null,
   "metadata": {
    "id": "Kwd9LBftXyxj"
   },
   "outputs": [],
   "source": []
  },
  {
   "cell_type": "code",
   "execution_count": null,
   "metadata": {
    "id": "2roJC7jWXyvL"
   },
   "outputs": [],
   "source": []
  }
 ],
 "metadata": {
  "colab": {
   "collapsed_sections": [],
   "machine_shape": "hm",
   "name": "Football Price Prediction Experiments 1ipynb",
   "provenance": []
  },
  "kernelspec": {
   "display_name": "Python 3",
   "language": "python",
   "name": "python3"
  },
  "language_info": {
   "codemirror_mode": {
    "name": "ipython",
    "version": 3
   },
   "file_extension": ".py",
   "mimetype": "text/x-python",
   "name": "python",
   "nbconvert_exporter": "python",
   "pygments_lexer": "ipython3",
   "version": "3.8.8"
  }
 },
 "nbformat": 4,
 "nbformat_minor": 1
}
